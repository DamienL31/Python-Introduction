{
 "cells": [
  {
   "cell_type": "markdown",
   "metadata": {},
   "source": [
    "# Projet 1. Jeu du juste prix\n",
    "\n",
    "Dans le contexte d'un jeu du juste prix, votre script Python commence par générer un nombre aléatoire et demande ensuite à l'utilisateur de saisir un nombre. Voici une explication détaillée de chaque partie de votre script :\n",
    "\n",
    "### 1. Importation du module `random`\n",
    "\n",
    "```python\n",
    "import random as rd\n",
    "```\n",
    "Cette ligne importe le module `random` sous l'alias `rd`. Le module `random` fournit des fonctions qui génèrent des nombres aléatoires. Ici, `rd` est utilisé comme raccourci pour accéder aux fonctions de `random`.\n",
    "\n",
    "### 2. Génération d'un nombre aléatoire\n",
    "\n",
    "```python\n",
    "nombre_aleatoire = rd.randint(1, 90)\n",
    "print(nombre_aleatoire)\n",
    "```\n",
    "- `rd.randint(1, 90)` génère un nombre entier aléatoire entre 1 et 90 (inclus).\n",
    "- Ce nombre est ensuite assigné à la variable `nombre_aleatoire`.\n",
    "- La fonction `print()` est utilisée pour afficher ce nombre. Dans un jeu du juste prix réel, vous ne montreriez pas ce nombre à l'utilisateur ; ici, il semble être affiché à des fins de débogage.\n",
    "\n",
    "### 3. Interaction avec l'utilisateur\n",
    "\n",
    "```python\n",
    "entree = input(\"Entrez un entier supérieur à 10 : \")\n",
    "```\n",
    "- `input()` est une fonction intégrée en Python qui permet de saisir une entrée utilisateur sous forme de texte (chaîne de caractères).\n",
    "- Le message `\"Entrez un entier supérieur à 10 : \"` est affiché à l'utilisateur, l'invitant à saisir une valeur.\n",
    "- La valeur saisie par l'utilisateur est ensuite stockée dans la variable `entree`.\n"
   ]
  },
  {
   "cell_type": "code",
   "execution_count": 14,
   "metadata": {},
   "outputs": [
    {
     "data": {
      "text/plain": [
       "39"
      ]
     },
     "execution_count": 14,
     "metadata": {},
     "output_type": "execute_result"
    }
   ],
   "source": []
  },
  {
   "cell_type": "code",
   "execution_count": 18,
   "metadata": {},
   "outputs": [
    {
     "name": "stdout",
     "output_type": "stream",
     "text": [
      "Entrez un entier entre 1 et 90 : e\n"
     ]
    },
    {
     "ename": "ValueError",
     "evalue": "invalid literal for int() with base 10: 'e'",
     "output_type": "error",
     "traceback": [
      "\u001b[1;31m---------------------------------------------------------------------------\u001b[0m",
      "\u001b[1;31mValueError\u001b[0m                                Traceback (most recent call last)",
      "Cell \u001b[1;32mIn[18], line 8\u001b[0m\n\u001b[0;32m      6\u001b[0m tentatives \u001b[38;5;241m=\u001b[39m \u001b[38;5;241m0\u001b[39m\n\u001b[0;32m      7\u001b[0m \u001b[38;5;28;01mwhile\u001b[39;00m tentatives \u001b[38;5;241m<\u001b[39m \u001b[38;5;241m5\u001b[39m:\n\u001b[1;32m----> 8\u001b[0m     entree \u001b[38;5;241m=\u001b[39m \u001b[38;5;28mint\u001b[39m(\u001b[38;5;28minput\u001b[39m(\u001b[38;5;124m\"\u001b[39m\u001b[38;5;124mEntrez un entier entre 1 et 90 : \u001b[39m\u001b[38;5;124m\"\u001b[39m))\n\u001b[0;32m      9\u001b[0m     tentatives \u001b[38;5;241m+\u001b[39m\u001b[38;5;241m=\u001b[39m \u001b[38;5;241m1\u001b[39m\n\u001b[0;32m     11\u001b[0m     \u001b[38;5;28;01mif\u001b[39;00m entree \u001b[38;5;241m<\u001b[39m nombre_aleatoire:\n",
      "\u001b[1;31mValueError\u001b[0m: invalid literal for int() with base 10: 'e'"
     ]
    }
   ],
   "source": [
    "import random\n",
    "\n",
    "nombre_aleatoire = random.randint(1, 90)\n",
    "nombre_aleatoire\n",
    "\n",
    "tentatives = 0\n",
    "while tentatives < 5:\n",
    "    entree = int(input(\"Entrez un entier entre 1 et 90 : \"))\n",
    "    tentatives += 1\n",
    "    \n",
    "    if entree < nombre_aleatoire:\n",
    "        print(\"Trop bas!\")\n",
    "    elif entree > nombre_aleatoire:\n",
    "        print(\"Trop haut!\")\n",
    "    else:\n",
    "        print(f\"Félicitations ! Vous avez trouvé en {tentatives} tentatives.\")\n",
    "        break"
   ]
  },
  {
   "cell_type": "code",
   "execution_count": null,
   "metadata": {},
   "outputs": [],
   "source": [
    "tentatives = 0\n",
    "\n",
    "while True:\n",
    "    entree = int(input(\"Entrez un entier entre 1 et 90 : \"))\n",
    "    tentatives += 1\n",
    "    # tentatives = tentatives + 1 \n",
    "    \n",
    "    if entree < nombre_aleatoire:\n",
    "        print(\"Trop bas!\")\n",
    "    elif entree > nombre_aleatoire:\n",
    "        print(\"Trop haut!\")\n",
    "    else:\n",
    "        print(f\"Félicitations ! Vous avez trouvé en {tentatives} tentatives.\")\n",
    "        break"
   ]
  }
 ],
 "metadata": {
  "kernelspec": {
   "display_name": "Python 3 (ipykernel)",
   "language": "python",
   "name": "python3"
  },
  "language_info": {
   "codemirror_mode": {
    "name": "ipython",
    "version": 3
   },
   "file_extension": ".py",
   "mimetype": "text/x-python",
   "name": "python",
   "nbconvert_exporter": "python",
   "pygments_lexer": "ipython3",
   "version": "3.11.4"
  }
 },
 "nbformat": 4,
 "nbformat_minor": 2
}
