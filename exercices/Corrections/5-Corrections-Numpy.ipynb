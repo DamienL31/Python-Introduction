{
 "cells": [
  {
   "cell_type": "code",
   "execution_count": 1,
   "metadata": {},
   "outputs": [],
   "source": [
    "import numpy as np "
   ]
  },
  {
   "cell_type": "markdown",
   "metadata": {},
   "source": [
    "#### Exercice 0 : S'échauffer\n",
    "Créez un tableau NumPy de valeurs de 0 à 2π divisé en 100 parties.\n",
    "Calculez le sinus et le cosinus de ces valeurs.\n",
    "Utilisez `np.round()` pour arrondir les résultats à 2 décimales.\n"
   ]
  },
  {
   "cell_type": "code",
   "execution_count": 10,
   "metadata": {},
   "outputs": [],
   "source": [
    "tab = np.linspace(1, 2 * np.pi, 100)"
   ]
  },
  {
   "cell_type": "code",
   "execution_count": 11,
   "metadata": {},
   "outputs": [
    {
     "data": {
      "text/plain": [
       "array([ 0.54,  0.49,  0.45,  0.4 ,  0.35,  0.3 ,  0.25,  0.2 ,  0.14,\n",
       "        0.09,  0.04, -0.02, -0.07, -0.12, -0.18, -0.23, -0.28, -0.33,\n",
       "       -0.38, -0.43, -0.48, -0.52, -0.57, -0.61, -0.65, -0.69, -0.73,\n",
       "       -0.76, -0.8 , -0.83, -0.86, -0.88, -0.91, -0.93, -0.95, -0.96,\n",
       "       -0.98, -0.99, -0.99, -1.  , -1.  , -1.  , -1.  , -0.99, -0.98,\n",
       "       -0.97, -0.95, -0.93, -0.91, -0.89, -0.86, -0.84, -0.81, -0.77,\n",
       "       -0.74, -0.7 , -0.66, -0.62, -0.58, -0.53, -0.49, -0.44, -0.39,\n",
       "       -0.34, -0.29, -0.24, -0.19, -0.14, -0.08, -0.03,  0.02,  0.08,\n",
       "        0.13,  0.18,  0.23,  0.29,  0.34,  0.39,  0.44,  0.48,  0.53,\n",
       "        0.57,  0.62,  0.66,  0.7 ,  0.73,  0.77,  0.8 ,  0.83,  0.86,\n",
       "        0.89,  0.91,  0.93,  0.95,  0.96,  0.98,  0.99,  0.99,  1.  ,\n",
       "        1.  ])"
      ]
     },
     "execution_count": 11,
     "metadata": {},
     "output_type": "execute_result"
    }
   ],
   "source": [
    "tab_cos = np.cos(tab).round(2)\n",
    "tab_cos"
   ]
  },
  {
   "cell_type": "code",
   "execution_count": 12,
   "metadata": {},
   "outputs": [
    {
     "data": {
      "text/plain": [
       "array([ 0.84,  0.87,  0.89,  0.92,  0.94,  0.95,  0.97,  0.98,  0.99,\n",
       "        1.  ,  1.  ,  1.  ,  1.  ,  0.99,  0.98,  0.97,  0.96,  0.94,\n",
       "        0.92,  0.9 ,  0.88,  0.85,  0.82,  0.79,  0.76,  0.72,  0.68,\n",
       "        0.64,  0.6 ,  0.56,  0.51,  0.47,  0.42,  0.37,  0.32,  0.27,\n",
       "        0.22,  0.17,  0.11,  0.06,  0.01, -0.05, -0.1 , -0.15, -0.21,\n",
       "       -0.26, -0.31, -0.36, -0.41, -0.46, -0.5 , -0.55, -0.59, -0.63,\n",
       "       -0.67, -0.71, -0.75, -0.78, -0.82, -0.85, -0.87, -0.9 , -0.92,\n",
       "       -0.94, -0.96, -0.97, -0.98, -0.99, -1.  , -1.  , -1.  , -1.  ,\n",
       "       -0.99, -0.98, -0.97, -0.96, -0.94, -0.92, -0.9 , -0.88, -0.85,\n",
       "       -0.82, -0.79, -0.75, -0.72, -0.68, -0.64, -0.6 , -0.55, -0.51,\n",
       "       -0.46, -0.41, -0.36, -0.31, -0.26, -0.21, -0.16, -0.11, -0.05,\n",
       "       -0.  ])"
      ]
     },
     "execution_count": 12,
     "metadata": {},
     "output_type": "execute_result"
    }
   ],
   "source": [
    "tab_sin = np.sin(tab).round(2)\n",
    "tab_sin"
   ]
  },
  {
   "cell_type": "markdown",
   "metadata": {},
   "source": [
    "### Exercice 1 : Le Jeu du Bingo\n",
    "Créez un programme qui génère une carte de bingo 5x5 où chaque cellule contient un nombre aléatoire unique entre 1 et 75.\n",
    "\n",
    "Ensuite, simulez le tirage de numéros aléatoires entre 1 et 75 et marquez les numéros sur votre carte de bingo. \n",
    "\n",
    "Le but est de voir combien de tirages sont nécessaires pour compléter une ligne ou une colonne."
   ]
  },
  {
   "cell_type": "code",
   "execution_count": 8,
   "metadata": {},
   "outputs": [
    {
     "name": "stdout",
     "output_type": "stream",
     "text": [
      " Nombre de tirage :16\n",
      "Une colonne complétée\n"
     ]
    },
    {
     "data": {
      "text/plain": [
       "(array([['*', '53', '*', '*', '*'],\n",
       "        ['*', '*', '*', '66', '42'],\n",
       "        ['40', '12', '*', '50', '*'],\n",
       "        ['*', '*', '*', '9', '*'],\n",
       "        ['*', '55', '*', '22', '17']], dtype='<U11'),\n",
       " array([[ 3, 53, 11, 13,  2],\n",
       "        [23, 25, 21, 66, 42],\n",
       "        [40, 12, 74, 50, 73],\n",
       "        [10, 14, 48,  9, 49],\n",
       "        [19, 55,  6, 22, 17]]))"
      ]
     },
     "execution_count": 8,
     "metadata": {},
     "output_type": "execute_result"
    }
   ],
   "source": [
    "# Importation des modules nécessaires\n",
    "import random\n",
    "import numpy as np \n",
    "\n",
    "def bingo():\n",
    "    # Création d'une carte de bingo de 5x5 avec des nombres aléatoires uniques de 1 à 75\n",
    "    carte_bingo = np.array(random.sample(range(1, 76), 25)).reshape(5, 5)\n",
    "    \n",
    "    # Initialisation d'un ensemble pour conserver les numéros tirés\n",
    "    numeros_tires = set()\n",
    "\n",
    "    # Compteur pour le nombre de tirages\n",
    "    n_tirage = 1\n",
    "\n",
    "    # Boucle infinie pour simuler le jeu de bingo\n",
    "    while(True):        \n",
    "        # Tirage de 5 nombres aléatoires uniques de 1 à 75\n",
    "        tirage_nombres = set(random.sample(range(1, 76), 5))\n",
    "\n",
    "        # Mise à jour de l'ensemble des numéros tirés\n",
    "        numeros_tires.update(tirage_nombres)\n",
    "    \n",
    "        # Mise à jour de la carte de bingo, en remplaçant les numéros tirés par '*'\n",
    "        carte_bingo_updated = [['*' if num in numeros_tires else num for num in row] for row in carte_bingo]\n",
    "        carte_bingo_updated = np.array(carte_bingo_updated)  \n",
    "\n",
    "        # Vérification de l'achèvement d'une colonne\n",
    "        colonne_full = np.sum(carte_bingo_updated == \"*\", axis=0)\n",
    "        if 5 in colonne_full:\n",
    "            print(f\" Nombre de tirage :{n_tirage}\")\n",
    "            print(\"Une colonne complétée\")\n",
    "            break\n",
    "\n",
    "        # Vérification de l'achèvement d'une ligne\n",
    "        ligne_full = np.sum(carte_bingo_updated == \"*\", axis=1)\n",
    "        if 5 in ligne_full:\n",
    "            print(f\" Nombre de tirage :{n_tirage}\")\n",
    "            print(\"Une ligne complétée\")\n",
    "            break\n",
    "\n",
    "        # Incrémentation du compteur de tirage\n",
    "        n_tirage += 1\n",
    "\n",
    "    # Retour de la carte de bingo mise à jour\n",
    "    return carte_bingo_updated\n",
    "\n",
    "# Appel de la fonction bingo pour lancer le jeu\n",
    "bingo()\n"
   ]
  },
  {
   "cell_type": "markdown",
   "metadata": {},
   "source": [
    "### Exercice 2 : Le Puzzle des Pixels\n",
    "Imaginez un tableau NumPy 10x10 rempli de zéros. \n",
    "\n",
    "Écrivez un programme qui change la couleur (valeur) de pixels aléatoires pour créer un motif ou une image.\n",
    "\n",
    "Vous pouvez par exemple essayer de créer un motif en damier.\n",
    "\n"
   ]
  },
  {
   "cell_type": "code",
   "execution_count": 21,
   "metadata": {},
   "outputs": [
    {
     "data": {
      "image/png": "[encoded data removed]",
      "text/plain": [
       "<Figure size 640x480 with 1 Axes>"
      ]
     },
     "metadata": {},
     "output_type": "display_data"
    }
   ],
   "source": [
    "# Importation des modules nécessaires\n",
    "import random           # Importe le module 'random' pour générer des nombres aléatoires (non utilisé dans ce code)\n",
    "import numpy as np      # Importe le module 'numpy' pour les opérations sur les tableaux\n",
    "\n",
    "###### OPTIONNEL\n",
    "import matplotlib.pyplot as plt  # Importe le module 'matplotlib.pyplot' pour la visualisation de données\n",
    "\n",
    "# Créer un tableau NumPy 10x10 rempli de zéros\n",
    "tableau = np.zeros((10, 10), dtype=int)  # Initialise un tableau 10x10 avec des zéros, en spécifiant un type de données entier\n",
    "\n",
    "# Créer un motif en damier\n",
    "for i in range(tableau.shape[0]):        # Boucle sur les lignes du tableau\n",
    "    for j in range(tableau.shape[1]):    # Boucle sur les colonnes du tableau\n",
    "        if (i + j) % 2 == 0:            # Vérifie si la somme des indices de ligne et de colonne est divisible par 10\n",
    "            tableau[i, j] = 1            # Si vrai, change la valeur du pixel en 1 pour créer un motif\n",
    "\n",
    "# Afficher le tableau avec le motif en damier\n",
    "tableau_damier = tableau                 # Assignation du tableau modifié à une nouvelle variable (optionnel)\n",
    "tableau_damier                           # Affiche le tableau en sortie (utile dans un environnement de notebook)\n",
    "\n",
    "###### OPTIONNEL\n",
    "# Utiliser matplotlib pour afficher le tableau en damier comme une image\n",
    "plt.imshow(tableau_damier, cmap='gray')  # Utilise 'imshow' pour afficher le tableau sous forme d'image, avec une carte des couleurs en gris\n",
    "plt.title(\"Motif en Damier\")             # Ajoute un titre à l'image\n",
    "plt.show()                               # Affiche l'image"
   ]
  },
  {
   "cell_type": "markdown",
   "metadata": {},
   "source": [
    "### Exercice 3 : Le Labyrinthe\n",
    "\n",
    "Objectif : Créer un jeu de labyrinthe où le joueur doit naviguer à travers pour atteindre une sortie.\n",
    "\n",
    "Description :\n",
    "1. Génération du Labyrinthe : Écrivez une fonction `generer_labyrinthe(taille)` qui crée un labyrinthe de taille `n x n`. \n",
    "Chaque cellule du labyrinthe est accessible ou non, déterminé de manière aléatoire.\n",
    "\n",
    "import numpy as np\n",
    "import random\n",
    "\n",
    "def generer_labyrinthe(taille):\n",
    "    labyrinthe = np.random.choice([0, 1], size=(taille, taille), p=[0.7, 0.3])\n",
    "    labyrinthe[0, 0] = 0  # Point de départ\n",
    "    labyrinthe[taille-1, taille-1] = 0  # Sortie\n",
    "    return labyrinthe\n",
    "\n",
    "generer_labyrinthe(10)\n",
    "\n",
    "2. Affichage du Labyrinthe : Créez une fonction `afficher_labyrinthe(labyrinthe)` qui affiche le labyrinthe sur la console. Utilisez différents caractères pour les murs, les chemins libres, la position du joueur, et la sortie.\n",
    "\n",
    "3. Mouvement du Joueur : Implémentez une fonction `deplacer_joueur(labyrinthe, position, mouvement)` qui déplace le joueur dans le labyrinthe. Le joueur ne peut pas traverser les murs et ne peut se déplacer que dans les limites du labyrinthe.\n",
    "\n",
    "4. Trouver la Sortie : Le joueur doit naviguer à travers le labyrinthe pour trouver la sortie. Écrivez une fonction `trouver_sortie(labyrinthe, position_joueur)` qui détermine si le joueur a atteint la sortie.\n",
    "\n",
    "5. Jeu Principal : Créez une fonction `jouer()` qui utilise toutes les fonctions ci-dessus pour créer une expérience de jeu interactive. Le joueur peut entrer des commandes pour se déplacer dans le labyrinthe.\n",
    "\n",
    "Défis supplémentaires :\n",
    "- Ajoutez un système de score basé sur le nombre de mouvements effectués.\n",
    "- Intégrez des pièges ou des bonus dans le labyrinthe.\n",
    "- Créez des niveaux de difficulté variés, où la taille du labyrinthe et la complexité augmentent.\n"
   ]
  },
  {
   "cell_type": "markdown",
   "metadata": {},
   "source": [
    "### Exercice 4 : Simulation de Population\n",
    "Créez un tableau NumPy pour représenter un espace 2D où chaque cellule peut être vide ou contenir une créature. \n",
    "\n",
    "Les créatures peuvent se déplacer, se reproduire ou mourir en fonction de règles simples que vous définissez.\n",
    "\n",
    "Par exemple, imaginons que chaque creature tire une lettre:\n",
    "- \"d\" elle se déplace dans une case random et disponible (sans autre créature).\n",
    "- \"r\" elle se reproduit et sa valeur augmente de \"+1\"\n",
    "- \"m\" elle meurt sur le champs\n"
   ]
  },
  {
   "cell_type": "code",
   "execution_count": 27,
   "metadata": {},
   "outputs": [
    {
     "data": {
      "text/plain": [
       "array([[0, 0, 0, 1, 1],\n",
       "       [0, 0, 0, 0, 0],\n",
       "       [0, 0, 0, 0, 0],\n",
       "       [1, 0, 0, 0, 1],\n",
       "       [0, 1, 0, 0, 0]])"
      ]
     },
     "execution_count": 27,
     "metadata": {},
     "output_type": "execute_result"
    }
   ],
   "source": [
    "import numpy as np\n",
    "import random\n",
    "\n",
    "# Initialisation du tableau 2D\n",
    "taille = 5\n",
    "tableau = np.zeros((taille, taille), dtype=int)\n",
    "\n",
    "# Placer quelques créatures au hasard\n",
    "nombre_creatures = 5\n",
    "for _ in range(nombre_creatures):\n",
    "    x, y = np.random.randint(0, taille, size=2)\n",
    "    tableau[x, y] = 1  # Créature de base représentée par 1\n",
    "\n",
    "tableau"
   ]
  },
  {
   "cell_type": "code",
   "execution_count": 28,
   "metadata": {},
   "outputs": [
    {
     "data": {
      "text/plain": [
       "array([[1, 0, 0, 0, 0],\n",
       "       [0, 0, 0, 0, 0],\n",
       "       [1, 0, 0, 0, 0],\n",
       "       [0, 1, 0, 0, 0],\n",
       "       [0, 0, 0, 0, 0]])"
      ]
     },
     "execution_count": 28,
     "metadata": {},
     "output_type": "execute_result"
    }
   ],
   "source": [
    "def mettre_a_jour_tableau(tableau):\n",
    "    taille = tableau.shape[0]\n",
    "    actions = ['d', 'r', 'm']\n",
    "    nouveau_tableau = np.copy(tableau)\n",
    "\n",
    "    for x in range(taille):\n",
    "        for y in range(taille):\n",
    "            if tableau[x, y] > 0:  # Si la cellule contient une créature\n",
    "                action = random.choice(actions)\n",
    "\n",
    "                if action == 'd':  # Déplacement\n",
    "                    # Trouver une case vide\n",
    "                    cases_vides = np.argwhere(nouveau_tableau == 0)\n",
    "                    if len(cases_vides) > 0:\n",
    "                        nouvelle_position = random.choice(cases_vides)\n",
    "                        nouveau_tableau[nouvelle_position[0], nouvelle_position[1]] = nouveau_tableau[x, y]\n",
    "                        nouveau_tableau[x, y] = 0\n",
    "\n",
    "                elif action == 'r':  # Reproduction\n",
    "                    nouveau_tableau[x, y] += 1\n",
    "\n",
    "                elif action == 'm':  # Mort\n",
    "                    nouveau_tableau[x, y] = 0\n",
    "\n",
    "    return nouveau_tableau\n",
    "\n",
    "# Mettre à jour le tableau pour une itération\n",
    "tableau_apres_mise_a_jour = mettre_a_jour_tableau(tableau)\n",
    "tableau_apres_mise_a_jour"
   ]
  },
  {
   "cell_type": "markdown",
   "metadata": {},
   "source": [
    "### Exercice 5 : Analyse de Données de Ventes\n",
    "Imaginez que vous avez des données de ventes pour différents produits. \n",
    "\n",
    "Les données sont représentées dans un tableau NumPy où chaque ligne est un produit et chaque colonne une semaine de vente. \n",
    "\n",
    "Calculez des statistiques comme les ventes moyennes, le produit le plus vendu, la semaine avec les ventes maximales, etc.\n"
   ]
  },
  {
   "cell_type": "code",
   "execution_count": 29,
   "metadata": {},
   "outputs": [
    {
     "data": {
      "text/plain": [
       "(array([[44, 47, 64, 67],\n",
       "        [67,  9, 83, 21],\n",
       "        [36, 87, 70, 88],\n",
       "        [88, 12, 58, 65],\n",
       "        [39, 87, 46, 88]]),\n",
       " array([55.5 , 45.  , 70.25, 55.75, 65.  ]),\n",
       " array([54.8, 48.4, 64.2, 65.8]),\n",
       " 2,\n",
       " 3)"
      ]
     },
     "execution_count": 29,
     "metadata": {},
     "output_type": "execute_result"
    }
   ],
   "source": [
    "# Création d'un tableau fictif de données de ventes\n",
    "np.random.seed(0)  # Pour la reproductibilité\n",
    "ventes = np.random.randint(0, 100, (5, 4))  # 5 produits, 4 semaines\n",
    "\n",
    "# Calcul des statistiques\n",
    "ventes_moyennes_par_produit = np.mean(ventes, axis=1)\n",
    "ventes_moyennes_par_semaine = np.mean(ventes, axis=0)\n",
    "produit_le_plus_vendu = np.argmax(np.sum(ventes, axis=1))\n",
    "semaine_avec_ventes_maximales = np.argmax(np.sum(ventes, axis=0))\n",
    "\n",
    "ventes, ventes_moyennes_par_produit, ventes_moyennes_par_semaine, produit_le_plus_vendu, semaine_avec_ventes_maximales\n"
   ]
  },
  {
   "cell_type": "markdown",
   "metadata": {},
   "source": [
    "### Exercice 6 : Le Morpion\n",
    "Programmez un jeu de morpion simple où deux joueurs entrent leurs coups à tour de rôle. \n",
    "\n",
    "Utilisez un tableau NumPy pour représenter le plateau de jeu (3x3) et \n",
    "\n",
    "vérifiez l'état du jeu après chaque coup pour déterminer le gagnant.\n"
   ]
  },
  {
   "cell_type": "code",
   "execution_count": 30,
   "metadata": {},
   "outputs": [
    {
     "data": {
      "text/plain": [
       "(array([[0, 0, 0],\n",
       "        [0, 1, 0],\n",
       "        [0, 0, 0]]),\n",
       " True,\n",
       " True,\n",
       " 0,\n",
       " False)"
      ]
     },
     "execution_count": 30,
     "metadata": {},
     "output_type": "execute_result"
    }
   ],
   "source": [
    "def initialiser_plateau():\n",
    "    \"\"\"Initialise le plateau de jeu.\"\"\"\n",
    "    return np.zeros((3, 3), dtype=int)\n",
    "\n",
    "def coup_valide(plateau, ligne, colonne):\n",
    "    \"\"\"Vérifie si un coup est valide.\"\"\"\n",
    "    return 0 <= ligne < 3 and 0 <= colonne < 3 and plateau[ligne, colonne] == 0\n",
    "\n",
    "def jouer_coup(plateau, joueur, ligne, colonne):\n",
    "    \"\"\"Joue un coup sur le plateau.\"\"\"\n",
    "    if coup_valide(plateau, ligne, colonne):\n",
    "        plateau[ligne, colonne] = joueur\n",
    "        return True\n",
    "    return False\n",
    "\n",
    "def verifier_gagnant(plateau):\n",
    "    \"\"\"Vérifie si un joueur a gagné.\"\"\"\n",
    "    # Vérifier les lignes, colonnes et diagonales\n",
    "    for i in range(3):\n",
    "        if (plateau[i, :].sum() == 3) or (plateau[:, i].sum() == 3):\n",
    "            return 1  # Joueur 1 gagne\n",
    "        if (plateau[i, :].sum() == 6) or (plateau[:, i].sum() == 6):\n",
    "            return 2  # Joueur 2 gagne\n",
    "    \n",
    "    # Diagonales\n",
    "    if (plateau.trace() == 3) or (np.fliplr(plateau).trace() == 3):\n",
    "        return 1  # Joueur 1 gagne\n",
    "    if (plateau.trace() == 6) or (np.fliplr(plateau).trace() == 6):\n",
    "        return 2  # Joueur 2 gagne\n",
    "\n",
    "    # Pas de gagnant\n",
    "    return 0\n",
    "\n",
    "def plateau_plein(plateau):\n",
    "    \"\"\"Vérifie si le plateau est plein.\"\"\"\n",
    "    return not (plateau == 0).any()\n",
    "\n",
    "# Initialisation du plateau de jeu\n",
    "plateau = initialiser_plateau()\n",
    "plateau, coup_valide(plateau, 1, 1), jouer_coup(plateau, 1, 1, 1), verifier_gagnant(plateau), plateau_plein(plateau)\n"
   ]
  }
 ],
 "metadata": {
  "kernelspec": {
   "display_name": "Python 3",
   "language": "python",
   "name": "python3"
  },
  "language_info": {
   "codemirror_mode": {
    "name": "ipython",
    "version": 3
   },
   "file_extension": ".py",
   "mimetype": "text/x-python",
   "name": "python",
   "nbconvert_exporter": "python",
   "pygments_lexer": "ipython3",
   "version": "3.11.7"
  }
 },
 "nbformat": 4,
 "nbformat_minor": 2
}
