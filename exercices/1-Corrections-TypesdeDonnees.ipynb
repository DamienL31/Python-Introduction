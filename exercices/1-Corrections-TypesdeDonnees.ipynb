{
 "cells": [
  {
   "cell_type": "markdown",
   "metadata": {},
   "source": [
    "# Explication de la compression \n",
    "\n",
    "## Exercice 1 compression \n",
    "\n",
    "\n",
    "1. Écrivez un programme qui détecte le nombre d'occurence de chaque caractère dans une chaîne de caractères. \n",
    "Exemple, \"aabcccccaaa\" deviendrait \"a5b1c5\".\n",
    "\n",
    "2. Écrivez un programme qui compresse une chaîne de caractères en remplaçant les séquences de caractères répétés par le caractère suivi du nombre de répétitions. \n",
    "Exemple, \"aabcccccaaa\" deviendrait \"a2b1c5a3\".\n",
    "\n"
   ]
  },
  {
   "cell_type": "code",
   "execution_count": 57,
   "metadata": {},
   "outputs": [
    {
     "data": {
      "text/plain": [
       "[]"
      ]
     },
     "execution_count": 57,
     "metadata": {},
     "output_type": "execute_result"
    }
   ],
   "source": [
    "chaine =  \"aabcccccaaa\"\n",
    "chaine_compressed = []\n",
    "\n",
    "for i in sorted(set(chaine)):\n",
    "    chaine_compressed.append(i + str(chaine.count(i)))\n",
    "''.join(chaine_compressed)"
   ]
  },
  {
   "cell_type": "code",
   "execution_count": 81,
   "metadata": {},
   "outputs": [
    {
     "data": {
      "text/plain": [
       "'a2b1c5a3'"
      ]
     },
     "execution_count": 81,
     "metadata": {},
     "output_type": "execute_result"
    }
   ],
   "source": [
    "chaine = \"aabcccccaaa\"\n",
    "chaine_compressed = []\n",
    "j = 0\n",
    "\n",
    "while j < len(chaine):\n",
    "    compteur = 1\n",
    "    for i in range(j + 1, len(chaine)):\n",
    "        if chaine[j] == chaine[i]:\n",
    "            compteur += 1\n",
    "        else:\n",
    "            break\n",
    "    chaine_compressed.append(chaine[j] + str(compteur))\n",
    "    j += compteur\n",
    "\n",
    "''.join(chaine_compressed)"
   ]
  },
  {
   "cell_type": "markdown",
   "metadata": {},
   "source": [
    "## Exercice 2 Anagrammes\n",
    "\n",
    "Écrivez un programme qui détecte si deux chaînes sont des anagrammes l'une de l'autre (c'est-à-dire qu'elles contiennent les mêmes lettres dans un ordre différent).\n",
    "exemples :\n",
    "Café – Face\n",
    "Trousses – Roustes\n",
    "Arbre – Barre\n",
    "Désir – Rides\n",
    "Poires – Proies\n",
    "César – Sacré \n",
    "Verre – Rêver\n",
    "Migraine – Imaginer\n",
    "Chien – Niche – Chine\n",
    "Silence – Enclise\n",
    "Réussite – Trieuses- Tireuses\n"
   ]
  },
  {
   "cell_type": "code",
   "execution_count": 84,
   "metadata": {},
   "outputs": [
    {
     "name": "stdout",
     "output_type": "stream",
     "text": [
      "True\n"
     ]
    }
   ],
   "source": [
    "mot1 = 'desir'\n",
    "mot2 = 'rides'\n",
    "\n",
    "if sorted(mot1) == sorted(mot2):\n",
    "    anagramme = True\n",
    "else:\n",
    "    anagramme = False\n",
    "print(anagramme)"
   ]
  },
  {
   "cell_type": "markdown",
   "metadata": {},
   "source": [
    "## Exercice 3 Somme a zero\n",
    "\n",
    "A partir d'une liste de nombres, trouvez un sous-ensemble de nombres dans une liste dont la somme est égale à zéro, s'il existe."
   ]
  },
  {
   "cell_type": "code",
   "execution_count": 104,
   "metadata": {},
   "outputs": [
    {
     "data": {
      "text/plain": [
       "[1, 2, 5, 6]"
      ]
     },
     "execution_count": 104,
     "metadata": {},
     "output_type": "execute_result"
    }
   ],
   "source": [
    "nombres = [1, 20, -20, 2, 3, -6, 6]\n",
    "indice_nombres = indice = full_index =  []\n",
    "j = 0\n",
    "\n",
    "while j < len(nombres):\n",
    "    indice = [j]\n",
    "    for i in range(j + 1, len(nombres)):\n",
    "        if nombres[j] + nombres[i]  == 0:\n",
    "            indice_nombres = indice + [i]\n",
    "            full_index.extend(indice_nombres)\n",
    "        else:\n",
    "            break\n",
    "    j += 1\n",
    "\n",
    "full_index\n"
   ]
  },
  {
   "cell_type": "markdown",
   "metadata": {},
   "source": [
    "## Exercice 4. Plus Longue Séquence Croissante\n",
    "A partir d'une liste de nombres et trouvez la plus longue sous-séquence croissante dans cette liste."
   ]
  },
  {
   "cell_type": "code",
   "execution_count": 132,
   "metadata": {},
   "outputs": [
    {
     "name": "stdout",
     "output_type": "stream",
     "text": [
      "[1, 2, 3, 6, 8, 20, 90, 100, 103]\n"
     ]
    }
   ],
   "source": [
    "nombres = [1, 20, -20, 2, 3, -6, 6, 8, 0, 90, 100, 103]\n",
    "\n",
    "# Extraire la sous-séquence spécifique\n",
    "sous_sequence_extraite = sorted([x for x in nombres if x > 0])\n",
    "\n",
    "print(sous_sequence_extraite)\n"
   ]
  },
  {
   "cell_type": "markdown",
   "metadata": {},
   "source": [
    "## Exercice 5. Mot sans e\n",
    "\n",
    "À partir d'une liste de mots, utilisez une compréhension de liste pour créer une nouvelle liste de mots qui ne contiennent pas la lettre 'e'.\n"
   ]
  },
  {
   "cell_type": "code",
   "execution_count": 136,
   "metadata": {},
   "outputs": [
    {
     "data": {
      "text/plain": [
       "['ananas', 'souris', 'stylo']"
      ]
     },
     "execution_count": 136,
     "metadata": {},
     "output_type": "execute_result"
    }
   ],
   "source": [
    "mots = [\"test\", \"ananas\", \"souris\", \"stylo\", \"ordinateur\"]\n",
    "mots_sans_e = [x for x in mots if \"e\" not in x]\n",
    "mots_sans_e\n"
   ]
  },
  {
   "cell_type": "markdown",
   "metadata": {},
   "source": [
    "## Exercice 6 Nombres premiers  \n",
    "\n",
    "Utilisez une compréhension de liste pour créer une liste de tous les nombres premiers entre 2 et 100.\n"
   ]
  },
  {
   "cell_type": "code",
   "execution_count": 150,
   "metadata": {},
   "outputs": [
    {
     "data": {
      "text/plain": [
       "[2,\n",
       " 3,\n",
       " 5,\n",
       " 7,\n",
       " 11,\n",
       " 13,\n",
       " 17,\n",
       " 19,\n",
       " 23,\n",
       " 29,\n",
       " 31,\n",
       " 37,\n",
       " 41,\n",
       " 43,\n",
       " 47,\n",
       " 53,\n",
       " 59,\n",
       " 61,\n",
       " 67,\n",
       " 71,\n",
       " 73,\n",
       " 79,\n",
       " 83,\n",
       " 89,\n",
       " 97]"
      ]
     },
     "execution_count": 150,
     "metadata": {},
     "output_type": "execute_result"
    }
   ],
   "source": [
    "lst_premier = [x for x in range(2, 101) if all(x % i != 0 for i in range(2, int(x/2) + 1))]\n",
    "lst_premier"
   ]
  }
 ],
 "metadata": {
  "kernelspec": {
   "display_name": "Python 3",
   "language": "python",
   "name": "python3"
  },
  "language_info": {
   "codemirror_mode": {
    "name": "ipython",
    "version": 3
   },
   "file_extension": ".py",
   "mimetype": "text/x-python",
   "name": "python",
   "nbconvert_exporter": "python",
   "pygments_lexer": "ipython3",
   "version": "3.11.7"
  }
 },
 "nbformat": 4,
 "nbformat_minor": 2
}
