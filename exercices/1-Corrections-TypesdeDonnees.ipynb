{
 "cells": [
  {
   "cell_type": "markdown",
   "metadata": {},
   "source": [
    "# Explication de la compression \n",
    "\n",
    "## Exercice 1 compression \n",
    "\n",
    "\n",
    "1. Écrivez un programme qui détecte le nombre d'occurence de chaque caractère dans une chaîne de caractères. \n",
    "Exemple, \"aabcccccaaa\" deviendrait \"a5b1c5\".\n",
    "\n",
    "2. Écrivez un programme qui compresse une chaîne de caractères en remplaçant les séquences de caractères répétés par le caractère suivi du nombre de répétitions. \n",
    "Exemple, \"aabcccccaaa\" deviendrait \"a2b1c5a3\".\n",
    "\n"
   ]
  },
  {
   "cell_type": "code",
   "execution_count": 1,
   "metadata": {},
   "outputs": [
    {
     "data": {
      "text/plain": [
       "'a5b1c5'"
      ]
     },
     "execution_count": 1,
     "metadata": {},
     "output_type": "execute_result"
    }
   ],
   "source": [
    "chaine =  \"aabcccccaaa\"\n",
    "chaine_compressed = []\n",
    "\n",
    "for i in sorted(set(chaine)):\n",
    "    chaine_compressed.append(i + str(chaine.count(i)))\n",
    "''.join(chaine_compressed)"
   ]
  },
  {
   "cell_type": "code",
   "execution_count": 2,
   "metadata": {},
   "outputs": [
    {
     "data": {
      "text/plain": [
       "'a2b1c5a3'"
      ]
     },
     "execution_count": 2,
     "metadata": {},
     "output_type": "execute_result"
    }
   ],
   "source": [
    "chaine = \"aabcccccaaa\"\n",
    "chaine_compressed = []\n",
    "j = 0\n",
    "\n",
    "while j < len(chaine):\n",
    "    compteur = 1\n",
    "    for i in range(j + 1, len(chaine)):\n",
    "        if chaine[j] == chaine[i]:\n",
    "            compteur += 1\n",
    "        else:\n",
    "            break\n",
    "    chaine_compressed.append(chaine[j] + str(compteur))\n",
    "    j += compteur\n",
    "\n",
    "''.join(chaine_compressed)"
   ]
  },
  {
   "cell_type": "markdown",
   "metadata": {},
   "source": [
    "## Exercice 2 Anagrammes\n",
    "\n",
    "Écrivez un programme qui détecte si deux chaînes sont des anagrammes l'une de l'autre (c'est-à-dire qu'elles contiennent les mêmes lettres dans un ordre différent).\n",
    "exemples :\n",
    "Café – Face\n",
    "Trousses – Roustes\n",
    "Arbre – Barre\n",
    "Désir – Rides\n",
    "Poires – Proies\n",
    "César – Sacré \n",
    "Verre – Rêver\n",
    "Migraine – Imaginer\n",
    "Chien – Niche – Chine\n",
    "Silence – Enclise\n",
    "Réussite – Trieuses- Tireuses\n"
   ]
  },
  {
   "cell_type": "code",
   "execution_count": 3,
   "metadata": {},
   "outputs": [
    {
     "name": "stdout",
     "output_type": "stream",
     "text": [
      "True\n"
     ]
    }
   ],
   "source": [
    "mot1 = 'desir'\n",
    "mot2 = 'rides'\n",
    "\n",
    "if sorted(mot1) == sorted(mot2):\n",
    "    anagramme = True\n",
    "else:\n",
    "    anagramme = False\n",
    "print(anagramme)"
   ]
  },
  {
   "cell_type": "markdown",
   "metadata": {},
   "source": [
    "## Exercice 3 Somme a zero\n",
    "\n",
    "A partir d'une liste de nombres, trouvez un sous-ensemble de nombres dans une liste dont la somme est égale à zéro, s'il existe."
   ]
  },
  {
   "cell_type": "code",
   "execution_count": 4,
   "metadata": {},
   "outputs": [
    {
     "data": {
      "text/plain": [
       "[1, 2, 5, 6]"
      ]
     },
     "execution_count": 4,
     "metadata": {},
     "output_type": "execute_result"
    }
   ],
   "source": [
    "nombres = [1, 20, -20, 2, 3, -6, 6]\n",
    "indice_nombres = indice = full_index =  []\n",
    "j = 0\n",
    "\n",
    "while j < len(nombres):\n",
    "    indice = [j]\n",
    "    for i in range(j + 1, len(nombres)):\n",
    "        if nombres[j] + nombres[i]  == 0:\n",
    "            indice_nombres = indice + [i]\n",
    "            full_index.extend(indice_nombres)\n",
    "        else:\n",
    "            break\n",
    "    j += 1\n",
    "\n",
    "full_index\n"
   ]
  },
  {
   "cell_type": "markdown",
   "metadata": {},
   "source": [
    "## Exercice 4. Plus Longue Séquence Croissante\n",
    "A partir d'une liste de nombres et trouvez la plus longue sous-séquence croissante dans cette liste."
   ]
  },
  {
   "cell_type": "code",
   "execution_count": 5,
   "metadata": {},
   "outputs": [
    {
     "name": "stdout",
     "output_type": "stream",
     "text": [
      "[1, 2, 3, 6, 8, 20, 90, 100, 103]\n"
     ]
    }
   ],
   "source": [
    "nombres = [1, 20, -20, 2, 3, -6, 6, 8, 0, 90, 100, 103]\n",
    "\n",
    "# Extraire la sous-séquence spécifique\n",
    "sous_sequence_extraite = sorted([x for x in nombres if x > 0])\n",
    "\n",
    "print(sous_sequence_extraite)\n"
   ]
  },
  {
   "cell_type": "markdown",
   "metadata": {},
   "source": [
    "## Exercice 5. Mot sans e\n",
    "\n",
    "À partir d'une liste de mots, utilisez une compréhension de liste pour créer une nouvelle liste de mots qui ne contiennent pas la lettre 'e'.\n"
   ]
  },
  {
   "cell_type": "code",
   "execution_count": 6,
   "metadata": {},
   "outputs": [
    {
     "data": {
      "text/plain": [
       "['ananas', 'souris', 'stylo']"
      ]
     },
     "execution_count": 6,
     "metadata": {},
     "output_type": "execute_result"
    }
   ],
   "source": [
    "mots = [\"test\", \"ananas\", \"souris\", \"stylo\", \"ordinateur\"]\n",
    "mots_sans_e = [x for x in mots if \"e\" not in x]\n",
    "mots_sans_e\n"
   ]
  },
  {
   "cell_type": "markdown",
   "metadata": {},
   "source": [
    "## Exercice 6 Nombres premiers  \n",
    "\n",
    "Utilisez une compréhension de liste pour créer une liste de tous les nombres premiers entre 2 et 100.\n"
   ]
  },
  {
   "cell_type": "code",
   "execution_count": 7,
   "metadata": {},
   "outputs": [
    {
     "data": {
      "text/plain": [
       "[2,\n",
       " 3,\n",
       " 5,\n",
       " 7,\n",
       " 11,\n",
       " 13,\n",
       " 17,\n",
       " 19,\n",
       " 23,\n",
       " 29,\n",
       " 31,\n",
       " 37,\n",
       " 41,\n",
       " 43,\n",
       " 47,\n",
       " 53,\n",
       " 59,\n",
       " 61,\n",
       " 67,\n",
       " 71,\n",
       " 73,\n",
       " 79,\n",
       " 83,\n",
       " 89,\n",
       " 97]"
      ]
     },
     "execution_count": 7,
     "metadata": {},
     "output_type": "execute_result"
    }
   ],
   "source": [
    "lst_premier = [x for x in range(2, 101) if all(x % i != 0 for i in range(2, int(x/2) + 1))]\n",
    "lst_premier"
   ]
  },
  {
   "cell_type": "markdown",
   "metadata": {},
   "source": [
    "## Exercice 7 Conversion temperature \n",
    "À partir d'une liste de températures en degrés Celsius, utilisez une compréhension de liste pour créer une liste des températures converties en degrés Fahrenheit. formule = (0 °C × 9/5) + 32"
   ]
  },
  {
   "cell_type": "code",
   "execution_count": 8,
   "metadata": {},
   "outputs": [
    {
     "data": {
      "text/plain": [
       "[32.0,\n",
       " 33.8,\n",
       " 35.6,\n",
       " 37.4,\n",
       " 39.2,\n",
       " 41.0,\n",
       " 42.8,\n",
       " 44.6,\n",
       " 46.4,\n",
       " 48.2,\n",
       " 50.0,\n",
       " 51.8,\n",
       " 53.6,\n",
       " 55.400000000000006,\n",
       " 57.2,\n",
       " 59.0,\n",
       " 60.8,\n",
       " 62.6,\n",
       " 64.4,\n",
       " 66.2,\n",
       " 68.0,\n",
       " 69.80000000000001,\n",
       " 71.6,\n",
       " 73.4,\n",
       " 75.2,\n",
       " 77.0,\n",
       " 78.80000000000001,\n",
       " 80.6,\n",
       " 82.4,\n",
       " 84.2,\n",
       " 86.0,\n",
       " 87.80000000000001,\n",
       " 89.6,\n",
       " 91.4,\n",
       " 93.2,\n",
       " 95.0,\n",
       " 96.8,\n",
       " 98.60000000000001,\n",
       " 100.4,\n",
       " 102.2,\n",
       " 104.0,\n",
       " 105.8,\n",
       " 107.60000000000001,\n",
       " 109.4,\n",
       " 111.2,\n",
       " 113.0,\n",
       " 114.8,\n",
       " 116.60000000000001,\n",
       " 118.4,\n",
       " 120.2]"
      ]
     },
     "execution_count": 8,
     "metadata": {},
     "output_type": "execute_result"
    }
   ],
   "source": [
    "temperature_conv = [x * (9/5)+ 32 for x in range(0, 50)]\n",
    "temperature_conv"
   ]
  }
 ],
 "metadata": {
  "kernelspec": {
   "display_name": "Python 3",
   "language": "python",
   "name": "python3"
  },
  "language_info": {
   "codemirror_mode": {
    "name": "ipython",
    "version": 3
   },
   "file_extension": ".py",
   "mimetype": "text/x-python",
   "name": "python",
   "nbconvert_exporter": "python",
   "pygments_lexer": "ipython3",
   "version": "3.11.7"
  }
 },
 "nbformat": 4,
 "nbformat_minor": 2
}
