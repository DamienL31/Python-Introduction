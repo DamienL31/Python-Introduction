{
 "cells": [
  {
   "cell_type": "markdown",
   "metadata": {},
   "source": [
    "Dans cet exercice, vous allez devoir récupérer les éléments communs aux deux listes dans une variable resultat.\n",
    "\n",
    "Dans ce cas-ci, votre liste commune devra contenir les nombres 5, 7, et 10.\n",
    "\n",
    "Vous pouvez utiliser les sets pour cet exercice"
   ]
  },
  {
   "cell_type": "code",
   "execution_count": 2,
   "metadata": {},
   "outputs": [
    {
     "data": {
      "text/plain": [
       "{5, 7, 10}"
      ]
     },
     "execution_count": 2,
     "metadata": {},
     "output_type": "execute_result"
    }
   ],
   "source": [
    "liste_01 = [1, 5, 6, 7, 9, 10, 11]\n",
    "liste_02 = [2, 3, 5, 7, 8, 10, 12]\n",
    "\n",
    "resultat = set(liste_01) & set(liste_02)\n",
    "resultat"
   ]
  },
  {
   "cell_type": "markdown",
   "metadata": {},
   "source": [
    "Dans cet exemple, nous devons remplacer 'Julie' par 'Julien' dans tous les éléments de la liste.\n",
    "\n",
    "La variable liste doit donc contenir les valeurs suivantes\n",
    "\n",
    "['Pierre', 'Marie', 'Julien', 'Adrien', 'Julien']"
   ]
  },
  {
   "cell_type": "code",
   "execution_count": 7,
   "metadata": {},
   "outputs": [
    {
     "data": {
      "text/plain": [
       "['Pierre', 'Marie', 'Julien', 'Adrien', 'Julien']"
      ]
     },
     "execution_count": 7,
     "metadata": {},
     "output_type": "execute_result"
    }
   ],
   "source": [
    "liste = [\"Pierre\", \"Marie\", \"Julie\", \"Adrien\", \"Julie\"]\n",
    "\n",
    "nom_a_chercher = \"Julie\"\n",
    "nouveau_nom = \"Julien\"\n",
    "\n",
    "newlist = [nouveau_nom if n == nom_a_chercher else n for n in liste ]\n",
    "newlist"
   ]
  },
  {
   "cell_type": "markdown",
   "metadata": {},
   "source": [
    "Dans cet exercice, vous devez utiliser les indices et les slices pour récupérer des parties d'une chaîne de caractères :\n",
    "\n",
    "La chaîne de caractères \"Doc\" dans la variable le_doc, à partir de la variable site_web.\n",
    "La chaîne de caractères \"thon\" dans la variable le_python à partir de la variable langage.\n",
    "La première lettre de la chaîne de caractères contenue dans la variable prenom, dans la variable lettre."
   ]
  },
  {
   "cell_type": "code",
   "execution_count": 17,
   "metadata": {},
   "outputs": [],
   "source": [
    "site_web = \"Docstring\"\n",
    "langage = \"Python\"\n",
    "prenom = \"Patrick\"\n",
    "\n",
    "le_doc = site_web[0:4]\n",
    "le_python = langage[-4:]\n",
    "lettre = prenom[0]"
   ]
  },
  {
   "cell_type": "code",
   "execution_count": 27,
   "metadata": {},
   "outputs": [
    {
     "name": "stdout",
     "output_type": "stream",
     "text": [
      "[2, 4, 6, 8, 10, 12, 14, 16, 18, 20, 22, 24, 26, 28, 30, 32, 34, 36, 38, 40, 42, 44, 46, 48, 50, 52, 54, 56, 58, 60, 62, 64, 66, 68, 70, 72, 74, 76, 78, 80, 82, 84, 86, 88, 90, 92, 94, 96, 98]\n"
     ]
    }
   ],
   "source": [
    "liste = list(range(2, 100,2))\n",
    "print(liste)"
   ]
  }
 ],
 "metadata": {
  "kernelspec": {
   "display_name": "Python 3",
   "language": "python",
   "name": "python3"
  },
  "language_info": {
   "codemirror_mode": {
    "name": "ipython",
    "version": 3
   },
   "file_extension": ".py",
   "mimetype": "text/x-python",
   "name": "python",
   "nbconvert_exporter": "python",
   "pygments_lexer": "ipython3",
   "version": "3.11.7"
  }
 },
 "nbformat": 4,
 "nbformat_minor": 2
}
