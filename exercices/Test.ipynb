{
 "cells": [
  {
   "cell_type": "code",
   "execution_count": 12,
   "metadata": {},
   "outputs": [
    {
     "name": "stdout",
     "output_type": "stream",
     "text": [
      "Welcome to the juste prix, voici les regles\n",
      "42 sera le juste prix\n"
     ]
    },
    {
     "name": "stdout",
     "output_type": "stream",
     "text": [
      " Donnez moi un chiffre plus petit\n",
      " Donnez moi un chiffre plus petit\n",
      " felicitation c est gagne\n"
     ]
    }
   ],
   "source": [
    "print(\"Welcome to the juste prix, voici les regles\")\n",
    "\n",
    "import random \n",
    "\n",
    "justeprix = random.randint(1,100)\n",
    "print(f\"{justeprix} sera le juste prix\")\n",
    "\n",
    "i = 10000\n",
    "\n",
    "while i != justeprix:\n",
    "    i = int(input(\" Saissiez un nombre: \"))\n",
    "    if  i < justeprix:\n",
    "            print(\"Donnez un chiffre plus grand\")\n",
    "    elif i > justeprix:\n",
    "            print(\" Donnez moi un chiffre plus petit\")\n",
    "    else:\n",
    "        print(\" felicitation c est gagne\")\n",
    "        break\n",
    "\n"
   ]
  },
  {
   "cell_type": "code",
   "execution_count": null,
   "metadata": {},
   "outputs": [],
   "source": []
  }
 ],
 "metadata": {
  "kernelspec": {
   "display_name": "Python 3",
   "language": "python",
   "name": "python3"
  },
  "language_info": {
   "codemirror_mode": {
    "name": "ipython",
    "version": 3
   },
   "file_extension": ".py",
   "mimetype": "text/x-python",
   "name": "python",
   "nbconvert_exporter": "python",
   "pygments_lexer": "ipython3",
   "version": "3.12.0"
  }
 },
 "nbformat": 4,
 "nbformat_minor": 2
}
