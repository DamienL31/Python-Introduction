{
 "cells": [
  {
   "cell_type": "code",
   "execution_count": 13,
   "metadata": {},
   "outputs": [
    {
     "name": "stdout",
     "output_type": "stream",
     "text": [
      "Welcome to the juste prix, voici les regles\n",
      "14 sera le juste prix\n",
      " felicitation c est gagne\n"
     ]
    },
    {
     "data": {
      "text/plain": [
       "''"
      ]
     },
     "execution_count": 13,
     "metadata": {},
     "output_type": "execute_result"
    }
   ],
   "source": [
    "print(\"Welcome to the juste prix, voici les regles\")\n",
    "\n",
    "import random \n",
    "\n",
    "justeprix = random.randint(1,100)\n",
    "print(f\"{justeprix} sera le juste prix\")\n",
    "\n",
    "i = 10000\n",
    "\n",
    "while i != justeprix:\n",
    "    i = int(input(\" Saissiez un nombre: \"))\n",
    "    if  i < justeprix:\n",
    "            print(\"Donnez un chiffre plus grand\")\n",
    "    elif i > justeprix:\n",
    "            print(\" Donnez moi un chiffre plus petit\")\n",
    "    else:\n",
    "        print(\" felicitation c est gagne\")\n",
    "        break\n",
    "\n",
    "\n",
    "\n",
    "\n",
    "\n"
   ]
  },
  {
   "cell_type": "code",
   "execution_count": 20,
   "metadata": {},
   "outputs": [
    {
     "name": "stdout",
     "output_type": "stream",
     "text": [
      "lo w\n"
     ]
    }
   ],
   "source": [
    "h = \"Hello world!\"\n",
    "print(h[-9:-5])"
   ]
  },
  {
   "cell_type": "code",
   "execution_count": 23,
   "metadata": {},
   "outputs": [
    {
     "name": "stdout",
     "output_type": "stream",
     "text": [
      "[1, 100, 10000]\n"
     ]
    }
   ],
   "source": [
    "nombre = [1,10,100]\n",
    "\n",
    "x = [f**2 for f in nombre]\n",
    "print(x)"
   ]
  },
  {
   "cell_type": "markdown",
   "metadata": {},
   "source": [
    "## 1. Compression de Chaîne\n",
    "Écrivez un programme qui compresse une chaîne en remplaçant les séquences de caractères répétés par le caractère suivi du nombre de répétitions. \n",
    "Exemple, \"aabcccccaaa\" deviendrait \"a2b1c5a3\".\n",
    "! Si la chaîne compressée n'est pas plus petite que l'originale, retournez la chaîne originale."
   ]
  },
  {
   "cell_type": "code",
   "execution_count": 61,
   "metadata": {},
   "outputs": [
    {
     "name": "stdout",
     "output_type": "stream",
     "text": [
      "d\n",
      "o\n",
      "e\n",
      "w\n",
      "r\n",
      "l\n",
      "h\n"
     ]
    },
    {
     "data": {
      "text/plain": [
       "'d1o2e1w1r1l3h1'"
      ]
     },
     "execution_count": 61,
     "metadata": {},
     "output_type": "execute_result"
    }
   ],
   "source": [
    "chaine = \"dhelloworl\"\n",
    "chaine_compressed = []\n",
    "\n",
    "for i in set(chaine) : \n",
    "    print(i)\n",
    "    chaine_compressed.append(i + str(chaine.count(i)))\n",
    "\"\".join(chaine_compressed)"
   ]
  },
  {
   "cell_type": "markdown",
   "metadata": {},
   "source": [
    "## 2. Anagrammes\n",
    "Écrivez un programme qui détecte si deux chaînes sont des anagrammes l'une de l'autre (c'est-à-dire qu'elles contiennent les mêmes lettres dans un ordre différent).\n",
    "exemples :\n",
    "Café – Face\n",
    "Trousses – Roustes\n",
    "Arbre – Barre\n",
    "Désir – Rides\n",
    "Poires – Proies\n",
    "César – Sacré \n",
    "Verre – Rêver\n",
    "Migraine – Imaginer\n",
    "Chien – Niche – Chine\n",
    "Silence – Enclise\n",
    "Réussite – Trieuses- Tireuses"
   ]
  },
  {
   "cell_type": "code",
   "execution_count": 69,
   "metadata": {},
   "outputs": [
    {
     "name": "stdout",
     "output_type": "stream",
     "text": [
      "C'est un anagrame\n"
     ]
    }
   ],
   "source": [
    "mot1 = input(\"mot1 : \")\n",
    "mot2 = input(\"mot2 : \")\n",
    "\n",
    "if sorted(mot1) != sorted(mot2):\n",
    "    print(\"Ce n'est pas un anagrame\")\n",
    "else:\n",
    "     print(\"C'est un anagrame\")\n"
   ]
  }
 ],
 "metadata": {
  "kernelspec": {
   "display_name": "Python 3",
   "language": "python",
   "name": "python3"
  },
  "language_info": {
   "codemirror_mode": {
    "name": "ipython",
    "version": 3
   },
   "file_extension": ".py",
   "mimetype": "text/x-python",
   "name": "python",
   "nbconvert_exporter": "python",
   "pygments_lexer": "ipython3",
   "version": "3.12.0"
  }
 },
 "nbformat": 4,
 "nbformat_minor": 2
}
