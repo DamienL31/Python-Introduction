{
 "cells": [
  {
   "cell_type": "markdown",
   "metadata": {},
   "source": [
    "# Introduction à Python\n",
    "\n",
    "## Table des matières \n",
    "1. C’est quoi Python ?\n",
    "2. Les Fondamentaux de Python\n",
    "    - Variables (types natifs) et opérations.\n",
    "    - Commentaires et affichage\n",
    "    - Structures de contrôle : opérateurs, conditions, boucles\n",
    "        - Projet 1 : Juste prix\n",
    "    - Types de Données (structures séquentielles)\n",
    "    - Fonctions : définition et appel.\n",
    "6. Travailler avec des Données\n",
    "7. Listes, tuples, et dictionnaires.\n",
    "8. Manipulation de chaînes de caractères.\n",
    "9. Lecture et écriture de fichiers.\n",
    "10. Modules et Bibliothèques\n",
    "11. Bonnes Pratiques en Programmation\n",
    "\n",
    "## 1. C’est quoi Python ?\n",
    "\n",
    "Le langage de programmation Python a été créé en 1989 par Guido van Rossum, aux Pays-Bas. \n",
    "\n",
    "Le nom Python vient d’un hommage à la série télévisée **Monty Python’s Flying Circus** dont G. van Rossum est fan. La première version publique de ce\n",
    "langage a été publiée en 1991.\n",
    "\n",
    "Ce langage de programmation présente de nombreuses caractéristiques intéressantes :\n",
    "\n",
    "— Il est multiplateforme. C’est-à-dire qu’il fonctionne sur de nombreux systèmes d’exploitation : Windows, Mac OS X,\n",
    "Linux, Android, iOS, depuis les mini-ordinateurs Raspberry Pi jusqu’aux supercalculateurs.\n",
    "\n",
    "— Il est gratuit. Vous pouvez l’installer sur autant d’ordinateurs que vous voulez (même sur votre téléphone !).\n",
    "\n",
    "— C’est un langage de haut niveau. Il demande relativement peu de connaissance sur le fonctionnement d’un ordinateur\n",
    "pour être utilisé.\n",
    "\n",
    "— C’est un langage interprété. Un script Python n’a pas besoin d’être compilé pour être exécuté, contrairement à des\n",
    "langages comme le C ou le C++.\n",
    "\n",
    "— Il est orienté objet. C’est-à-dire qu’il est possible de concevoir en Python des entités qui miment celles du monde réel\n",
    "(une cellule, une protéine, un atome, etc.) avec un certain nombre de règles de fonctionnement et d’interactions.\n",
    "\n",
    "— Il est relativement simple à prendre en main \n",
    "\n"
   ]
  },
  {
   "cell_type": "markdown",
   "metadata": {},
   "source": [
    "## 2. Les Fondamentaux de Python\n",
    "- Variables (types natifs) et opérations.\n",
    "- Commentaires et affichage\n",
    "- Structures de contrôle : opérateurs, conditions, boucles\n",
    "- Types de Données (structures séquentielles)\n",
    "- Fonctions : définition et appel."
   ]
  },
  {
   "cell_type": "markdown",
   "metadata": {},
   "source": [
    "### 2.1. Variables (types natifs)\n",
    "\n",
    "**Variables** : Les variables sont des conteneurs permettant de stocker des valeurs de données, telles que des nombres ou des chaînes de caractères.\n",
    "\n",
    "Par exemple, `x = 10` crée une variable nommée x avec la valeur 10. Python est un langage à typage dynamique, ce qui signifie que le type de la variable est déterminé au moment de l'exécution.\n",
    "\n",
    "- Affectation **(=)**.\n",
    "- Python détermine automatiquement le type de données en fonction de la valeur attribuée.\n",
    "- Ecraser les valeurs des variables en les réaffectant.\n",
    "- Sensible à la casse : \"X\" et \"x\" sont deux variables différentes\n",
    "- Imprimer plusieurs variables dans une seule instruction print avec **(,)**\n",
    "- Plusieurs valeurs à plusieurs variables ou plusieurs variables à une seule valeur sur une seule ligne.\n",
    "- Dénomination des variables incluent :\n",
    "    - la casse camel : *testVariableCase*\n",
    "    - la casse Pascal : *TestVariableCase*\n",
    "    - la casse serpent : *test_variable_case*\n",
    "\n",
    "- Evitez de:\n",
    "    - commencer les noms de variables par des chiffres\n",
    "    - utiliser des symboles tels que des tirets ou des espaces\n",
    "    - mélanger des chaînes de caractères et des nombres entiers directement dans la concaténation.\n",
    "\n",
    "**Types natifs** : Les types de données courants en Python incluent :\n",
    "- **Entier** (int) : Un nombre entier, positif ou négatif, sans partie décimale.\n",
    "- **Flottant** (float) : Un nombre avec une partie décimale.\n",
    "- **Chaîne de caractères** (str) : Une séquence de caractères, entourée de guillemets simples ou doubles.\n",
    "- **Booléen** (bool) : Représente True ou False. Le type booléen a seulement deux valeurs : True et False. Ils sont souvent le résultat d'expressions de comparaison ou de conditions logiques."
   ]
  },
  {
   "cell_type": "code",
   "execution_count": 26,
   "metadata": {},
   "outputs": [
    {
     "name": "stdout",
     "output_type": "stream",
     "text": [
      "la variable nom est de type : <class 'str'>\n",
      "la variable age est de type : <class 'int'>\n",
      "la variable taille est de type : <class 'float'>\n",
      "la variable estVrai est de type : <class 'bool'>\n",
      "la variable estFaux est de type : <class 'bool'>\n"
     ]
    }
   ],
   "source": [
    "nom = \"Alice\"  \n",
    "age = 25       \n",
    "taille = 1.70  \n",
    "estVrai = True \n",
    "estFaux = False \n",
    "\n",
    "print(\"la variable nom est de type :\", type(nom))\n",
    "print(\"la variable age est de type :\",type(age))\n",
    "print(\"la variable taille est de type :\",type(taille))\n",
    "print(\"la variable estVrai est de type :\",type(estVrai))\n",
    "print(\"la variable estFaux est de type :\",type(estFaux))"
   ]
  },
  {
   "cell_type": "markdown",
   "metadata": {},
   "source": [
    "Conversion de types\n",
    "\n",
    "La conversion de types, souvent appelée **\"casting\"** en programmation, est un moyen de convertir une valeur d'un type donné en un autre type.\n",
    "\n",
    "En Python, il existe plusieurs fonctions intégrées pour réaliser ces conversions entre les types de base comme les entiers (int), les chaînes de caractères (str), les booléens (bool), et les nombres à virgule flottante (float). \n",
    "\n",
    "Voici des exemples de conversion entre ces types :\n",
    "\n",
    "- Conversion en Entier (`int`) "
   ]
  },
  {
   "cell_type": "code",
   "execution_count": 27,
   "metadata": {},
   "outputs": [],
   "source": [
    "\n",
    "# Depuis une chaîne de caractères** :\n",
    "chaine = \"123\"\n",
    "nombre = int(chaine)  # Convertit la chaîne \"123\" en entier 123\n",
    "\n",
    "## Depuis un booléen** :\n",
    "vrai = True\n",
    "entier = int(vrai)  # Convertit True en 1\n",
    "\n",
    "## Depuis un float** :\n",
    "flottant = 9.99\n",
    "entier = int(flottant)  # Convertit 9.99 en 9 (troncature, pas d'arrondi)"
   ]
  },
  {
   "cell_type": "markdown",
   "metadata": {},
   "source": [
    "- Conversion en Chaîne de Caractères (`str`)\n"
   ]
  },
  {
   "cell_type": "code",
   "execution_count": 28,
   "metadata": {},
   "outputs": [],
   "source": [
    "## Depuis un entier ou un float** :\n",
    "nombre = 123\n",
    "chaine = str(nombre)  # Convertit l'entier 123 en chaîne \"123\"\n",
    "\n",
    "## Depuis un booléen** :\n",
    "faux = False\n",
    "chaine = str(faux)  # Convertit False en \"False\"\n",
    " "
   ]
  },
  {
   "cell_type": "markdown",
   "metadata": {},
   "source": [
    "- Conversion en Booléen (`bool`)"
   ]
  },
  {
   "cell_type": "code",
   "execution_count": 29,
   "metadata": {},
   "outputs": [],
   "source": [
    "## Depuis une chaîne de caractères** :\n",
    "chaine = \"\"\n",
    "booleen = bool(chaine)  # Convertit une chaîne vide en False\n",
    "chaine2 = \"Python\"\n",
    "booleen2 = bool(chaine2)  # Convertit \"Python\" en True\n",
    "\n",
    "## Depuis un nombre** : \n",
    "nombre = 0\n",
    "booleen = bool(nombre)  # Convertit 0 en False\n",
    "nombre2 = 123\n",
    "booleen2 = bool(nombre2)  # Convertit 123 en True\n"
   ]
  },
  {
   "cell_type": "markdown",
   "metadata": {},
   "source": [
    "- Conversion en Float (`float`)"
   ]
  },
  {
   "cell_type": "code",
   "execution_count": 30,
   "metadata": {},
   "outputs": [],
   "source": [
    "## Depuis une chaîne de caractères** :\n",
    "chaine = \"123.45\"\n",
    "flottant = float(chaine)  # Convertit la chaîne \"123.45\" en float 123.45\n",
    "\n",
    "## Depuis un entier** :\n",
    "entier = 100\n",
    "flottant = float(entier)  # Convertit l'entier 100 en float 100.0\n",
    "\n",
    "## Depuis un booléen** :\n",
    "vrai = True\n",
    "flottant = float(vrai)  # Convertit True en 1.0"
   ]
  },
  {
   "cell_type": "markdown",
   "metadata": {},
   "source": [
    "Affectation de valeurs différentes\n"
   ]
  },
  {
   "cell_type": "code",
   "execution_count": 37,
   "metadata": {},
   "outputs": [
    {
     "name": "stdout",
     "output_type": "stream",
     "text": [
      "Chocolat\n",
      "Vanille\n",
      "Fraise\n"
     ]
    }
   ],
   "source": [
    "x, y, z = \"Chocolat\", \"Vanille\", \"Fraise\"\n",
    "print(x)\n",
    "print(y)\n",
    "print(z)"
   ]
  },
  {
   "cell_type": "markdown",
   "metadata": {},
   "source": [
    "Affectation de la même valeur"
   ]
  },
  {
   "cell_type": "code",
   "execution_count": null,
   "metadata": {},
   "outputs": [],
   "source": [
    "x = y = z = \"Chocolat\"\n",
    "print(x)\n",
    "print(y)\n",
    "print(z)"
   ]
  },
  {
   "cell_type": "markdown",
   "metadata": {},
   "source": [
    "### Opérations arithmétiques\n",
    "\n",
    "Arithmétique : Addition (+), soustraction (-), multiplication (*), et division (/)."
   ]
  },
  {
   "cell_type": "code",
   "execution_count": 39,
   "metadata": {},
   "outputs": [],
   "source": [
    "somme = 10 + 5       # Résultat: 15\n",
    "difference = 10 - 5  # Résultat: 5\n",
    "produit = 10 * 5     # Résultat: 50\n",
    "quotient = 10 / 5    # Résultat: 2.0\n"
   ]
  },
  {
   "cell_type": "markdown",
   "metadata": {},
   "source": [
    "Modulo (%) retourne le reste de la division \n",
    "\n",
    "Puissance (**) élève un nombre à une certaine puissance.\n"
   ]
  },
  {
   "cell_type": "code",
   "execution_count": null,
   "metadata": {},
   "outputs": [],
   "source": [
    "reste = 10 % 3       # Résultat: 1\n",
    "puissance = 2 ** 3   # Résultat: 8"
   ]
  },
  {
   "cell_type": "markdown",
   "metadata": {},
   "source": [
    "### Opérations sur les chaînes \n",
    "\n",
    "La concaténation (+) combine des chaînes\n",
    "\n",
    "La répétition (*) répète une chaîne un certain nombre de fois.\n",
    "\n"
   ]
  },
  {
   "cell_type": "code",
   "execution_count": 40,
   "metadata": {},
   "outputs": [],
   "source": [
    "message = \"Bonjour\" + \" le monde\"  # Résultat: \"Bonjour le monde\"\n",
    "echo = \"Ha\" * 3                    # Résultat: \"HaHaHa\""
   ]
  },
  {
   "cell_type": "markdown",
   "metadata": {},
   "source": [
    "### Opérateurs d'affectation composés\n",
    "\n",
    "Les opérateurs d'affectation composés en Python sont des raccourcis qui **combinent une opération arithmétique ou binaire avec une affectation.**\n",
    "\n",
    "En gros, ils vous permettent d'effectuer une opération sur une variable et de lui réaffecter le résultat en une seule étape.\n",
    "\n",
    "\n"
   ]
  },
  {
   "cell_type": "code",
   "execution_count": 45,
   "metadata": {},
   "outputs": [],
   "source": [
    "# Initialisation de x\n",
    "x = 5\n",
    "print(x)\n",
    "\n",
    "# Ajouter et assigner\n",
    "x += 2  # x est maintenant 7\n",
    "print(x)\n",
    "\n",
    "# Soustraire et assigner\n",
    "x -= 3  # x est maintenant 4\n",
    "print(x)\n",
    "\n",
    "# Multiplier et assigner\n",
    "x *= 4  # x est maintenant 16\n",
    "print(x)\n",
    "\n",
    "# Diviser et assigner\n",
    "x /= 2  # x est maintenant 8\n",
    "print(x)\n",
    "\n",
    "# Division entière et assigner\n",
    "x //= 3  # x est maintenant 2\n",
    "print(x)\n",
    "\n",
    "# Modulo et assigner\n",
    "x %= 3  # x est maintenant 2\n",
    "print(x)\n",
    "\n",
    "# Exponentielle et assigner\n",
    "x **= 2  # x est maintenant 4\n",
    "print(x)\n"
   ]
  },
  {
   "cell_type": "markdown",
   "metadata": {},
   "source": [
    "### 2.2 Commentaires et affichage\n",
    "\n",
    "Les **commentaires** sont utilisés pour expliquer le code en Python.\n",
    "\n",
    "Ils sont très utiles pour vous-même et pour les autres personnes qui lisent votre code. En Python, les commentaires commencent par un **#** et s'étendent jusqu'à la fin de la ligne.\n",
    "\n",
    "**Les commentaires sont ignorés lors de l'exécution du code.**"
   ]
  },
  {
   "cell_type": "code",
   "execution_count": 31,
   "metadata": {},
   "outputs": [],
   "source": [
    "# Ceci est un commentaire simple en Python\n",
    "\n",
    "x = 5  # Ceci est un commentaire suivant une instruction\n",
    "\n",
    "# Vous pouvez utiliser les commentaires pour expliquer\n",
    "# ce que votre code est censé faire :\n",
    "y = x + 2  # Ajout de 2 à x et stockage du résultat dans y\n"
   ]
  },
  {
   "cell_type": "markdown",
   "metadata": {},
   "source": [
    "Pour **l'affichage** en Python, la fonction **print()** est utilisée.\n",
    "\n",
    "Elle permet d'afficher le texte, les nombres, et d'autres objets sur la console."
   ]
  },
  {
   "cell_type": "code",
   "execution_count": 32,
   "metadata": {},
   "outputs": [
    {
     "name": "stdout",
     "output_type": "stream",
     "text": [
      "Bonjour, monde !\n",
      "10\n",
      "Le nombre est 10\n"
     ]
    }
   ],
   "source": [
    "print(\"Bonjour, monde !\")  # Affiche un message simple\n",
    "\n",
    "nombre = 10\n",
    "print(nombre)  # Affiche la valeur de la variable 'nombre'\n",
    "\n",
    "# Vous pouvez aussi combiner du texte et des variables :\n",
    "print(\"Le nombre est\", nombre)  # Affiche \"Le nombre est 10\"\n",
    "\n"
   ]
  },
  {
   "cell_type": "markdown",
   "metadata": {},
   "source": [
    "Utilisation de f-string\n"
   ]
  },
  {
   "cell_type": "code",
   "execution_count": 33,
   "metadata": {},
   "outputs": [
    {
     "name": "stdout",
     "output_type": "stream",
     "text": [
      "Le nombre est 10\n",
      "Marie, est partie\n"
     ]
    }
   ],
   "source": [
    "prenom = 'Marie'\n",
    "age = 15\n",
    "taille = 207\n",
    "\n",
    "# Formatage de chaînes avec f-string pour une lisibilité améliorée :\n",
    "print(f\"Le nombre est {nombre}\") \n",
    "print(f\"{prenom}, est partie\")\n"
   ]
  },
  {
   "cell_type": "markdown",
   "metadata": {},
   "source": [
    "\n",
    "f-string avec Plusieurs Variables\n"
   ]
  },
  {
   "cell_type": "code",
   "execution_count": 34,
   "metadata": {},
   "outputs": [
    {
     "name": "stdout",
     "output_type": "stream",
     "text": [
      "Marie mesure 207 metres et a 15 ans\n"
     ]
    }
   ],
   "source": [
    "print(f\"{prenom} mesure {taille} metres et a {age} ans\")"
   ]
  },
  {
   "cell_type": "markdown",
   "metadata": {},
   "source": [
    "Utilisation de format"
   ]
  },
  {
   "cell_type": "code",
   "execution_count": 35,
   "metadata": {},
   "outputs": [
    {
     "name": "stdout",
     "output_type": "stream",
     "text": [
      "Marie a 15 ans \n"
     ]
    }
   ],
   "source": [
    "print(\"{} a {} ans \".format(prenom, age))"
   ]
  },
  {
   "cell_type": "markdown",
   "metadata": {},
   "source": [
    "- L'instruction précédente utilise la méthode `.format()` pour insérer les variables dans la chaîne de caractères.\n",
    "- `{}` sont des placeholders (espaces réservés) qui seront remplacés par les arguments de `.format()` dans l'ordre.\n",
    "- `ma_chaine` et `age` seront insérés respectivement dans le premier et le second `{}`.\n",
    "\n",
    " Calcul et arrondi\n",
    "\n",
    "- Le premier `print(prop)` affiche la valeur de `prop` avec tous ses chiffres après la virgule.\n",
    "- Le second `print()` utilise une f-string avec un formatage spécifique `{prop:.2f}`. \n",
    "\n",
    "Cela signifie que la valeur de `prop` sera formatée pour afficher seulement deux chiffres après la virgule.\n"
   ]
  },
  {
   "cell_type": "code",
   "execution_count": 36,
   "metadata": {},
   "outputs": [
    {
     "name": "stdout",
     "output_type": "stream",
     "text": [
      "0.4780405405405405\n",
      "La proportion de GC est 0.48\n"
     ]
    }
   ],
   "source": [
    "prop = (4500 + 2575) / 14800\n",
    "print(prop)\n",
    "print(f\"La proportion de GC est {prop:.2f}\")"
   ]
  },
  {
   "cell_type": "markdown",
   "metadata": {},
   "source": [
    "### 2.3. Structures de contrôle \n",
    "\n",
    "#### Les opérateurs\n",
    "\n",
    "Les opérateurs Python sont utilisés pour effectuer des opérations sur les variables et les valeurs.\n",
    "\n",
    "**Les opérateurs de comparaison** en Python incluent égal à, différent de, supérieur à, inférieur à, supérieur ou égal à, et inférieur ou égal à.\n",
    "\n",
    "| Opérateur comparaison | Description |\n",
    "| ----------- | ----------- |\n",
    "| Egalité | == |\n",
    "| Différent de |!= |\n",
    "| Supérieur | > |\n",
    "| Inférieur | < |\n",
    "| Supérieur ou égale | >= |\n",
    "| Inférieur ou égale | <= |\n",
    "\n",
    "\n",
    " - Renvoient soit Vrai, soit Faux, en fonction du résultat de la comparaison.\n",
    "\n",
    "**Les opérateurs logiques** et, ou et non sont souvent combinés avec les opérateurs de comparaison.\n",
    "\n",
    "| Opérateur logique| Description | Résultat |\n",
    "| ----------- | ----------- |----------- |\n",
    "| And | and | True si les deux propositions sont vraies|\n",
    "| Or |  or | True si au moins une des propositions est Vraie |\n",
    "| Not | not | inverse de l'instruction |\n",
    "\n",
    "\n",
    "**Les opérateurs d'appartenance** in et not in sont utilisés pour vérifier si une valeur ou une chaîne de caractères se trouve à l'intérieur d'une autre valeur, chaîne de caractères ou séquence.\n",
    "\n",
    "| Opérateur logique| Description | Résultat |\n",
    "| ----------- | ----------- |----------- |\n",
    "| In | in | True si la valeur spécifiée est présente dans l'objet.|\n",
    "| Not in | not in | True si la valeur spécifiée n'est pas présente dans l'objet.|\n",
    "\n"
   ]
  },
  {
   "cell_type": "code",
   "execution_count": 50,
   "metadata": {},
   "outputs": [
    {
     "name": "stdout",
     "output_type": "stream",
     "text": [
      "Opérateurs de comparaison:\n",
      "True\n",
      "True\n",
      "True\n",
      "True\n",
      "True\n",
      "True\n",
      "\n",
      "Opérateurs logiques:\n",
      "False\n",
      "True\n",
      "False\n",
      "\n",
      "Opérateurs d'appartenance:\n",
      "True\n",
      "True\n"
     ]
    }
   ],
   "source": [
    "# Exemples d'opérateurs de comparaison\n",
    "print(\"Opérateurs de comparaison:\")\n",
    "print(5 == 5)  # Égalité, renvoie True\n",
    "print(5 != 2)  # Différent de, renvoie True\n",
    "print(5 > 3)   # Supérieur à, renvoie True\n",
    "print(5 < 8)   # Inférieur à, renvoie True\n",
    "print(5 >= 3)  # Supérieur ou égal à, renvoie True\n",
    "print(5 <= 8)  # Inférieur ou égal à, renvoie True\n",
    "\n",
    "# Exemples d'opérateurs logiques\n",
    "print(\"\\nOpérateurs logiques:\")\n",
    "print(True and False)  # and, renvoie False\n",
    "print(True or False)   # or, renvoie True\n",
    "print(not True)        # not, renvoie False\n",
    "\n",
    "# Exemples d'opérateurs d'appartenance\n",
    "print(\"\\nOpérateurs d'appartenance:\")\n",
    "liste = [1, 2, 3, 4, 5]\n",
    "print(3 in liste)       # in, renvoie True\n",
    "print(6 not in liste)   # not in, renvoie True"
   ]
  },
  {
   "cell_type": "markdown",
   "metadata": {},
   "source": [
    "#### Conditions"
   ]
  },
  {
   "cell_type": "code",
   "execution_count": null,
   "metadata": {},
   "outputs": [],
   "source": [
    "# condition\n",
    "x = 100 \n",
    "\n",
    "# Première condition : vérifie si x est inférieur à 10\n",
    "if x < 10:\n",
    "    print(\"x est inférieur à 10\")\n",
    "# Deuxième condition : vérifie si x est supérieur ou égal à 100\n",
    "elif x >= 100:\n",
    "    print(\"x est supérieur ou égal à 100\")\n",
    "# Dernière condition : si toutes les conditions précédentes sont fausses\n",
    "else:\n",
    "    print(\"x est supérieur à 10 mais inférieur à 100\")\n"
   ]
  },
  {
   "cell_type": "code",
   "execution_count": null,
   "metadata": {},
   "outputs": [],
   "source": [
    "# Initialisation des variables\n",
    "x = 100 \n",
    "y = 30 \n",
    "\n",
    "# Première condition : vérifie si x est inférieur à 10 ET y est supérieur à 20\n",
    "if (x < 10) and (y > 20):\n",
    "    print(\"x est inférieur à 10 et y est supérieur à 20\")\n",
    "# Deuxième condition : vérifie si x est supérieur ou égal à 100 OU y est supérieur ou égal à 30\n",
    "elif x >= 100 or y >= 30:\n",
    "    print(\"x est supérieur ou égal à 100 ou y est supérieur ou égal à 30\")\n",
    "# Dernière condition : si toutes les conditions précédentes sont fausses\n",
    "else:\n",
    "    print(\"x est supérieur à 10\")\n"
   ]
  },
  {
   "cell_type": "markdown",
   "metadata": {},
   "source": [
    "####  Les boucles\n",
    "\n",
    "**La boucle for** est utilisée pour parcourir des structures de données : liste, tuple, tableau, chaîne de caractères ou un dictionnaire.\n",
    "\n",
    "> La boucle commence par examiner le premier élément de la séquence, effectue des actions dans son corps, puis passe à l'élément suivant jusqu'à ce que la séquence soit terminée.\n",
    "\n",
    " - Boucle avec mot-clé **\"for\"**, une **variable temporaire** pour contenir chaque élément, le mot-clé **\"in\"** et la séquence à parcourir, suivis  de **deux points**. Jusqu'au bout de l'élément\n",
    "- Appliquer des **opérations sur la variable temporaire** dans le corps de la boucle pour effectuer diverses opérations.\n",
    "- **Imbriquer des for\"**\n",
    "- Sur les *dictionnaires*, on peut **boucler sur les clés et les valeurs à l'aide de la méthode \"items()\"**.\n",
    "\n",
    "**La boucle while** itère sur un bloc de code tant qu'une condition spécifiée est vraie.\n",
    "Contrairement aux boucles \"for\", les boucles \"while\" continuent l'itération tant que la condition reste vraie.\n",
    "\n",
    "- **\"break\"** pour quitter prématurément une boucle \"while\", même si la condition est toujours vraie.\n",
    "- **\"else\"** peut être utilisée avec une boucle \"while\" pour spécifier un bloc de code qui s'exécutera lorsque la condition de la boucle ne sera plus vraie.\n",
    "- **\"continue\"** permet d'ignorer le code restant dans l'itération actuelle de la boucle et de passer à l'itération suivante.\n",
    "- !! **Soyez prudent lorsque vous utilisez \"continue\" afin d'éviter de créer des boucles infinies.**\n",
    "\n"
   ]
  },
  {
   "cell_type": "code",
   "execution_count": null,
   "metadata": {},
   "outputs": [],
   "source": [
    "# Exemple de boucle for\n",
    "print(\"Boucle for sur une liste:\")\n",
    "ma_liste = [1, 2, 3, 4, 5]\n",
    "for element in ma_liste:\n",
    "    print(element)"
   ]
  },
  {
   "cell_type": "code",
   "execution_count": 51,
   "metadata": {},
   "outputs": [
    {
     "name": "stdout",
     "output_type": "stream",
     "text": [
      "\n",
      "Boucle while avec break:\n",
      "1\n",
      "2\n",
      "3\n",
      "Break à 3\n",
      "\n",
      "Boucle while avec continue:\n",
      "1\n",
      "2\n",
      "4\n",
      "5\n",
      "\n",
      "Boucle while avec else:\n",
      "1\n",
      "2\n",
      "3\n",
      "4\n",
      "5\n",
      "La condition n'est plus vraie (i > 5)\n",
      "Boucle while True avec un mécanisme de sortie :\n",
      "1\n",
      "2\n",
      "3\n",
      "4\n",
      "5\n",
      "Compteur a atteint 5, sortir de la boucle.\n"
     ]
    }
   ],
   "source": [
    "# Boucle while avec break\n",
    "print(\"\\nBoucle while avec break:\")\n",
    "i = 1\n",
    "while i <= 5:\n",
    "    print(i)\n",
    "    if i == 3:\n",
    "        print(\"Break à 3\")\n",
    "        break\n",
    "    i += 1\n",
    "\n",
    "# Boucle while avec continue\n",
    "print(\"\\nBoucle while avec continue:\")\n",
    "i = 0\n",
    "while i < 5:\n",
    "    i += 1\n",
    "    if i == 3:\n",
    "        continue\n",
    "    print(i)\n",
    "\n",
    "# Boucle while avec else\n",
    "print(\"\\nBoucle while avec else:\")\n",
    "i = 1\n",
    "while i <= 5:\n",
    "    print(i)\n",
    "    i += 1\n",
    "else:\n",
    "    print(\"La condition n'est plus vraie (i > 5)\")\n",
    "\n",
    "# Exemple de boucle while True\n",
    "print(\"Boucle while True avec un mécanisme de sortie :\")\n",
    "\n",
    "compteur = 0\n",
    "while True:\n",
    "    compteur += 1\n",
    "    print(compteur)\n",
    "\n",
    "    # Interrompre la boucle si compteur atteint 5\n",
    "    if compteur == 5:\n",
    "        print(\"Compteur a atteint 5, sortir de la boucle.\")\n",
    "        break"
   ]
  }
 ],
 "metadata": {
  "kernelspec": {
   "display_name": "Python 3",
   "language": "python",
   "name": "python3"
  },
  "language_info": {
   "codemirror_mode": {
    "name": "ipython",
    "version": 3
   },
   "file_extension": ".py",
   "mimetype": "text/x-python",
   "name": "python",
   "nbconvert_exporter": "python",
   "pygments_lexer": "ipython3",
   "version": "3.11.6"
  }
 },
 "nbformat": 4,
 "nbformat_minor": 2
}
