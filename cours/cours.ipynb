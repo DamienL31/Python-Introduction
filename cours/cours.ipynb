{
 "cells": [
  {
   "cell_type": "markdown",
   "metadata": {},
   "source": [
    "<a id=\"0\"></a>\n",
    "# Introduction à Python\n",
    "## Table des matières \n",
    "- 1. [C’est quoi Python ?](#1-cest-quoi-python)\n",
    "- 2. [Les Fondamentaux de Python](#2-les-fondamentaux-de-python)\n",
    "    - 2.1. [Variables (types natifs) et opérations](#21-variables-types-natifs)\n",
    "    - 2.2. [Commentaires et affichage](#22-commentaires-et-affichage)\n",
    "    - 2.3. [Structures de contrôle : opérateurs, conditions, boucles](#23-structures-de-controle)\n",
    "        - Projet 1 : Juste prix\n",
    "        - Projet 2 : Casino        \n",
    "    - 2.4. [Types de Données (structures séquentielles : chaines de caractères, listes, ensembles, tuples, dictionnaires)](#24-types-de-donnees) \n",
    "        - Exercices 1\n",
    "        - Projet 3 : Pendu\n",
    "    - 2.5. [Fonctions : définition et appel](#25-fonctions-definition-et-appel)\n",
    "         - Exercices 2    \n",
    "- 3. [Gestion des exceptions](#3-gestion-des-exceptions)\n",
    "    - 3.1 [Définition](#31-definition)\n",
    "    - 3.2 [Traitement des exceptions](#32-traitement-des-exceptions)\n",
    "      - 3.2.1 Try/ Except\n",
    "      - 3.2.2 Finally\n",
    "      - 3.2.3 Else\n",
    "    - 3.3 [Assertions](#33-assertions)\n",
    "    - 3.4 [Raise](#34-raise)\n",
    "    - Exercices 3\n",
    "- 4. [Lecture et écriture de fichiers](#4-lecture-et-ecriture-de-fichiers)\n",
    "    - 4.1 Gestion simple des fichiers \n",
    "    - 4.2 Travailler avec différents formats de fichier\n",
    "    - Exercices 4\n",
    "        - Projet 4 : Trieur de fichier (https://www.youtube.com/watch?v=EEHZQ9tiWX4&ab_channel=Labinc)\n",
    "- 5. [Modules et Bibliothèques](#5-modules-et-bibliotheques)\n",
    "    - 5.1 Numpy : Exercices 5\n",
    "    - 5.2 Pandas : Exercices 6\n",
    "- 6. [Bonnes Pratiques en Programmation](#6-bonnes-pratiques-en-programmation)"
   ]
  },
  {
   "cell_type": "markdown",
   "metadata": {},
   "source": [
    "<a id=\"1-cest-quoi-python\"></a> \n",
    "## 1. C’est quoi Python ?\n",
    "\n",
    "Le langage de programmation Python a été créé en 1989 par Guido van Rossum, aux Pays-Bas. \n",
    "\n",
    "Le nom Python vient d’un hommage à la série télévisée **Monty Python’s Flying Circus** dont G. van Rossum est fan. La première version publique de ce\n",
    "langage a été publiée en 1991.\n",
    "\n",
    "Ce langage de programmation présente de nombreuses caractéristiques intéressantes :\n",
    "\n",
    "— Il est multiplateforme. C’est-à-dire qu’il fonctionne sur de nombreux systèmes d’exploitation : Windows, Mac OS X,\n",
    "Linux, Android, iOS, depuis les mini-ordinateurs Raspberry Pi jusqu’aux supercalculateurs.\n",
    "\n",
    "— Il est gratuit. Vous pouvez l’installer sur autant d’ordinateurs que vous voulez (même sur votre téléphone !).\n",
    "\n",
    "— C’est un langage de haut niveau. Il demande relativement peu de connaissance sur le fonctionnement d’un ordinateur\n",
    "pour être utilisé.\n",
    "\n",
    "— C’est un langage interprété. Un script Python n’a pas besoin d’être compilé pour être exécuté, contrairement à des\n",
    "langages comme le C ou le C++.\n",
    "\n",
    "— Il est orienté objet. C’est-à-dire qu’il est possible de concevoir des entités qui miment celles du monde réel\n",
    "(une cellule, une protéine, un atome, etc.) avec un certain nombre de règles de fonctionnement et d’interactions.\n",
    "\n",
    "— Il est relativement simple à prendre en main "
   ]
  },
  {
   "cell_type": "markdown",
   "metadata": {},
   "source": [
    "<a id=\"2-les-fondamentaux-de-python\"></a>\n",
    "## 2. Les Fondamentaux de Python\n",
    "- Variables (types natifs) et opérations.\n",
    "- Commentaires et affichage\n",
    "- Structures de contrôle : opérateurs, conditions, boucles\n",
    "- Types de Données (structures séquentielles)\n",
    "- Fonctions : définition et appel."
   ]
  },
  {
   "cell_type": "markdown",
   "metadata": {},
   "source": [
    "<a id=\"21-variables-types-natifs\"></a>\n",
    "### 2.1. Variables (types natifs)\n",
    "\n",
    "**Variables** : Les variables sont des conteneurs permettant de stocker des valeurs de données, telles que des nombres ou des chaînes de caractères.\n",
    "\n",
    "Par exemple, `x = 10` crée une variable nommée x avec la valeur 10. Python est un langage à typage dynamique, ce qui signifie que le type de la variable est déterminé au moment de l'exécution.\n",
    "\n",
    "- Affectation **(=)**.\n",
    "- Python détermine automatiquement le type de données en fonction de la valeur attribuée.\n",
    "- Ecraser les valeurs des variables en les réaffectant.\n",
    "- Sensible à la casse : \"X\" et \"x\" sont deux variables différentes\n",
    "- Imprimer plusieurs variables dans une seule instruction print avec **(,)**\n",
    "- Plusieurs valeurs à plusieurs variables ou plusieurs variables à une seule valeur sur une seule ligne.\n",
    "- Dénomination des variables incluent :\n",
    "    - la casse camel : *testVariableCase*\n",
    "    - la casse Pascal : *TestVariableCase*\n",
    "    - la casse serpent : *test_variable_case*\n",
    "\n",
    "- Evitez de:\n",
    "    - commencer les noms de variables par des chiffres\n",
    "    - utiliser des symboles tels que des tirets ou des espaces\n",
    "    - mélanger des chaînes de caractères et des nombres entiers directement dans la concaténation.\n",
    "\n",
    "**Types natifs** : Les types de données courants en Python incluent :\n",
    "- **Entiers** (`int`) : Nombres sans partie décimale. Exemple : `5`, `-3`.\n",
    "- **Nombres Complexes** (`complex`) : Nombres avec une partie réelle et une partie imaginaire. Exemple : `3 + 4j`.\n",
    "- **Flottants** (`float`) : Nombres avec une partie décimale. Exemple : `3.14`, `-0.001`.\n",
    "- **Chaîne de caractères** (`str`) : Une séquence de caractères, entourée de guillemets simples ou doubles.\n",
    "- **Booléens** (bool) : Représentent deux valeurs : `True` (Vrai) et `False` (Faux).. Le type booléen a seulement deux valeurs : True et False. Ils sont souvent le résultat d'expressions de comparaison ou de conditions logiques.\n"
   ]
  },
  {
   "cell_type": "code",
   "execution_count": null,
   "metadata": {},
   "outputs": [],
   "source": [
    "nom = \"Alice\"  \n",
    "age = 25       \n",
    "taille = 1.70  \n",
    "estVrai = True \n",
    "estFaux = False \n",
    "\n",
    "print(\"la variable nom est de type :\", type(nom))\n",
    "print(\"la variable age est de type :\",type(age))\n",
    "print(\"la variable taille est de type :\",type(taille))\n",
    "print(\"la variable estVrai est de type :\",type(estVrai))\n",
    "print(\"la variable estFaux est de type :\",type(estFaux))"
   ]
  },
  {
   "cell_type": "markdown",
   "metadata": {},
   "source": [
    "Conversion de types\n",
    "\n",
    "La conversion de types, souvent appelée **\"casting\"** en programmation, est un moyen de convertir une valeur d'un type donné en un autre type.\n",
    "\n",
    "En Python, il existe plusieurs fonctions intégrées pour réaliser ces conversions entre les types de base comme les entiers (int), les chaînes de caractères (str), les booléens (bool), et les nombres à virgule flottante (float). \n",
    "\n",
    "Voici des exemples de conversion entre ces types :\n",
    "\n",
    "- Conversion en Entier (`int`) "
   ]
  },
  {
   "cell_type": "code",
   "execution_count": null,
   "metadata": {},
   "outputs": [],
   "source": [
    "\n",
    "# Depuis une chaîne de caractères** :\n",
    "chaine = \"123\"\n",
    "nombre = int(chaine)  # Convertit la chaîne \"123\" en entier 123\n",
    "\n",
    "## Depuis un booléen** :\n",
    "vrai = True\n",
    "entier = int(vrai)  # Convertit True en 1\n",
    "\n",
    "## Depuis un float** :\n",
    "flottant = 9.99\n",
    "entier = int(flottant)  # Convertit 9.99 en 9 (troncature, pas d'arrondi)"
   ]
  },
  {
   "cell_type": "markdown",
   "metadata": {},
   "source": [
    "- Conversion en Chaîne de Caractères (`str`)\n"
   ]
  },
  {
   "cell_type": "code",
   "execution_count": null,
   "metadata": {},
   "outputs": [],
   "source": [
    "## Depuis un entier ou un float** :\n",
    "nombre = 123\n",
    "chaine = str(nombre)  # Convertit l'entier 123 en chaîne \"123\"\n",
    "\n",
    "## Depuis un booléen** :\n",
    "faux = False\n",
    "chaine = str(faux)  # Convertit False en \"False\"\n",
    " "
   ]
  },
  {
   "cell_type": "markdown",
   "metadata": {},
   "source": [
    "- Conversion en Booléen (`bool`)"
   ]
  },
  {
   "cell_type": "code",
   "execution_count": null,
   "metadata": {},
   "outputs": [],
   "source": [
    "## Depuis une chaîne de caractères** :\n",
    "chaine = \"\"\n",
    "booleen = bool(chaine)  # Convertit une chaîne vide en False\n",
    "chaine2 = \"Python\"\n",
    "booleen2 = bool(chaine2)  # Convertit \"Python\" en True\n",
    "\n",
    "## Depuis un nombre** : \n",
    "nombre = 0\n",
    "booleen = bool(nombre)  # Convertit 0 en False\n",
    "nombre2 = 123\n",
    "booleen2 = bool(nombre2)  # Convertit 123 en True\n"
   ]
  },
  {
   "cell_type": "markdown",
   "metadata": {},
   "source": [
    "- Conversion en Float (`float`)"
   ]
  },
  {
   "cell_type": "code",
   "execution_count": null,
   "metadata": {},
   "outputs": [],
   "source": [
    "## Depuis une chaîne de caractères** :\n",
    "chaine = \"123.45\"\n",
    "flottant = float(chaine)  # Convertit la chaîne \"123.45\" en float 123.45\n",
    "\n",
    "## Depuis un entier** :\n",
    "entier = 100\n",
    "flottant = float(entier)  # Convertit l'entier 100 en float 100.0\n",
    "\n",
    "## Depuis un booléen** :\n",
    "vrai = True\n",
    "flottant = float(vrai)  # Convertit True en 1.0"
   ]
  },
  {
   "cell_type": "markdown",
   "metadata": {},
   "source": [
    "Affectation de valeurs différentes\n"
   ]
  },
  {
   "cell_type": "code",
   "execution_count": null,
   "metadata": {},
   "outputs": [],
   "source": [
    "x, y, z = \"Chocolat\", \"Vanille\", \"Fraise\"\n",
    "print(x)\n",
    "print(y)\n",
    "print(z)"
   ]
  },
  {
   "cell_type": "markdown",
   "metadata": {},
   "source": [
    "Affectation de la même valeur"
   ]
  },
  {
   "cell_type": "code",
   "execution_count": null,
   "metadata": {},
   "outputs": [],
   "source": [
    "x = y = z = \"Chocolat\"\n",
    "print(x)\n",
    "print(y)\n",
    "print(z)"
   ]
  },
  {
   "cell_type": "markdown",
   "metadata": {},
   "source": [
    "### Opérations arithmétiques\n",
    "\n",
    "Arithmétique : Addition (+), soustraction (-), multiplication (*), et division (/)."
   ]
  },
  {
   "cell_type": "code",
   "execution_count": null,
   "metadata": {},
   "outputs": [],
   "source": [
    "somme = 10 + 5       # Résultat: 15\n",
    "difference = 10 - 5  # Résultat: 5\n",
    "produit = 10 * 5     # Résultat: 50\n",
    "quotient = 10 / 5    # Résultat: 2.0\n"
   ]
  },
  {
   "cell_type": "markdown",
   "metadata": {},
   "source": [
    "Modulo (%) retourne le reste de la division \n",
    "\n",
    "Puissance (**) élève un nombre à une certaine puissance.\n"
   ]
  },
  {
   "cell_type": "code",
   "execution_count": null,
   "metadata": {},
   "outputs": [],
   "source": [
    "reste = 10 % 3       # Résultat: 1\n",
    "puissance = 2 ** 3   # Résultat: 8"
   ]
  },
  {
   "cell_type": "markdown",
   "metadata": {},
   "source": [
    "### Opérations sur les chaînes \n",
    "\n",
    "La concaténation (+) combine des chaînes\n",
    "\n",
    "La répétition (*) répète une chaîne un certain nombre de fois.\n",
    "\n"
   ]
  },
  {
   "cell_type": "code",
   "execution_count": null,
   "metadata": {},
   "outputs": [],
   "source": [
    "message = \"Bonjour\" + \" le monde\"  # Résultat: \"Bonjour le monde\"\n",
    "echo = \"Ha\" * 3                    # Résultat: \"HaHaHa\""
   ]
  },
  {
   "cell_type": "markdown",
   "metadata": {},
   "source": [
    "### Opérateurs d'affectation composés\n",
    "\n",
    "Les opérateurs d'affectation composés sont des raccourcis qui **combinent une opération arithmétique ou binaire avec une affectation.**\n",
    "\n",
    "En gros, ils vous permettent d'effectuer une opération sur une variable et de lui réaffecter le résultat en une seule étape.\n",
    "\n",
    "\n"
   ]
  },
  {
   "cell_type": "code",
   "execution_count": null,
   "metadata": {},
   "outputs": [],
   "source": [
    "# Initialisation de x\n",
    "x = 5\n",
    "print(x)\n",
    "\n",
    "# Ajouter et assigner\n",
    "x += 2  # x est maintenant 7\n",
    "print(x)\n",
    "\n",
    "# Soustraire et assigner\n",
    "x -= 3  # x est maintenant 4\n",
    "print(x)\n",
    "\n",
    "# Multiplier et assigner\n",
    "x *= 4  # x est maintenant 16\n",
    "print(x)\n",
    "\n",
    "# Diviser et assigner\n",
    "x /= 2  # x est maintenant 8\n",
    "print(x)\n",
    "\n",
    "# Division entière et assigner\n",
    "x //= 3  # x est maintenant 2\n",
    "print(x)\n",
    "\n",
    "# Modulo et assigner\n",
    "x %= 3  # x est maintenant 2\n",
    "print(x)\n",
    "\n",
    "# Exponentielle et assigner\n",
    "x **= 2  # x est maintenant 4\n",
    "print(x)\n"
   ]
  },
  {
   "cell_type": "markdown",
   "metadata": {},
   "source": [
    "<a id=\"22-commentaires-et-affichage\"></a>\n",
    "### 2.2 Commentaires et affichage\n",
    "\n",
    "Les **commentaires** sont utilisés pour expliquer le code.\n",
    "\n",
    "Ils sont très utiles pour vous-même et pour les autres personnes qui lisent votre code. Les commentaires commencent par un **#** et s'étendent jusqu'à la fin de la ligne.\n",
    "\n",
    "**Les commentaires sont ignorés lors de l'exécution du code.**"
   ]
  },
  {
   "cell_type": "code",
   "execution_count": null,
   "metadata": {},
   "outputs": [],
   "source": [
    "# Ceci est un commentaire simple \n",
    "\n",
    "x = 5  # Ceci est un commentaire suivant une instruction\n",
    "\n",
    "# Vous pouvez utiliser les commentaires pour expliquer\n",
    "# ce que votre code est censé faire :\n",
    "y = x + 2  # Ajout de 2 à x et stockage du résultat dans y\n"
   ]
  },
  {
   "cell_type": "markdown",
   "metadata": {},
   "source": [
    "Pour **l'affichage**, la fonction **print()** est utilisée.\n",
    "\n",
    "Elle permet d'afficher le texte, les nombres, et d'autres objets sur la console."
   ]
  },
  {
   "cell_type": "code",
   "execution_count": null,
   "metadata": {},
   "outputs": [],
   "source": [
    "print(\"Bonjour, monde !\")  # Affiche un message simple\n",
    "\n",
    "nombre = 10\n",
    "print(nombre)  # Affiche la valeur de la variable 'nombre'\n",
    "\n",
    "# Vous pouvez aussi combiner du texte et des variables :\n",
    "print(\"Le nombre est\", nombre)  # Affiche \"Le nombre est 10\"\n",
    "\n"
   ]
  },
  {
   "cell_type": "markdown",
   "metadata": {},
   "source": [
    "Utilisation de f-string\n"
   ]
  },
  {
   "cell_type": "code",
   "execution_count": null,
   "metadata": {},
   "outputs": [],
   "source": [
    "prenom = 'Marie'\n",
    "age = 15\n",
    "taille = 207\n",
    "\n",
    "# Formatage de chaînes avec f-string pour une lisibilité améliorée :\n",
    "print(f\"Le nombre est {nombre}\") \n",
    "print(f\"{prenom}, est partie\")\n"
   ]
  },
  {
   "cell_type": "markdown",
   "metadata": {},
   "source": [
    "\n",
    "f-string avec Plusieurs Variables\n"
   ]
  },
  {
   "cell_type": "code",
   "execution_count": null,
   "metadata": {},
   "outputs": [],
   "source": [
    "print(f\"{prenom} mesure {taille} metres et a {age} ans\")"
   ]
  },
  {
   "cell_type": "markdown",
   "metadata": {},
   "source": [
    "Utilisation de format"
   ]
  },
  {
   "cell_type": "code",
   "execution_count": null,
   "metadata": {},
   "outputs": [],
   "source": [
    "print(\"{} a {} ans \".format(prenom, age))"
   ]
  },
  {
   "cell_type": "markdown",
   "metadata": {},
   "source": [
    "- L'instruction précédente utilise la méthode `.format()` pour insérer les variables dans la chaîne de caractères.\n",
    "- `{}` sont des placeholders (espaces réservés) qui seront remplacés par les arguments de `.format()` dans l'ordre.\n",
    "- `ma_chaine` et `age` seront insérés respectivement dans le premier et le second `{}`.\n",
    "\n",
    " Calcul et arrondi\n",
    "\n",
    "- Le premier `print(prop)` affiche la valeur de `prop` avec tous ses chiffres après la virgule.\n",
    "- Le second `print()` utilise une f-string avec un formatage spécifique `{prop:.2f}`. \n",
    "\n",
    "Cela signifie que la valeur de `prop` sera formatée pour afficher seulement deux chiffres après la virgule.\n"
   ]
  },
  {
   "cell_type": "code",
   "execution_count": null,
   "metadata": {},
   "outputs": [],
   "source": [
    "prop = (4500 + 2575) / 14800\n",
    "print(prop)\n",
    "print(f\"La proportion de GC est {prop:.2f}\")"
   ]
  },
  {
   "cell_type": "markdown",
   "metadata": {},
   "source": [
    "<a id=\"23-structures-de-controle\"></a>\n",
    "### 2.3. Structures de contrôle \n",
    "\n",
    "#### Les opérateurs\n",
    "\n",
    "Les opérateurs Python sont utilisés pour effectuer des opérations sur les variables et les valeurs.\n",
    "\n",
    "**Les opérateurs de comparaison** incluent égal à, différent de, supérieur à, inférieur à, supérieur ou égal à, et inférieur ou égal à.\n",
    "\n",
    "| Opérateur comparaison | Description |\n",
    "| ----------- | ----------- |\n",
    "| Egalité | == |\n",
    "| Différent de |!= |\n",
    "| Supérieur | > |\n",
    "| Inférieur | < |\n",
    "| Supérieur ou égale | >= |\n",
    "| Inférieur ou égale | <= |\n",
    "\n",
    "\n",
    " - Renvoient soit Vrai, soit Faux, en fonction du résultat de la comparaison.\n",
    "\n",
    "**Les opérateurs logiques** et, ou et non sont souvent combinés avec les opérateurs de comparaison.\n",
    "\n",
    "| Opérateur logique| Description | Résultat |\n",
    "| ----------- | ----------- |----------- |\n",
    "| And | and | True si les deux propositions sont vraies|\n",
    "| Or |  or | True si au moins une des propositions est Vraie |\n",
    "| Not | not | inverse de l'instruction |\n",
    "\n",
    "\n",
    "**Les opérateurs d'appartenance** in et not in sont utilisés pour vérifier si une valeur ou une chaîne de caractères se trouve à l'intérieur d'une autre valeur, chaîne de caractères ou séquence.\n",
    "\n",
    "| Opérateur logique| Description | Résultat |\n",
    "| ----------- | ----------- |----------- |\n",
    "| In | in | True si la valeur spécifiée est présente dans l'objet.|\n",
    "| Not in | not in | True si la valeur spécifiée n'est pas présente dans l'objet.|\n",
    "\n"
   ]
  },
  {
   "cell_type": "code",
   "execution_count": null,
   "metadata": {},
   "outputs": [],
   "source": [
    "# Exemples d'opérateurs de comparaison\n",
    "print(\"Opérateurs de comparaison:\")\n",
    "print(5 == 5)  # Égalité, renvoie True\n",
    "print(5 != 2)  # Différent de, renvoie True\n",
    "print(5 > 3)   # Supérieur à, renvoie True\n",
    "print(5 < 8)   # Inférieur à, renvoie True\n",
    "print(5 >= 3)  # Supérieur ou égal à, renvoie True\n",
    "print(5 <= 8)  # Inférieur ou égal à, renvoie True\n",
    "\n",
    "# Exemples d'opérateurs logiques\n",
    "print(\"\\nOpérateurs logiques:\")\n",
    "print(True and False)  # and, renvoie False\n",
    "print(True or False)   # or, renvoie True\n",
    "print(not True)        # not, renvoie False\n",
    "\n",
    "# Exemples d'opérateurs d'appartenance\n",
    "print(\"\\nOpérateurs d'appartenance:\")\n",
    "liste = [1, 2, 3, 4, 5]\n",
    "print(3 in liste)       # in, renvoie True\n",
    "print(6 not in liste)   # not in, renvoie True"
   ]
  },
  {
   "cell_type": "markdown",
   "metadata": {},
   "source": [
    "#### Conditions"
   ]
  },
  {
   "cell_type": "code",
   "execution_count": null,
   "metadata": {},
   "outputs": [],
   "source": [
    "# condition\n",
    "x = 100 \n",
    "\n",
    "# Première condition : vérifie si x est inférieur à 10\n",
    "if x < 10:\n",
    "    print(\"x est inférieur à 10\")\n",
    "# Deuxième condition : vérifie si x est supérieur ou égal à 100\n",
    "elif x >= 100:\n",
    "    print(\"x est supérieur ou égal à 100\")\n",
    "# Dernière condition : si toutes les conditions précédentes sont fausses\n",
    "else:\n",
    "    print(\"x est supérieur à 10 mais inférieur à 100\")\n"
   ]
  },
  {
   "cell_type": "code",
   "execution_count": null,
   "metadata": {},
   "outputs": [],
   "source": [
    "# Initialisation des variables\n",
    "x = 100 \n",
    "y = 30 \n",
    "\n",
    "# Première condition : vérifie si x est inférieur à 10 ET y est supérieur à 20\n",
    "if (x < 10) and (y > 20):\n",
    "    print(\"x est inférieur à 10 et y est supérieur à 20\")\n",
    "# Deuxième condition : vérifie si x est supérieur ou égal à 100 OU y est supérieur ou égal à 30\n",
    "elif x >= 100 or y >= 30:\n",
    "    print(\"x est supérieur ou égal à 100 ou y est supérieur ou égal à 30\")\n",
    "# Dernière condition : si toutes les conditions précédentes sont fausses\n",
    "else:\n",
    "    print(\"x est supérieur à 10\")\n"
   ]
  },
  {
   "cell_type": "markdown",
   "metadata": {},
   "source": [
    "####  Les boucles\n",
    "\n",
    "**La boucle for** est utilisée pour parcourir des structures de données : liste, tuple, tableau, chaîne de caractères ou un dictionnaire.\n",
    "\n",
    "> La boucle commence par examiner le premier élément de la séquence, effectue des actions dans son corps, puis passe à l'élément suivant jusqu'à ce que la séquence soit terminée.\n",
    "\n",
    " - Boucle avec mot-clé **\"for\"**, une **variable temporaire** pour contenir chaque élément, le mot-clé **\"in\"** et la séquence à parcourir, suivis  de **deux points**. Jusqu'au bout de l'élément\n",
    "- Appliquer des **opérations sur la variable temporaire** dans le corps de la boucle pour effectuer diverses opérations.\n",
    "- **Imbriquer des for\"**\n",
    "- Sur les *dictionnaires*, on peut **boucler sur les clés et les valeurs à l'aide de la méthode \"items()\"**."
   ]
  },
  {
   "cell_type": "code",
   "execution_count": null,
   "metadata": {},
   "outputs": [],
   "source": [
    "# Exemple de boucle for\n",
    "for i in range(5):\n",
    "    print(i)\n",
    "\n",
    "fruits = [\"pomme\", \"banane\", \"mangue\", \"cerise\"]\n",
    "for fruit in fruits:\n",
    "    print(fruit)\n",
    "\n",
    "print(\"Boucle for sur une liste:\")\n",
    "ma_liste = [1, 2, 3, 4, 5]\n",
    "for element in ma_liste:\n",
    "    print(element)\n",
    "\n",
    "nombres = [1, 2, 3, 4, 5]\n",
    "for nombre in nombres:\n",
    "    if nombre % 2 == 0:\n",
    "        print(f\"{nombre} est pair\")\n",
    "    else:\n",
    "        print(f\"{nombre} est impair\")\n"
   ]
  },
  {
   "cell_type": "markdown",
   "metadata": {},
   "source": [
    "**La boucle while** itère sur un bloc de code tant qu'une condition spécifiée est vraie.\n",
    "Contrairement aux boucles \"for\", les boucles \"while\" continuent l'itération tant que la condition reste vraie.\n",
    "\n",
    "- **\"break\"** pour quitter prématurément une boucle \"while\", même si la condition est toujours vraie.\n",
    "- **\"else\"** peut être utilisée avec une boucle \"while\" pour spécifier un bloc de code qui s'exécutera lorsque la condition de la boucle ne sera plus vraie.\n",
    "- **\"continue\"** permet d'ignorer le code restant dans l'itération actuelle de la boucle et de passer à l'itération suivante.\n",
    "- !! **Soyez prudent lorsque vous utilisez \"continue\" afin d'éviter de créer des boucles infinies.**"
   ]
  },
  {
   "cell_type": "code",
   "execution_count": null,
   "metadata": {},
   "outputs": [],
   "source": [
    "# Boucle while avec break\n",
    "print(\"\\nBoucle while avec break:\")\n",
    "i = 1\n",
    "while i <= 5:\n",
    "    print(i)\n",
    "    if i == 3:\n",
    "        print(\"Break à 3\")\n",
    "        break\n",
    "    i += 1\n",
    "\n",
    "# Boucle while avec continue\n",
    "print(\"\\nBoucle while avec continue:\")\n",
    "i = 0\n",
    "while i < 5:\n",
    "    i += 1\n",
    "    if i == 3:\n",
    "        continue\n",
    "    print(i)\n",
    "\n",
    "# Boucle while avec else\n",
    "print(\"\\nBoucle while avec else:\")\n",
    "i = 1\n",
    "while i <= 5:\n",
    "    print(i)\n",
    "    i += 1\n",
    "else:\n",
    "    print(\"La condition n'est plus vraie (i > 5)\")\n",
    "\n",
    "# Exemple de boucle while True\n",
    "print(\"Boucle while True avec un mécanisme de sortie :\")\n",
    "\n",
    "compteur = 0\n",
    "while True:\n",
    "    compteur += 1\n",
    "    print(compteur)\n",
    "\n",
    "    # Interrompre la boucle si compteur atteint 5\n",
    "    if compteur == 5:\n",
    "        print(\"Compteur a atteint 5, sortir de la boucle.\")\n",
    "        break"
   ]
  },
  {
   "cell_type": "markdown",
   "metadata": {},
   "source": [
    "<a id=\"24-types-de-donnees\"></a>\n",
    "### 2.4. Types de Données (Structures Séquentielles)\n",
    "\n",
    "Chaque type de données séquentielles a ses propres caractéristiques et utilisations spécifiques, offrant une grande flexibilité pour le traitement des données. Les listes et les dictionnaires sont particulièrement populaires pour leur flexibilité et leurs capacités de stockage dynamique.\n",
    "\n",
    "- **Chaînes de Caractères** (`str`) :\n",
    "  Les chaînes de caractères (strings) sont utilisées pour stocker et manipuler du texte. Elles sont définies en plaçant le texte entre guillemets simples (`'...'`), doubles (`\"...\"`) ou triples (`'''...'''` ou `\"\"\"...\"\"\"` pour les chaînes sur plusieurs lignes).\n",
    "\n",
    "  - Séquences de caractères, indexées à partir de 0.\n",
    "  - Peuvent être délimitées par des guillemets simples, doubles ou triples.\n",
    "  - Exemple : `\"Python\"`, `'Data'`.\n",
    "  - Caractères d'Échappement : pour inclure des caractères spéciaux comme des guillemets ou des retours à la ligne dans une chaîne, utilisez des caractères d'échappement (`\\`).\n",
    "\n",
    "  ```python\n",
    "  citation = \"Elle a dit \\\"Bonjour!\\\"\"\n",
    "  retour_ligne = \"Ligne 1\\nLigne 2\"\n",
    "  ```\n",
    "Les chaînes de caractères sont extrêmement polyvalentes et fournissent une gamme complète de méthodes pour le traitement de texte. Que ce soit pour la manipulation de base ou des opérations complexes, les chaînes sont un outil indispensable.\n"
   ]
  },
  {
   "cell_type": "code",
   "execution_count": null,
   "metadata": {},
   "outputs": [],
   "source": [
    "# Définition chaines de caractères\n",
    "chaine_simple = 'Bonjour'\n",
    "longueur = len(chaine_simple) # 7\n",
    "print(f\"{chaine_simple}, 'la longueur est {longueur}\")\n",
    "\n",
    "chaine_double = \"Python\"\n",
    "chaine_multiligne = \"\"\"Ceci est une\n",
    "chaîne sur plusieurs\n",
    "lignes.\"\"\"\n",
    "print(chaine_double,\"\\n\", chaine_multiligne)\n",
    "\n",
    "# Acces aux éléments\n",
    "premier_char = chaine_simple[0]  # 'B'\n",
    "sous_chaine = chaine_double[1:4] # 'yth'\n",
    "print(premier_char, \"et\",  sous_chaine)\n",
    "\n",
    "# Concaténation \n",
    "salutation = chaine_simple + \", \" + chaine_double # 'Bonjour, Python'\n",
    "print(salutation)\n",
    "\n",
    "# Répétition\n",
    "echo = \"echo \" * 3  # 'echo echo echo '\n",
    "print(echo)"
   ]
  },
  {
   "cell_type": "markdown",
   "metadata": {},
   "source": [
    "- **Méthodes pour les Chaînes de Caractères** : Les méthodes sont des fonctions qui sont associées à des objets spécifiques. Elles permettent d'exécuter des actions sur ces objets ou de manipuler leurs données internes. Voici quelques caractéristiques clés des méthodes :\n",
    "\n",
    "    - **Association avec des Objets** : Contrairement aux fonctions indépendantes, les méthodes sont liées à des objets. Par exemple, les méthodes de chaînes de caractères (`str`)  sont conçues pour effectuer des opérations sur des chaînes de caractères spécifiques.\n",
    "    - **Syntaxe** : Une méthode est appelée en utilisant la notation pointée. Par exemple, `objet.methode()`.\n",
    "    - **Méthodes de Chaînes de Caractères** : les chaînes de caractères disposent de méthodes telles que `upper()`, `lower()`, `replace()` pour convertir en majuscules, en minuscules ou remplacer une partie de la chaîne.\n",
    "    - **Appel** : Pour appeler une méthode, utilisez généralement la syntaxe `objet.methode(arguments)`.\n"
   ]
  },
  {
   "cell_type": "code",
   "execution_count": null,
   "metadata": {},
   "outputs": [],
   "source": [
    "# Méthodes str.isupper() et str.islower()\n",
    "majuscules = \"PYTHON\"\n",
    "minuscules = \"python\"\n",
    "is_upper = majuscules.isupper()\n",
    "is_lower = minuscules.islower()\n",
    "print(is_upper)  # Résultat : True\n",
    "print(is_lower)  # Résultat : True\n",
    "\n",
    "# Méthode str.upper()\n",
    "texte_upper = \"python est génial\".upper()\n",
    "print(texte_upper)  # Résultat : \"PYTHON EST GÉNIAL\"\n",
    "\n",
    "# Méthode str.lower()\n",
    "texte_lower = \"Python est GÉNIAL\".lower()\n",
    "print(texte_lower)  # Résultat : \"python est génial\"\n",
    "\n",
    "# Méthode str.capitalize()\n",
    "texte_capitalize = \"python est génial\".capitalize()\n",
    "print(texte_capitalize)  # Résultat : \"Python est génial\"\n",
    "\n",
    "# Méthode str.title()\n",
    "texte_title = \"python est génial\".title()\n",
    "print(texte_title)  # Résultat : \"Python Est Génial\"\n",
    "\n",
    "# Méthode str.find(substring)\n",
    "texte = \"Python est génial\"\n",
    "position = texte.find(\"est\")\n",
    "print(position)  # Résultat : 7\n",
    "\n",
    "# Méthode str.replace(old, new)\n",
    "texte_replace = \"Les pommes sont rouges.\".replace(\"pommes\", \"bananes\")\n",
    "print(texte_replace)  # Résultat : \"Les bananes sont rouges.\"\n",
    "\n",
    "# Méthode str.split(separator)\n",
    "texte_split = \"apple,orange,banana\".split(\",\")\n",
    "print(texte_split)  # Résultat : [\"apple\", \"orange\", \"banana\"]\n",
    "\n",
    "# Méthode str.join(iterable)\n",
    "elements = [\"apple\", \"orange\", \"banana\"]\n",
    "texte_join = \", \".join(elements)\n",
    "print(texte_join)  # Résultat : \"apple, orange, banana\"\n",
    "\n",
    "# Méthode str.strip()\n",
    "texte_strip = \"   Bonjour   \".strip()\n",
    "print(texte_strip)  # Résultat : \"Bonjour\"\n",
    "\n",
    "# Méthode str.startswith(prefix)\n",
    "texte_startswith = \"Bonjour, comment ça va ?\".startswith(\"Bonjour\")\n",
    "print(texte_startswith)  # Résultat : True\n",
    "\n",
    "# Méthode str.endswith(suffix)\n",
    "texte_endswith = \"Leçon terminée.\".endswith(\"terminée.\")\n",
    "print(texte_endswith)  # Résultat : TrueS"
   ]
  },
  {
   "cell_type": "markdown",
   "metadata": {},
   "source": [
    "#### Les listes\n",
    "\n",
    "Les listes sont des structures de données qui permettent de stocker une série d'éléments. Elles sont flexibles, peuvent contenir des éléments de différents types et sont **mutables** (modifiables).\n",
    "\n",
    "- **Listes** (`list`) :\n",
    "  - Collections ordonnées de valeurs, pouvant contenir divers types de données.\n",
    "  - Les éléments sont séparés par des virgules et entourés de crochets.\n",
    "  - Mutables (modifiables).\n",
    "  - Pour créer une liste, placez une série d'éléments séparés par des virgules entre crochets `[]`. Exemple : `[1, \"a\", 3.14]`.\n",
    "  - L'accès aux éléments se fait par leur index, en commençant par `0`.\n",
    "  - Les listes étant mutables, vous pouvez modifier leurs éléments."
   ]
  },
  {
   "cell_type": "code",
   "execution_count": null,
   "metadata": {},
   "outputs": [],
   "source": [
    "# Définition de liste\n",
    "ma_liste = [1, 2, 3, \"Python\", 3.14]\n",
    "print(ma_liste)\n",
    "\n",
    "premier_element = ma_liste[0]  # Accède au premier élément (1)\n",
    "dernier_element = ma_liste[-1] # Accède au dernier élément (3.14)\n",
    "print(premier_element,\"\\n\", dernier_element)\n",
    "\n",
    " # Modifie le deuxième élément\n",
    "ma_liste[1] = \"deux\" \n",
    "print(ma_liste)\n",
    "\n",
    "# Concaténation et Répétition\n",
    "combinee = ma_liste + [\"autre\", \"liste\"]\n",
    "repetee = [1, 2, 3] * 3"
   ]
  },
  {
   "cell_type": "markdown",
   "metadata": {},
   "source": [
    "  - Les méthodes des listes : Chaque méthode offre une fonctionnalité unique pour manipuler des listes, rendant ces structures de données extrêmement flexibles et puissantes pour une variété de tâches en programmation Python.\n",
    "\n",
    "| Méthode        | Description                                              | Exemple d'Utilisation                   |\n",
    "|----------------|----------------------------------------------------------|----------------------------------------|\n",
    "| `append()`     | Ajoute un élément à la fin de la liste.                  | `liste.append(5)`                      |\n",
    "| `extend()`     | Étend la liste en ajoutant tous les éléments d'une autre liste. | `liste.extend([6, 7])`                |\n",
    "| `insert()`     | Insère un élément à une position donnée.                 | `liste.insert(1, 'a')`                 |\n",
    "| `remove()`     | Supprime la première occurrence d'un élément.            | `liste.remove('a')`                    |\n",
    "| `pop()`        | Supprime et renvoie un élément à une position donnée (par défaut, le dernier). | `liste.pop()`                          |\n",
    "| `clear()`      | Supprime tous les éléments de la liste.                  | `liste.clear()`                        |\n",
    "| `index()`      | Retourne l'indice du premier élément correspondant.      | `liste.index('a')`                     |\n",
    "| `count()`      | Compte le nombre d'occurrences d'un élément spécifique.  | `liste.count(5)`                       |\n",
    "| `sort()`       | Trie les éléments de la liste (dans un ordre spécifique). | `liste.sort()`                         |\n",
    "| `reverse()`    | Inverse l'ordre des éléments de la liste.                | `liste.reverse()`                      |\n",
    "| `copy()`       | Retourne une copie superficielle de la liste.            | `nouvelle_liste = liste.copy()`        |\n"
   ]
  },
  {
   "cell_type": "code",
   "execution_count": null,
   "metadata": {},
   "outputs": [],
   "source": [
    "# Création d'une liste de base\n",
    "ma_liste = [1, 2, 3]\n",
    "\n",
    "# Utilisation de append()\n",
    "ma_liste.append(4)\n",
    "print(\"Après append(4):\", ma_liste)\n",
    "\n",
    "# Utilisation de extend()\n",
    "ma_liste.extend([5, 6])\n",
    "print(\"Après extend([5, 6]):\", ma_liste)\n",
    "\n",
    "# Utilisation de insert()\n",
    "ma_liste.insert(1, 'a')\n",
    "print(\"Après insert(1, 'a'):\", ma_liste)\n",
    "\n",
    "# Utilisation de remove()\n",
    "ma_liste.remove('a')\n",
    "print(\"Après remove('a'):\", ma_liste)\n",
    "\n",
    "# Utilisation de pop()\n",
    "element_supprime = ma_liste.pop()\n",
    "print(\"Après pop():\", ma_liste, \", Élément supprimé:\", element_supprime)\n",
    "\n",
    "# Utilisation de clear()\n",
    "ma_liste.clear()\n",
    "print(\"Après clear():\", ma_liste)\n",
    "\n",
    "# Recréation de la liste pour les autres méthodes\n",
    "ma_liste = [3, 1, 4, 2, 2]\n",
    "\n",
    "# Utilisation de index()\n",
    "index_de_4 = ma_liste.index(4)\n",
    "print(\"Index de 4:\", index_de_4)\n",
    "\n",
    "# Utilisation de count()\n",
    "compte_de_2 = ma_liste.count(2)\n",
    "print(\"Nombre d'occurrences de 2:\", compte_de_2)\n",
    "\n",
    "# Utilisation de sort()\n",
    "ma_liste.sort()\n",
    "print(\"Après sort():\", ma_liste)\n",
    "\n",
    "# Utilisation de reverse()\n",
    "ma_liste.reverse()\n",
    "print(\"Après reverse():\", ma_liste)\n",
    "\n",
    "# Utilisation de copy()\n",
    "copie_de_ma_liste = ma_liste.copy()\n",
    "print(\"Copie de la liste:\", copie_de_ma_liste)\n"
   ]
  },
  {
   "cell_type": "markdown",
   "metadata": {},
   "source": [
    "  - **Parcours de Liste**\n",
    "Le parcours de liste consiste à accéder séquentiellement à chaque élément d'une liste. Cela peut être fait de différentes manières, mais les plus courantes sont les boucles `for` et `while`.\n",
    "\n",
    "    - 1. *Boucle `for`* : La boucle `for` est la méthode la plus couramment utilisée pour parcourir une liste. Elle permet de traiter chaque élément individuellement.\n",
    "    - 2. *`List Comprehension`* : La compréhension de liste est une méthode concise pour créer des listes. Elle permet de transformer une liste en une autre liste, en filtrant les éléments pour former une liste des résultats d'une expression donnée.\n",
    "\n",
    "La syntaxe de base d'une compréhension de liste est :\n",
    "\n",
    "```python\n",
    "[nouvelle_expression for item in iterable if condition]\n",
    "```\n",
    "\n",
    "- `nouvelle_expression` est l'expression qui définit comment mapper les éléments de l'`iterable` (par exemple, une liste).\n",
    "- `item` est la variable qui prend la valeur de chaque élément de l'`iterable` pendant chaque itération.\n",
    "- `condition` est une condition optionnelle pour filtrer les éléments de l'`iterable`."
   ]
  },
  {
   "cell_type": "code",
   "execution_count": null,
   "metadata": {},
   "outputs": [],
   "source": [
    "# récupérer tous les fruits avec un \"a\"\n",
    "fruits = [\"apple\", \"banana\", \"cherry\", \"kiwi\", \"mango\"]\n",
    "newlist = []\n",
    "\n",
    "for f in fruits:\n",
    "  if \"a\" in f:\n",
    "    newlist.append(f)\n",
    "\n",
    "print(newlist)"
   ]
  },
  {
   "cell_type": "code",
   "execution_count": null,
   "metadata": {},
   "outputs": [],
   "source": [
    "newlist = []\n",
    "newlist = [f for f in fruits if \"a\" in f ]\n",
    "print(newlist)"
   ]
  },
  {
   "cell_type": "code",
   "execution_count": null,
   "metadata": {},
   "outputs": [],
   "source": [
    "# Créer une liste des carrés des nombres de 0 à 9 :\n",
    "carres = [x**2 for x in range(10)]"
   ]
  },
  {
   "cell_type": "code",
   "execution_count": null,
   "metadata": {},
   "outputs": [],
   "source": [
    "# Filtrer les nombres pairs dans une liste :\n",
    "nombres_pairs = [x for x in range(10) if x % 2 == 0]"
   ]
  },
  {
   "cell_type": "code",
   "execution_count": null,
   "metadata": {},
   "outputs": [],
   "source": [
    "# Appliquer une fonction à tous les éléments :\n",
    "noms_majuscules = [nom.upper() for nom in [\"alice\", \"bob\", \"charlie\"]]"
   ]
  },
  {
   "cell_type": "markdown",
   "metadata": {},
   "source": [
    "- **Tuples** (`tuple`) :\n",
    "  - Similaires aux listes, mais **immuables** (non modifiables après création).\n",
    "  - Les éléments sont séparés par des virgules et entourés de parenthèses.\n",
    "  - Exemple : `(1, \"a\", 3.14)`.\n",
    "\n",
    "| Avantage                            | Description                                                  |\n",
    "|-------------------------------------|--------------------------------------------------------------|\n",
    "| **Sécurité des Données**            | Parfait pour protéger les données contre les modifications.   |\n",
    "| **Performance**                     | Plus rapides à parcourir que les listes.                     |\n",
    "| **Utilisation en tant que Clés de Dictionnaire** | Peuvent être utilisés comme clés dans les dictionnaires, contrairement aux listes. |\n",
    "| **Retour de Plusieurs Valeurs de Fonction** | Utilisés pour retourner plusieurs valeurs depuis une fonction. |\n",
    "| **Stockage de Données Constantes**  | Idéaux pour stocker des données qui ne doivent pas être modifiées. |\n"
   ]
  },
  {
   "cell_type": "code",
   "execution_count": null,
   "metadata": {},
   "outputs": [],
   "source": [
    "# Définition d'un tuple\n",
    "mon_tuple = (1, \"a\", 3.14)\n",
    "\n",
    "un_autre_tuple = 2, \"b\", 4.28\n",
    "\n",
    "# Accès aux Éléments\n",
    "premier_element = mon_tuple[0]  # 1\n",
    "\n",
    "# Tuple à Un Élément\n",
    "tuple_singleton = (5,)\n",
    "\n",
    "# Imbrication\n",
    "tuple_imbrique = (1, (2, 3), (4, 5))\n",
    "\n",
    "# Méthodes Utiles\n",
    "longueur = len(mon_tuple)  # Retourne la longueur de mon_tuple, ici 3\n",
    "compteur = mon_tuple.count(1)  # Compte le nombre de fois que 1 apparaît dans mon_tuple, ici 1\n",
    "indice = mon_tuple.index(\"a\")  # Trouve l'indice de \"a\" dans mon_tuple, ici 1"
   ]
  },
  {
   "cell_type": "markdown",
   "metadata": {},
   "source": [
    "- **Ensembles** (`set`) :\n",
    "  - Collections non ordonnées de valeurs uniques.\n",
    "  - Utiles pour les opérations d'ensemble et la recherche de valeurs uniques.\n",
    "  - Mutables, mais chaque élément doit être unique.\n",
    "  - Non-Ordonnés : Les ensembles ne maintiennent pas l'ordre des éléments. Vous ne pouvez donc pas accéder aux éléments par un index.\n",
    "  - Exemple : `{1, 2, 3}`.\n",
    "\n",
    "Opérations d'Ensemble\n",
    "\n",
    "| Opération             | Syntaxe    | Description                                    |\n",
    "|-----------------------|------------|------------------------------------------------|\n",
    "| Union                 | `a \\| b`    | Retourne un nouvel ensemble contenant tous les éléments uniques des ensembles `a` et `b`. |\n",
    "| Intersection          | `a & b`    | Retourne un nouvel ensemble contenant uniquement les éléments communs aux ensembles `a` et `b`. |\n",
    "| Différence            | `a - b`    | Retourne un nouvel ensemble contenant les éléments de `a` qui ne sont pas dans `b`. |\n",
    "| Différence Symétrique | `a ^ b`    | Retourne un nouvel ensemble contenant tous les éléments qui sont dans `a` ou `b`, mais pas dans les deux. |\n",
    "| Ajout                 | `a.add(x)` | Ajoute l'élément `x` à l'ensemble `a`. |\n",
    "| Suppression           | `a.remove(x)` | Supprime l'élément `x` de l'ensemble `a` ; lève une erreur si `x` n'est pas présent. |\n",
    "| Suppression (sans erreur) | `a.discard(x)` | Supprime l'élément `x` de l'ensemble `a` si `x` est présent ; ne fait rien sinon. |"
   ]
  },
  {
   "cell_type": "code",
   "execution_count": null,
   "metadata": {},
   "outputs": [],
   "source": [
    "# Définition des ensembles\n",
    "ensemble_a = {1, 2, 3, 4}\n",
    "ensemble_b = {3, 4, 5, 6}\n",
    "\n",
    "# Opérations d'ensemble\n",
    "union = ensemble_a | ensemble_b\n",
    "intersection = ensemble_a & ensemble_b\n",
    "difference = ensemble_a - ensemble_b\n",
    "difference_symetrique = ensemble_a ^ ensemble_b\n",
    "\n",
    "# Affichage des résultats\n",
    "print(\"Union :\", union)\n",
    "print(\"Intersection :\", intersection)\n",
    "print(\"Différence :\", difference)\n",
    "print(\"Différence Symétrique :\", difference_symetrique)\n",
    "\n",
    "# Ajout et suppression\n",
    "ensemble_a.add(7)\n",
    "print(\"Après ajout :\", ensemble_a)\n",
    "ensemble_a.remove(1)\n",
    "print(\"Après suppression :\", ensemble_a)\n",
    "ensemble_a.discard(8)  # Ne fait rien car 8 n'est pas dans l'ensemble"
   ]
  },
  {
   "cell_type": "markdown",
   "metadata": {},
   "source": [
    "- **Dictionnaires** (`dict`) :\n",
    "  - Basés sur des paires clé-valeur.\n",
    "  - Les valeurs sont accessibles via les clés.\n",
    "  - Mutables, permettant les mises à jour et les suppressions.\n",
    "  - Exemple : `{\"nom\": \"Alice\", \"âge\": 30}`.\n",
    "  - Utilisation :\n",
    "    - **Stockage d'Informations Structurées** : Parfait pour stocker des informations complexes comme des données utilisateur.\n",
    "    - **Recherche Rapide** : Utilisez des dictionnaires pour des recherches rapides basées sur des clés uniques."
   ]
  },
  {
   "cell_type": "code",
   "execution_count": null,
   "metadata": {},
   "outputs": [],
   "source": [
    "# Définition d'un dictionnaire\n",
    "personne = {\"nom\": \"Alice\", \"age\": 30}\n",
    "autre_dict = dict(nom=\"Bob\", age=25)\n",
    "\n",
    "# Ajout et Mise à Jour\n",
    "personne[\"profession\"] = \"Développeur\""
   ]
  },
  {
   "cell_type": "code",
   "execution_count": null,
   "metadata": {},
   "outputs": [],
   "source": [
    "# Utilisation de keys()\n",
    "cles = personne.keys()\n",
    "print(\"Clés:\", cles)\n",
    "\n",
    "# Utilisation de values()\n",
    "valeurs = personne.values()\n",
    "print(\"Valeurs:\", valeurs)\n",
    "\n",
    "# Utilisation de items()\n",
    "paires = personne.items()\n",
    "print(\"Paires clé-valeur:\", paires)\n",
    "\n",
    "# Utilisation de get()\n",
    "nom = personne.get(\"nom\")  # Retourne 'Alice'\n",
    "ville = personne.get(\"ville\", \"Non spécifiée\")  # Retourne 'Non spécifiée' car 'ville' n'existe pas\n",
    "print(\"Nom:\", nom)\n",
    "print(\"Ville:\", ville)\n",
    "\n",
    "# Parcours des clés\n",
    "print(\"\\nParcours des clés:\")\n",
    "for cle in personne:\n",
    "    print(cle)\n",
    "\n",
    "# Parcours des valeurs\n",
    "print(\"\\nParcours des valeurs:\")\n",
    "for valeur in personne.values():\n",
    "    print(valeur)\n",
    "\n",
    "# Parcours des paires clé-valeur\n",
    "print(\"\\nParcours des paires clé-valeur:\")\n",
    "for cle, valeur in personne.items():\n",
    "    print(cle, \":\", valeur)\n",
    "\n",
    "print(\"\\nParcours des paires clé-valeur avec enumerate:\")\n",
    "for index, (cle, valeur) in enumerate(personne.items()):\n",
    "    print(f\"Index {index}: Clé = {cle}, Valeur = {valeur}\")"
   ]
  },
  {
   "cell_type": "code",
   "execution_count": null,
   "metadata": {},
   "outputs": [],
   "source": [
    "# Suppression\n",
    "del personne[\"age\"]\n",
    "profession = personne.pop(\"profession\")"
   ]
  },
  {
   "cell_type": "code",
   "execution_count": null,
   "metadata": {},
   "outputs": [],
   "source": [
    "personne"
   ]
  },
  {
   "cell_type": "markdown",
   "metadata": {},
   "source": [
    "<a id=\"25-fonctions-definition-et-appel\"></a>\n",
    "### 2.5. Fonctions : définition et appel\n",
    "\n",
    "#### Qu'est-ce qu'une Fonction ?\n",
    "\n",
    "Une fonction est une suite d'instructions que l'on peut appeler avec un nom. En programmation, une fonction est comme une petite \"machine\" qui prend des entrées (arguments), effectue certaines opérations, et parfois retourne une sortie (valeur de retour).\n",
    "\n",
    "- **Explication de ce qu'est une fonction en programmation**\n",
    "\n",
    ", une fonction est définie en utilisant le mot-clé `def`, suivi du nom de la fonction, des parenthèses `()` contenant des paramètres (si nécessaires), et un bloc d'instructions indenté.\n",
    "\n",
    "```python\n",
    "def ma_fonction():\n",
    "    # Ici, nous mettons le code que la fonction exécutera.\n",
    "```\n",
    "\n",
    "- **L'importance des fonctions pour réduire la répétition de code**\n",
    "\n",
    "Les fonctions sont essentielles pour éviter la répétition de code. Au lieu d'écrire le même code plusieurs fois, une fonction nous permet de regrouper ce code et de l'appeler quand nécessaire. Cela rend le code plus court, plus lisible et plus facile à maintenir.\n",
    "\n",
    "#### Pourquoi Utiliser des Fonctions ?\n",
    "\n",
    "Les fonctions sont un outil fondamental  pour plusieurs raisons :\n",
    "\n",
    "- **Simplification du code**\n",
    "\n",
    "En regroupant des opérations complexes en fonctions, on simplifie notre code principal. Cela le rend plus lisible et plus facile à comprendre.\n",
    "\n",
    "- **Réutilisabilité**\n",
    "\n",
    "Une fois que vous avez écrit une fonction, vous pouvez l'utiliser autant de fois que nécessaire. Cela élimine le besoin de réécrire le même code, économisant du temps et réduisant les erreurs.\n",
    "\n",
    "- **Meilleure organisation du code**\n",
    "\n",
    "Les fonctions aident à structurer le code en unités logiques. Chaque fonction a un objectif spécifique, ce qui facilite la compréhension du programme dans son ensemble. De plus, cela facilite le débogage et le test de parties spécifiques du code.\n",
    "\n",
    "\n",
    "Voici le développement de la section \"Syntaxe de Base des Fonctions\"  avec des explications et des exemples, rédigé en Markdown :\n",
    "\n",
    "\n",
    "#### Définition d'une Fonction\n",
    "\n",
    ", la définition d'une fonction commence par le mot-clé `def`, suivi du nom de la fonction, des parenthèses `()`, et d'un bloc d'instructions indenté.\n",
    "\n",
    "```python\n",
    "def ma_fonction():\n",
    "    print(\"Ceci est une fonction.\")\n",
    "```\n",
    "\n",
    "Dans cet exemple, `ma_fonction` est le nom de notre fonction. Le bloc d'instructions qui suit définit ce que la fonction fait lorsqu'elle est appelée. Ici, la fonction affiche simplement un message.\n",
    "\n",
    "La définition d'une fonction permet de regrouper un ensemble d'instructions que vous souhaitez exécuter à plusieurs reprises. Elle n'est exécutée que lorsque la fonction est appelée.\n",
    "\n",
    "- **Structure de base**\n",
    "\n",
    "La structure de base d'une fonction comprend :\n",
    "- Le mot-clé `def`.\n",
    "- Le nom de la fonction.\n",
    "- Les parenthèses `()` (avec des paramètres si nécessaire).\n",
    "- Un bloc d'instructions indenté.\n",
    "\n",
    "- **Appel d'une Fonction**\n",
    "\n",
    "Une fois qu'une fonction est définie, elle peut être appelée en utilisant son nom suivi de parenthèses.\n",
    "\n",
    "```python\n",
    "ma_fonction()\n",
    "```\n",
    "\n",
    "Cet appel exécute les instructions définies dans `ma_fonction`.\n",
    "\n",
    "- **Paramètres et Arguments**\n",
    "\n",
    "Les fonctions peuvent être plus flexibles lorsqu'elles prennent des paramètres. Les paramètres agissent comme des variables dans la définition de la fonction.\n",
    "\n",
    "```python\n",
    "def ma_fonction(param1, param2):\n",
    "    print(f\"Paramètre 1 : {param1}, Paramètre 2 : {param2}\")\n",
    "```\n",
    "\n",
    "```python\n",
    "def saluer(nom):\n",
    "    print(f\"Bonjour, {nom}!\")\n",
    "```\n",
    "Ici, `nom` est un paramètre de la fonction `saluer`. Lorsque la fonction est appelée, elle s'attend à recevoir une valeur pour ce paramètre.\n",
    "\n",
    "- **Appel d'une Fonction avec Arguments**\n",
    "\n",
    "Lorsque vous appelez une fonction qui a des paramètres, vous devez fournir des arguments correspondants.\n",
    "\n",
    "```python\n",
    "saluer(\"Alice\")\n",
    "```\n",
    "Dans cet appel, `\"Alice\"` est un argument qui est passé à la fonction `saluer`. La fonction utilisera la valeur de cet argument lors de son exécution.\n",
    "\n",
    "Exemples : "
   ]
  },
  {
   "cell_type": "code",
   "execution_count": null,
   "metadata": {},
   "outputs": [],
   "source": [
    "def saluer(nom):\n",
    "    print(f\"Bonjour, {nom}!\")\n",
    "\n",
    "saluer(\"Paul\")"
   ]
  },
  {
   "cell_type": "code",
   "execution_count": null,
   "metadata": {},
   "outputs": [],
   "source": [
    "def affiche_message(message):\n",
    "    print(f\"Message reçu : {message}\")\n",
    "\n",
    "affiche_message(\"Bonjour, ca  va ?\")"
   ]
  },
  {
   "cell_type": "code",
   "execution_count": null,
   "metadata": {},
   "outputs": [],
   "source": [
    "def additionner(a, b):\n",
    "    somme = a + b\n",
    "    print(f\"La somme de {a} et {b} est {somme}\")\n",
    "\n",
    "additionner(5, 3)\n",
    "\n",
    "def puissance(base, exposant):\n",
    "    resultat = base ** exposant\n",
    "    print(f\"{base} élevé à la puissance {exposant} est {resultat}\")\n",
    "\n"
   ]
  },
  {
   "cell_type": "code",
   "execution_count": null,
   "metadata": {},
   "outputs": [],
   "source": [
    "puissance(exposant=2,base =  3)"
   ]
  },
  {
   "cell_type": "code",
   "execution_count": null,
   "metadata": {},
   "outputs": [],
   "source": [
    "import math\n",
    "\n",
    "def perimetre_cercle(rayon):\n",
    "    perimetre = 2 * math.pi * rayon\n",
    "    print(f\"Le périmètre d'un cercle de rayon {rayon} est {perimetre:.2f}\")\n",
    "\n",
    "perimetre_cercle(5)\n"
   ]
  },
  {
   "cell_type": "markdown",
   "metadata": {},
   "source": [
    "Les paramètres de fonction sont des variables spécifiées dans la définition d'une fonction. Ils agissent comme des placeholders pour les valeurs (arguments) que la fonction recevra lorsqu'elle est appelée.\n",
    "\n",
    "- **Différence entre Paramètres et Arguments**\n",
    "\n",
    "    - **Paramètres** sont les noms donnés aux variables dans la définition de la fonction.\n",
    "    Ils sont utilisés dans la fonction pour se référer aux valeurs qui seront passées lors de l'appel de la fonction.\n",
    "\n",
    "    - **Arguments** sont les valeurs réelles passées à la fonction lorsqu'elle est appelée. \n",
    "    Ces valeurs sont affectées aux paramètres correspondants de la fonction.\n",
    "\n",
    "- **Valeurs par Défaut des Paramètres**\n",
    "Les fonctions peuvent avoir des paramètres avec des valeurs par défaut. Ces valeurs sont utilisées si aucun argument correspondant n'est fourni lors de l'appel de la fonction.\n",
    "\n",
    "```python\n",
    "def ma_fonction(param1, param2=42):\n",
    "    print(f\"Paramètre 1 : {param1}, Paramètre 2 : {param2}\")\n",
    "```\n",
    "\n",
    "Dans cet exemple, `param2` a une valeur par défaut de `42`. Si `ma_fonction` est appelée sans un second argument, `param2` utilisera cette valeur par défaut.\n",
    "\n",
    "Les valeurs par défaut rendent les fonctions plus flexibles et permettent d'éviter des erreurs si certains arguments ne sont pas essentiels. Voici un exemple d'appel de la fonction avec et sans le second argument :\n",
    "\n",
    "```python\n",
    "ma_fonction(\"test\")         # Utilise la valeur par défaut pour param2\n",
    "ma_fonction(\"test\", 24)     # Remplace la valeur par défaut de param2\n",
    "```\n",
    "\n",
    "- **Types de Fonctions**\n",
    "Il existe deux types principaux de fonctions : celles qui retournent une valeur et celles qui ne retournent rien.\n",
    "\n",
    "    - **Fonctions avec Retour** : Une fonction avec retour renvoie une valeur à l'endroit où elle est appelée. \n",
    "    Ce retour est effectué en utilisant le mot-clé `return`.\n",
    "    - **Fonctions sans Retour**: Les fonctions sans retour effectuent des actions mais ne renvoient aucune valeur.\n",
    "     Elles sont souvent utilisées pour effectuer une tâche, comme afficher un message ou modifier des données.\n",
    "\n",
    "```python\n",
    "def ma_fonction():\n",
    "    return \"valeur retournée\"\n",
    "```\n",
    "Cette fonction retourne la chaîne de caractères `\"valeur retournée\"`. \n",
    "Lorsqu'elle est appelée, on peut récupérer cette valeur :\n",
    "\n",
    "```python\n",
    "resultat = ma_fonction()\n",
    "print(resultat)  # Affiche \"valeur retournée\"\n",
    "```\n",
    "\n",
    "```python\n",
    "def ma_fonction():\n",
    "    print(\"Fonction exécutée\")\n",
    "```\n",
    "Cette fonction affiche un message mais ne retourne rien. \n",
    "L'appel de cette fonction se concentre sur l'effet produit (ici, l'affichage) plutôt que sur une valeur retournée.\n"
   ]
  },
  {
   "cell_type": "code",
   "execution_count": null,
   "metadata": {},
   "outputs": [],
   "source": [
    "def ma_fonction(param1, param2=42):\n",
    "    print(f\"Paramètre 1 : {param1}, Paramètre 2 : {param2}\")"
   ]
  },
  {
   "cell_type": "code",
   "execution_count": null,
   "metadata": {},
   "outputs": [],
   "source": [
    "ma_fonction(2, 30)"
   ]
  },
  {
   "cell_type": "code",
   "execution_count": null,
   "metadata": {},
   "outputs": [],
   "source": [
    "def somme(a, b):\n",
    "    return a + b\n",
    "\n",
    "resultat = somme(5, 3)\n",
    "print(resultat)  # Affichera 8\n",
    "\n",
    "def carre(nombre):\n",
    "    return nombre * nombre\n",
    "\n",
    "resultat = carre(4)\n",
    "print(resultat)  # Affichera 16\n",
    "\n",
    "def celsius_en_fahrenheit(celsius):\n",
    "    return (celsius * 9/5) + 32\n",
    "\n",
    "temperature_fahrenheit = celsius_en_fahrenheit(0)\n",
    "print(temperature_fahrenheit)  # Affichera 32\n",
    "\n",
    "def est_pair(nombre):\n",
    "    return nombre % 2 == 0\n",
    "\n",
    "resultat = est_pair(10)\n",
    "print(resultat)  # Affichera True\n",
    "\n",
    "def maximum(a, b):\n",
    "    if a > b:\n",
    "        return a\n",
    "    else:\n",
    "        return b\n",
    "\n",
    "max_nombre = maximum(10, 20)\n",
    "print(max_nombre)  # Affichera 20\n"
   ]
  },
  {
   "cell_type": "markdown",
   "metadata": {},
   "source": [
    "- **Portée des Variables**\n",
    "\n",
    "La portée d'une variable détermine où dans le code elle est accessible. En Python, les variables peuvent avoir une portée locale ou globale."
   ]
  },
  {
   "cell_type": "code",
   "execution_count": null,
   "metadata": {},
   "outputs": [],
   "source": [
    "x = \"global\"  # Variable globale\n",
    "\n",
    "def ma_fonction():\n",
    "    x = \"local\"  # Variable locale\n",
    "    print(x)\n",
    "    print(x)\n",
    "\n",
    "ma_fonction()\n"
   ]
  },
  {
   "cell_type": "markdown",
   "metadata": {},
   "source": [
    "Les variables globales sont utiles pour partager des données entre différentes parties d'un programme.\n",
    "\n",
    "Cependant, il faut les utiliser avec prudence pour éviter des problèmes de conception.\n"
   ]
  },
  {
   "cell_type": "code",
   "execution_count": null,
   "metadata": {},
   "outputs": [],
   "source": [
    "# le mot-clé `global` est utilisé pour modifier la variable globale\n",
    "#  `z` à l'intérieur de la fonction `modifier_globale`.\n",
    "\n",
    "z = 10\n",
    "\n",
    "def modifier_globale():\n",
    "    global z\n",
    "    z = 20\n",
    "\n",
    "print(z)  # Affiche 10\n",
    "modifier_globale()\n",
    "print(z)  # Affiche 20"
   ]
  },
  {
   "cell_type": "code",
   "execution_count": null,
   "metadata": {},
   "outputs": [],
   "source": [
    "# Les arguments mot-clé permettent de passer des arguments\n",
    "#  à une fonction en spécifiant le nom du paramètre.\n",
    "def ma_fonction(nom, age):\n",
    "    print(f\"Nom : {nom}, Âge : {age}\")\n",
    "\n",
    "ma_fonction(age=25, nom=\"Alice\")"
   ]
  },
  {
   "cell_type": "markdown",
   "metadata": {},
   "source": [
    "- **Nombre Variable d'Arguments**\n",
    "\n",
    "Vous pouvez créer des fonctions qui acceptent un nombre variable d'arguments grâce\n",
    " à `*args` pour les listes et `**kwargs` pour les dictionnaires de mots-clés.\n"
   ]
  },
  {
   "cell_type": "code",
   "execution_count": null,
   "metadata": {},
   "outputs": [],
   "source": [
    "# arguments arbitraire on ne connait pas le nombre de parametre à l'avance\n",
    "def nombre_args(*nombre):\n",
    "    print(nombre[0]*nombre[1])\n",
    "\n",
    "nombre_args(4, 3, 4, 90)"
   ]
  },
  {
   "cell_type": "code",
   "execution_count": null,
   "metadata": {},
   "outputs": [],
   "source": [
    "args_tuple = (5, 6, 8, 9)\n",
    "nombre_args(*args_tuple) # mettre etoile pour le tuple"
   ]
  },
  {
   "cell_type": "code",
   "execution_count": null,
   "metadata": {},
   "outputs": [],
   "source": [
    "# pratique pour définir des clé d'arguments\n",
    "def nombre_kwarg(**nombre):\n",
    "    print('Mon age est : ' + nombre['age'] + ' et ma taille est : ' + nombre[\"taille\"])\n",
    "\n",
    "nombre_kwarg(age  = '15', taille = '1.65')"
   ]
  },
  {
   "cell_type": "code",
   "execution_count": null,
   "metadata": {},
   "outputs": [],
   "source": [
    "# `args` est un tuple contenant tous les arguments positionnels\n",
    "#`kwargs` est un dictionnaire contenant tous les arguments nommés.\n",
    "\n",
    "def ma_fonction(*args, **kwargs):\n",
    "    print(\"args:\", args)\n",
    "    print(\"kwargs:\", kwargs)\n",
    "\n",
    "ma_fonction(1, 2, 3, nom=\"Alice\", age=25)\n"
   ]
  },
  {
   "cell_type": "markdown",
   "metadata": {},
   "source": [
    "- **Bonnes Pratiques**\n",
    "Nommer clairement vos fonctions est crucial pour la lisibilité et la maintenabilité de votre code. Les noms de fonctions doivent être descriptifs et refléter ce qu'ils font.  \n",
    "    - Utilisez des noms descriptifs.\n",
    "    - Privilégiez les verbes pour les fonctions effectuant des actions.\n",
    "    - Évitez les abréviations non évidentes.\n",
    "Documenter vos fonctions avec des **docstrings**, aide d'autres programmeurs (et vous-même dans le futur) à comprendre rapidement ce que fait votre fonction.\n",
    "\n",
    "```python\n",
    "def ma_fonction():\n",
    "    \"\"\"\n",
    "    Description de ce que fait la fonction.\n",
    "    Peut inclure des détails sur les paramètres et la valeur de retour.\n",
    "    \"\"\"\n",
    "    # corps de la fonction\n",
    "```\n",
    "Les docstrings sont placées juste sous la définition de la fonction et sont entourées de triples guillemets."
   ]
  },
  {
   "cell_type": "code",
   "execution_count": null,
   "metadata": {},
   "outputs": [],
   "source": [
    "# fonction qui renvoie un nombre à la puissance\n",
    "def nombre_puissance(nombre, puissance): \n",
    "    # documenter le code\n",
    "    \"\"\"\n",
    "    cette fonction calcule un nombre à la puissance et retourne le résultat.    \n",
    "    Parameters:    \n",
    "    nombre    (int): le premier nombre \n",
    "    puissance (int): le deuxième nombre    \n",
    "    Returns   (int): le resultat nombre a la puissance     \n",
    "    \n",
    "    \"\"\"\n",
    "    return nombre ** puissance\n",
    "\n",
    "# interaction  avec un utilisateur \n",
    "num = int(input(\"Saississez un nombre entier : \"))\n",
    "power = int(input(\"Saississez un nombre entier : \"))\n",
    "\n",
    "print(\"Le résultat est :\", nombre_puissance(nombre = num, puissance = power))\n"
   ]
  },
  {
   "cell_type": "markdown",
   "metadata": {},
   "source": [
    "<a id=\"3-gestion-des-exceptions\"></a>\n",
    "## 3. Gestion des exceptions"
   ]
  },
  {
   "cell_type": "markdown",
   "metadata": {},
   "source": [
    "<a id=\"31-definition\"></a>\n",
    "### 3.1 Définition\n",
    "**Une exception est une erreur** qui se produit pendant l'exécution du programme, contrairement aux erreurs de syntaxe qui sont détectées avant l'exécution. Les exceptions peuvent être dues à diverses raisons, telles que des entrées invalides, des opérations mathématiques impossibles, des manipulations de fichiers incorrectes, etc.\n",
    "\n",
    "Voici quelques **exemples d'exceptions** fréquemment rencontrées :\n",
    "\n",
    "- `IndexError` : Se produit lorsqu'on tente d'accéder à un index qui n'existe pas dans une séquence (comme une liste ou un tuple)."
   ]
  },
  {
   "cell_type": "code",
   "execution_count": null,
   "metadata": {},
   "outputs": [],
   "source": [
    "ma_liste = [\"A\", 3, \"serpent\"]\n",
    "element = ma_liste[5]  # IndexError car l'index 5 n'existe pas dans une liste de taille 3"
   ]
  },
  {
   "cell_type": "markdown",
   "metadata": {},
   "source": [
    "- `ValueError` : Apparaît lorsqu'une fonction reçoit un argument de type correct mais d'une valeur inappropriée."
   ]
  },
  {
   "cell_type": "code",
   "execution_count": null,
   "metadata": {},
   "outputs": [],
   "source": [
    "nombre = int(\"abc\")  # ValueError car \"abc\" ne peut pas être converti en entier"
   ]
  },
  {
   "cell_type": "markdown",
   "metadata": {},
   "source": [
    "- `TypeError` : Se produit lorsqu'une opération ou fonction est appliquée à un objet d'un type inapproprié."
   ]
  },
  {
   "cell_type": "code",
   "execution_count": null,
   "metadata": {},
   "outputs": [],
   "source": [
    "somme = \"texte\" + 5  # TypeError car on ne peut pas ajouter une chaîne de caractères et un entier"
   ]
  },
  {
   "cell_type": "markdown",
   "metadata": {},
   "source": [
    "- `FileNotFoundError` : Levée lorsqu'une tentative de lecture d'un fichier échoue parce que le fichier n'existe pas."
   ]
  },
  {
   "cell_type": "code",
   "execution_count": null,
   "metadata": {},
   "outputs": [],
   "source": [
    "with open(\"fichier_inexistant.txt\", \"r\") as fichier:\n",
    "    contenu = fichier.read()  # FileNotFoundError si \"fichier_inexistant.txt\" n'existe pas"
   ]
  },
  {
   "cell_type": "markdown",
   "metadata": {},
   "source": [
    "- `ZeroDivisionError` : Se produit lorsqu'une division par zéro est tentée."
   ]
  },
  {
   "cell_type": "code",
   "execution_count": null,
   "metadata": {},
   "outputs": [],
   "source": [
    "resultat = 10 / 0  # ZeroDivisionError car on ne peut pas diviser par zéro"
   ]
  },
  {
   "cell_type": "markdown",
   "metadata": {},
   "source": [
    "- `NameError` : Se produit lorsqu'une variable n'est pas définie dans le contexte actuel."
   ]
  },
  {
   "cell_type": "code",
   "execution_count": null,
   "metadata": {},
   "outputs": [],
   "source": [
    "def ma_fonction():\n",
    "    variable_a_afficher = \"Bonjour\"\n",
    "    print(variable_a_afficher)\n",
    "\n",
    "ma_fonction()\n",
    "print(variable_a_afficher)  # NameError car 'variable_a_afficher' n'est pas définie en dehors de la fonction"
   ]
  },
  {
   "cell_type": "markdown",
   "metadata": {},
   "source": [
    "<a id=\"32-traitement\"></a>\n",
    "### 3.2 **Traitement des exceptions**\n",
    "La **gestion des exceptions** est un aspect crucial de la programmation pour plusieurs raisons :\n",
    "\n",
    "- **Robustesse** : Elle permet à un programme de gérer des situations d'erreur de manière gracieuse sans s'arrêter brusquement.\n",
    "- **Contrôle du Flux** : Elle offre un moyen de diriger le flux d'un programme lorsque des situations exceptionnelles se produisent.\n",
    "- **Débogage Facilité** : Elle aide à identifier les causes des erreurs et à les gérer efficacement.\n",
    "- **Sécurité** : Elle permet de gérer des situations potentiellement dangereuses, comme la lecture de fichiers corrompus ou la gestion de données utilisateur erronées.\n",
    "\n",
    "\n",
    "#### 3.2.1 **Try-except**\n",
    "\n",
    "La syntaxe de base pour la gestion des exceptions en Python utilise les instructions `try` et `except`. \n",
    "\n",
    "Voici un exemple simple :\n",
    "\n",
    "```python\n",
    "try:\n",
    "    # Bloc de code à essayer\n",
    "    result = 10 / 0\n",
    "except ZeroDivisionError:\n",
    "    # Ce bloc est exécuté en cas d'erreur ZeroDivisionError\n",
    "    print(\"Division par zéro !\")\n",
    "```\n",
    "\n",
    "Dans cet exemple, si le code dans le bloc `try` cause une `ZeroDivisionError`, le programme ne s'arrêtera pas. Au lieu de cela, il exécutera le code dans le bloc `except`."
   ]
  },
  {
   "cell_type": "code",
   "execution_count": null,
   "metadata": {},
   "outputs": [],
   "source": [
    "def gestion_index_error(liste, index):\n",
    "    try:\n",
    "        return liste[index]\n",
    "    except IndexError as e:\n",
    "        return f\"Erreur d'index : {e}\"\n",
    "\n",
    "# Test\n",
    "ma_liste = [\"A\", 3, \"serpent\"]\n",
    "#print(gestion_index_error(ma_liste, 1))\n",
    "print(gestion_index_error(ma_liste, 5))"
   ]
  },
  {
   "cell_type": "code",
   "execution_count": null,
   "metadata": {},
   "outputs": [],
   "source": [
    "def conversion_en_entier(entree):\n",
    "    try:\n",
    "        return int(entree)\n",
    "    except ValueError as e:\n",
    "        return f\"Erreur de valeur : {e}\"\n",
    "\n",
    "# Test\n",
    "val_entree = \"190\"\n",
    "print(conversion_en_entier(val_entree))\n",
    "val_entree = \"Robert\"\n",
    "print(conversion_en_entier(val_entree))"
   ]
  },
  {
   "cell_type": "code",
   "execution_count": null,
   "metadata": {},
   "outputs": [],
   "source": [
    "def additionner(a, b):\n",
    "    try:\n",
    "        return a + b\n",
    "    except TypeError as e:\n",
    "        return f\"Erreur de type : {e}\"\n",
    "\n",
    "# Test\n",
    "print(additionner(2, 5))\n",
    "print(additionner(\"texte\", 5))"
   ]
  },
  {
   "cell_type": "code",
   "execution_count": null,
   "metadata": {},
   "outputs": [],
   "source": [
    "def lire_fichier(nom_fichier):\n",
    "    try:\n",
    "        with open(nom_fichier, \"r\") as fichier:\n",
    "            return fichier.read()\n",
    "    except FileNotFoundError as e:\n",
    "        return f\"Erreur de fichier non trouvé : {e}\"\n",
    "\n",
    "# Test\n",
    "data = lire_fichier(\"../data/Orgueil_et_Prejuges.txt\")\n",
    "print(data)\n",
    "\n",
    "data = lire_fichier(\"../data/fichier_inexistant.txt\")\n",
    "print(data)"
   ]
  },
  {
   "cell_type": "code",
   "execution_count": null,
   "metadata": {},
   "outputs": [],
   "source": [
    "def diviser(a, b):\n",
    "    try:\n",
    "        return a / b\n",
    "    except ZeroDivisionError as e:\n",
    "        return f\"Erreur de division par zéro : {e}\"\n",
    "\n",
    "# Test\n",
    "print(diviser(10, 0))"
   ]
  },
  {
   "cell_type": "code",
   "execution_count": null,
   "metadata": {},
   "outputs": [],
   "source": [
    "def acceder_variable(nom_variable):\n",
    "    try:\n",
    "        return eval(nom_variable) # renvoie contenu de la variable\n",
    "    except NameError as e:\n",
    "        return f\"Erreur de nom : {e}\"\n",
    "\n",
    "# Test   \n",
    "print(acceder_variable(\"val_entree\")) \n",
    "print(acceder_variable(\"variable_inexistante\"))"
   ]
  },
  {
   "cell_type": "code",
   "execution_count": null,
   "metadata": {},
   "outputs": [],
   "source": [
    "def conversion_en_entier(chaine):\n",
    "    try:\n",
    "        return int(chaine)\n",
    "    except ValueError as e:\n",
    "        return f\"Erreur de valeur : {e}\"\n",
    "\n",
    "def additionner(a, b):\n",
    "    try:\n",
    "        return a + b\n",
    "    except TypeError as e:\n",
    "        return f\"Erreur de type : {e}\"\n",
    "\n",
    "def convertir_et_additionner(chaine1, chaine2):\n",
    "    valeur1 = conversion_en_entier(chaine1)\n",
    "    valeur2 = conversion_en_entier(chaine2)\n",
    "\n",
    "    # Vérification si les conversions se sont bien passées\n",
    "    if isinstance(valeur1, int) and isinstance(valeur2, int):\n",
    "        return additionner(valeur1, valeur2)\n",
    "    else:\n",
    "        # Retourne les messages d'erreur si la conversion a échoué\n",
    "        return valeur1 if isinstance(valeur1, str) else valeur2\n",
    "\n",
    "# Test\n",
    "# print(convertir_et_additionner(\"3\", \"4\"))  \n",
    "print(convertir_et_additionner(\"a\", \"4\"))  "
   ]
  },
  {
   "cell_type": "markdown",
   "metadata": {},
   "source": [
    "Vous pouvez avoir plusieurs blocs `except` pour gérer différents types d'exceptions. Cela permet de réagir de manière appropriée à différentes erreurs qui peuvent survenir.\n",
    "\n",
    "```python\n",
    "try:\n",
    "    # Tentative d'exécution de code\n",
    "    ...\n",
    "except TypeError:\n",
    "    # Gestion de TypeError\n",
    "    ...\n",
    "except ValueError:\n",
    "    # Gestion de ValueError\n",
    "    ...\n",
    "```"
   ]
  },
  {
   "cell_type": "code",
   "execution_count": null,
   "metadata": {},
   "outputs": [],
   "source": [
    "def operation_complexe(a, b, c):\n",
    "    try:\n",
    "        resultat = (a + b) / c\n",
    "        return resultat\n",
    "    except TypeError as e:\n",
    "        return f\"Erreur de type : {e}\"\n",
    "    except ZeroDivisionError as e:\n",
    "        return f\"Erreur de division par zéro : {e}\"\n",
    "    except Exception as e:\n",
    "        return f\"Autre erreur : {e}\"\n",
    "\n",
    "# Exemple d'utilisation\n",
    "print(operation_complexe(1, 2, 0))   # Devrait attraper ZeroDivisionError\n",
    "print(operation_complexe(1, \"deux\", 3))  # Devrait attraper TypeError\n",
    "print(operation_complexe(1, 2, 3))  # Pas d'erreur, retourne 1.0\n"
   ]
  },
  {
   "cell_type": "markdown",
   "metadata": {},
   "source": [
    "Dans cet exemple, la fonction `operation_complexe` essaie d'effectuer une opération qui peut lever plusieurs types d'exceptions :\n",
    "\n",
    "- `TypeError` si `a`, `b`, ou `c` n'est pas un nombre.\n",
    "- `ZeroDivisionError` si `c` est zéro.\n",
    "- `Exception` comme un filet de sécurité pour attraper d'autres types d'exceptions inattendues.\n",
    "\n",
    "L'utilisation de plusieurs blocs `except` permet de donner des réponses spécifiques à chaque type d'erreur, améliorant ainsi la lisibilité et la maintenance du code.\n",
    "\n",
    "#### 3.2.2 **Le bloc Finally**\n",
    "Le bloc `finally` en Python est utilisé pour définir des actions qui doivent être exécutées après les blocs `try` et `except`, peu importe si une exception a été levée ou non. \n",
    "\n",
    "Ce bloc est souvent utilisé pour des opérations de nettoyage qui doivent s'exécuter dans tous les cas, comme la fermeture de fichiers ou la libération de ressources externes.\n"
   ]
  },
  {
   "cell_type": "code",
   "execution_count": null,
   "metadata": {},
   "outputs": [],
   "source": [
    "def calculer_division(a, b):\n",
    "    try:\n",
    "        resultat = a / b\n",
    "        return resultat\n",
    "    except ZeroDivisionError:\n",
    "        return \"Une division par zéro a été tentée.\"\n",
    "    finally:\n",
    "        print(\"Opération terminée (réussie ou non).\")\n",
    "\n",
    "# Exemple d'utilisation\n",
    "print(calculer_division(10, 2))  # Pas d'erreur, affiche le résultat et le message de finally\n",
    "print(calculer_division(10, 0))  # Attrape ZeroDivisionError, affiche le message d'erreur et le message de finally\n"
   ]
  },
  {
   "cell_type": "code",
   "execution_count": null,
   "metadata": {},
   "outputs": [],
   "source": [
    "def exemple_finally():\n",
    "    try:\n",
    "        fichier = open(\"../data/Orgueil_et_Prejuges.txt\", \"r\")\n",
    "        contenu = fichier.read()\n",
    "        return contenu\n",
    "    except FileNotFoundError as e:\n",
    "        return f\"Erreur : {e}\"\n",
    "    finally:\n",
    "        fichier.close()\n",
    "        print(\"Fichier fermé.\")\n",
    "\n",
    "# Exemple d'utilisation\n",
    "print(exemple_finally())"
   ]
  },
  {
   "cell_type": "markdown",
   "metadata": {},
   "source": [
    "#### 3.2.2 **Le bloc Else**\n",
    "\n",
    "Utilisez `else` lorsque vous avez besoin d'exécuter du code qui ne doit s'exécuter que si le bloc `try` s'est exécuté sans erreur, mais avant d'exécuter le code dans le bloc `finally`.\n"
   ]
  },
  {
   "cell_type": "code",
   "execution_count": null,
   "metadata": {},
   "outputs": [],
   "source": [
    "def exemple_else(chaine):\n",
    "    try:\n",
    "        num = int(chaine)\n",
    "    except ValueError:\n",
    "        return \"Ce n'est pas un nombre valide.\"\n",
    "    else:\n",
    "        return f\"Conversion réussie : {num}\"\n",
    "\n",
    "# Exemple d'utilisation\n",
    "print(exemple_else(\"123\"))\n",
    "print(exemple_else(\"abc\"))"
   ]
  },
  {
   "cell_type": "code",
   "execution_count": null,
   "metadata": {},
   "outputs": [],
   "source": [
    "def division_avec_verification(a, b):\n",
    "    try:\n",
    "        resultat = a / b\n",
    "    except ZeroDivisionError:\n",
    "        return \"Une division par zéro a été tentée.\"\n",
    "    else:\n",
    "        if resultat > 50:\n",
    "            return \"Le résultat est étonnamment grand.\"\n",
    "        return resultat\n",
    "    finally:\n",
    "        print(\"Opération de division terminée (réussie ou non).\")\n",
    "\n",
    "# Exemple d'utilisation\n",
    "print(division_avec_verification(1000, 10))  # Division réussie, vérification dans 'else', puis 'finally'\n",
    "print(division_avec_verification(10, 0))    # Attrape ZeroDivisionError, puis exécute 'finally'\n"
   ]
  },
  {
   "cell_type": "markdown",
   "metadata": {},
   "source": [
    "<a id=\"33-assertions\"></a>\n",
    "### 3.3 **Assertions**\n",
    "\n",
    "L'instruction `assert` est utilisée pour tester si une condition est vraie. Si la condition est fausse, `AssertionError` est levée.\n",
    "\n",
    "Les assertions sont principalement utilisées comme un moyen de débogage, pour vérifier des conditions internes, tandis que les exceptions sont utilisées pour gérer des erreurs et des conditions exceptionnelles dans le flux normal du programme."
   ]
  },
  {
   "cell_type": "code",
   "execution_count": null,
   "metadata": {},
   "outputs": [],
   "source": [
    "def diviser_par_deux(n):\n",
    "    assert n % 2 == 0, \"Le nombre doit être pair.\"\n",
    "    return n / 2\n",
    "\n",
    "# Exemple d'utilisation\n",
    "print(diviser_par_deux(4))  # Fonctionne bien"
   ]
  },
  {
   "cell_type": "code",
   "execution_count": null,
   "metadata": {},
   "outputs": [],
   "source": [
    "print(diviser_par_deux(3))  # Déclenche AssertionError"
   ]
  },
  {
   "cell_type": "markdown",
   "metadata": {},
   "source": [
    "<a id=\"34-raise\"></a>\n",
    "### 3.4 **Raise**\n",
    "\n",
    "L'instruction `raise` en Python est un outil crucial pour la gestion des exceptions, permettant aux développeurs de déclencher explicitement des exceptions lorsqu'une condition spécifique se produit dans le programme. \n",
    "\n",
    "Les exceptions levées avec `raise` peuvent être capturées et gérées en amont, permettant aux développeurs de réagir de manière appropriée aux différents types de problèmes qui peuvent survenir, améliorant ainsi la robustesse et la fiabilité du code.\n",
    "\n",
    "Dans l'exemple suivant, si `set_age` est appelée avec un âge négatif, une `ValueError` est levée, indiquant que l'âge ne peut pas être négatif.\n"
   ]
  },
  {
   "cell_type": "code",
   "execution_count": null,
   "metadata": {},
   "outputs": [],
   "source": [
    "def set_age(age):\n",
    "       if age < 0:\n",
    "           raise ValueError(\"L'âge ne peut pas être négatif.\")\n",
    "       print(f\"Âge défini à {age} ans.\")\n",
    "\n",
    "try:\n",
    "    set_age(-5)\n",
    "except ValueError as e:\n",
    "    print(e)"
   ]
  },
  {
   "cell_type": "markdown",
   "metadata": {},
   "source": [
    "Ici, `diviser` lève une `ZeroDivisionError` si le diviseur (`b`) est zéro. Cela empêche l'exécution d'une division par zéro, ce qui entraînerait une erreur en Python.\n"
   ]
  },
  {
   "cell_type": "code",
   "execution_count": null,
   "metadata": {},
   "outputs": [],
   "source": [
    "def diviser(a, b):\n",
    "       if b == 0:\n",
    "           raise ZeroDivisionError(\"Le diviseur ne peut pas être zéro.\")\n",
    "       return a / b\n",
    "\n",
    "try:\n",
    "    resultat = diviser(10, 0)\n",
    "except ZeroDivisionError as e:\n",
    "    print(e)"
   ]
  },
  {
   "cell_type": "markdown",
   "metadata": {},
   "source": [
    "<a id=\"4-lecture-et-ecriture-de-fichiers\"></a>\n",
    "## 4. Lecture et écriture de fichiers"
   ]
  },
  {
   "cell_type": "markdown",
   "metadata": {},
   "source": [
    "### Gestion simple des fichiers \n",
    "\n",
    "**1. Fonction `open()`**\n",
    "   - La fonction `open()` est utilisée pour ouvrir un fichier en Python. \n",
    "   - Syntaxe : `open(nom_de_fichier, mode)`. \n",
    "   - Le `nom_de_fichier` spécifie le chemin d'accès, tandis que le `mode` détermine le type d'opération (lecture, écriture, etc.).\n",
    "\n",
    "**2. Modes d'Ouverture de Fichier**\n",
    "- r, pour une ouverture en lecture (READ).\n",
    "- w, pour une ouverture en écriture (WRITE), à chaque ouverture le contenu du fichier est écrasé. Si le fichier n'existe pas python le crée.\n",
    "- a, pour une ouverture en mode ajout à la fin du fichier (APPEND). Si le fichier n'existe pas python le crée.\n",
    "- b, pour une ouverture en mode binaire.\n",
    "- t, pour une ouverture en mode texte.\n",
    "- x, crée un nouveau fichier et l'ouvre pour écriture\n",
    "\n",
    "**3. Bonnes Pratiques**\n",
    "   - Utiliser le gestionnaire de contexte `with` pour une meilleure gestion des exceptions et une fermeture automatique du fichier.\n"
   ]
  },
  {
   "cell_type": "code",
   "execution_count": 1,
   "metadata": {},
   "outputs": [
    {
     "name": "stdout",
     "output_type": "stream",
     "text": [
      "Cher journal,\n",
      "\n",
      "Aujourd'hui, le ciel était d'un bleu éclatant, parsemé de nuages cotonneux. \n",
      "\n",
      "Les rues animées de la ville bourdonnaient de la vie quotidienne, avec des gens allant et venant. \n",
      "\n",
      "J'ai passé l'après-midi au parc, observant les oiseaux et écoutant le doux murmure de la nature. \n",
      "\n",
      "C'était une journée paisible, parfaite pour la réflexion et l'appréciation des petites merveilles de la vie.\n",
      "\n",
      "À demain,\n",
      "Un Observateur Attentif\n",
      "\n"
     ]
    }
   ],
   "source": [
    "chemin_fichier = \"../data/fichier_lu.txt\"\n",
    "\n",
    "# Lire un fichier\n",
    "with open(chemin_fichier, 'r', encoding='utf-8') as fichier:\n",
    "    contenu = fichier.read()\n",
    "    print(contenu)"
   ]
  },
  {
   "cell_type": "code",
   "execution_count": 4,
   "metadata": {},
   "outputs": [],
   "source": [
    "# Écrire dans un fichier\n",
    "with open('../data/fichier_ecris.txt', 'w') as fichier:\n",
    "    fichier.write(\"Bonjour.\")"
   ]
  },
  {
   "cell_type": "markdown",
   "metadata": {},
   "source": [
    "**4. Lire un fichier ligne par ligne**\n",
    "   - Utilisation de `for line in file:` pour lire un fichier ligne par ligne.\n",
    "   - Cela permet de traiter de grands fichiers sans surcharger la mémoire.\n",
    "   - Utiliser `read()`, `readline()`, `readlines()`**\n",
    "      - `read()` lit tout le contenu du fichier.\n",
    "      - `readline()` lit une ligne à la fois.\n",
    "      - `readlines()` lit toutes les lignes et les retourne sous forme de liste."
   ]
  },
  {
   "cell_type": "code",
   "execution_count": 5,
   "metadata": {},
   "outputs": [
    {
     "name": "stdout",
     "output_type": "stream",
     "text": [
      "***\n",
      "Cher journal,\n",
      "***\n",
      "\n",
      "***\n",
      "Aujourd'hui, le ciel était d'un bleu éclatant, parsemé de nuages cotonneux.\n",
      "***\n",
      "\n",
      "***\n",
      "Les rues animées de la ville bourdonnaient de la vie quotidienne, avec des gens allant et venant.\n",
      "***\n",
      "\n",
      "***\n",
      "J'ai passé l'après-midi au parc, observant les oiseaux et écoutant le doux murmure de la nature.\n",
      "***\n",
      "\n",
      "***\n",
      "C'était une journée paisible, parfaite pour la réflexion et l'appréciation des petites merveilles de la vie.\n",
      "***\n",
      "\n",
      "***\n",
      "À demain,\n",
      "***\n",
      "Un Observateur Attentif\n"
     ]
    }
   ],
   "source": [
    "chemin_fichier = \"../data/fichier_lu.txt\"\n",
    "\n",
    "# Lire un fichier ligne par ligne\n",
    "with open(chemin_fichier, 'r', encoding='utf-8') as fichier:\n",
    "    for ligne in fichier:\n",
    "        print(\"***\")\n",
    "        print(ligne.strip())"
   ]
  },
  {
   "cell_type": "markdown",
   "metadata": {},
   "source": [
    "**5. Ecrire un fichier ligne par ligne**\n",
    "   - `writelines()` prend une liste de chaînes de caractères et les écrit dans un fichier."
   ]
  },
  {
   "cell_type": "code",
   "execution_count": 6,
   "metadata": {},
   "outputs": [],
   "source": [
    "# Écrire dans un fichier\n",
    "with open('../data/rapport.txt', 'w',  encoding='utf-8') as fichier:\n",
    "    fichier.write(\"Rapport du Jour\\n\")\n",
    "    fichier.write(\"=====================\\n\")\n",
    "    fichier.write(\"Le temps était ensoleillé et le parc était paisible.\\n\")\n",
    "\n",
    "# Écrire une liste de lignes\n",
    "lignes = [\"Première ligne\\n\", \"Deuxième ligne\\n\", \"Troisième ligne\\n\"]\n",
    "with open('../data/rapport.txt', 'a', encoding='utf-8') as fichier:\n",
    "    fichier.writelines(lignes)"
   ]
  },
  {
   "cell_type": "markdown",
   "metadata": {},
   "source": [
    "### Travailler avec différents formats de fichier\n",
    "   - Utilisation du module `csv` pour lire et écrire des fichiers CSV.\n",
    "   - Utilisation du module `json` pour manipuler des données JSON."
   ]
  },
  {
   "cell_type": "code",
   "execution_count": 7,
   "metadata": {},
   "outputs": [
    {
     "name": "stdout",
     "output_type": "stream",
     "text": [
      "['nom', 'age', 'ville']\n",
      "['Alice', '25', 'Paris']\n",
      "['Bob', '30', 'Lyon']\n",
      "['Clara', '28', 'Marseille']\n"
     ]
    }
   ],
   "source": [
    "import csv\n",
    "import json\n",
    "\n",
    "# Lire un fichier CSV\n",
    "with open('../data/donnees.csv', mode ='r') as fichier_csv:\n",
    "    lecteur_csv = csv.reader(fichier_csv)\n",
    "    for ligne in lecteur_csv:\n",
    "        print(ligne)"
   ]
  },
  {
   "cell_type": "code",
   "execution_count": 8,
   "metadata": {},
   "outputs": [
    {
     "name": "stdout",
     "output_type": "stream",
     "text": [
      "[{'nom': 'Dupont', 'age': 30}, {'nom': 'Martin', 'age': 40, 'ville': 'Nice', 'profession': 'Médecin'}]\n"
     ]
    }
   ],
   "source": [
    "# Dictionnaire\n",
    "donnees = [{\"nom\": \"Dupont\", \"age\": 30}, {\"nom\": \"Martin\", \"age\": 40, \"ville\": \"Nice\", \"profession\": \"Médecin\"}]\n",
    "print(donnees)"
   ]
  },
  {
   "cell_type": "code",
   "execution_count": null,
   "metadata": {},
   "outputs": [],
   "source": [
    "# Écrire et lire des données JSON\n",
    "with open('../data/donnees.json', 'w', encoding='utf-8') as fichier_json:\n",
    "    json.dump(donnees, fichier_json)"
   ]
  },
  {
   "cell_type": "code",
   "execution_count": null,
   "metadata": {},
   "outputs": [],
   "source": [
    "with open('../data/donnees.json', 'r', encoding='utf-8') as fichier_json:\n",
    "    donnees_lues = json.load(fichier_json)\n",
    "    print(donnees_lues)"
   ]
  },
  {
   "cell_type": "markdown",
   "metadata": {},
   "source": [
    "<a id=\"5-modules-et-bibliotheques\"></a>\n",
    "## 5. Modules et Bibliothèques"
   ]
  },
  {
   "cell_type": "markdown",
   "metadata": {},
   "source": [
    "### 5.1 Numpy \n",
    "\n",
    "La bibliothèque NumPy (http://www.numpy.org/) permet d’effectuer des **calculs numériques** avec Python. Elle introduit une gestion facilitée des tableaux de nombres.\n",
    "\n",
    "Pour utiliser NumPy, vous devez au préalable vous placer dans un environnement qui comprend cette bibliothèque, voir Introduction à Python.\n",
    "\n",
    "Il faut au départ importer le package numpy avec l’instruction suivante :\n"
   ]
  },
  {
   "cell_type": "code",
   "execution_count": 9,
   "metadata": {},
   "outputs": [],
   "source": [
    "import numpy as np"
   ]
  },
  {
   "cell_type": "markdown",
   "metadata": {},
   "source": [
    "Les tableaux (en anglais, array) peuvent être créés avec numpy.array(). On utilise des crochets pour délimiter les listes d’éléments dans les tableaux.\n",
    "\n"
   ]
  },
  {
   "cell_type": "code",
   "execution_count": 10,
   "metadata": {},
   "outputs": [
    {
     "name": "stdout",
     "output_type": "stream",
     "text": [
      "[1 2 3 4]\n"
     ]
    },
    {
     "data": {
      "text/plain": [
       "numpy.ndarray"
      ]
     },
     "execution_count": 10,
     "metadata": {},
     "output_type": "execute_result"
    }
   ],
   "source": [
    "a = np.array([1, 2, 3, 4])\n",
    "print(a)\n",
    "type(a)"
   ]
  },
  {
   "cell_type": "code",
   "execution_count": 12,
   "metadata": {},
   "outputs": [
    {
     "name": "stdout",
     "output_type": "stream",
     "text": [
      "1 4\n"
     ]
    }
   ],
   "source": [
    "print(a[0], a[-1])"
   ]
  },
  {
   "cell_type": "code",
   "execution_count": 17,
   "metadata": {},
   "outputs": [
    {
     "name": "stdout",
     "output_type": "stream",
     "text": [
      "[1 2 3 4]\n"
     ]
    },
    {
     "data": {
      "text/plain": [
       "(4,)"
      ]
     },
     "execution_count": 17,
     "metadata": {},
     "output_type": "execute_result"
    }
   ],
   "source": [
    "print(a)\n",
    "a.shape"
   ]
  },
  {
   "cell_type": "markdown",
   "metadata": {},
   "source": [
    "**Tableau 2D**\n",
    "\n",
    "Il est possible de créer un tableau 2D en utilisant une liste de listes au moyen de crochets imbriqués. Les listes internes correspondent à des lignes du tableau.\n"
   ]
  },
  {
   "cell_type": "code",
   "execution_count": 14,
   "metadata": {},
   "outputs": [],
   "source": [
    "b = np.array([[1, 2, 3], [4, 5, 6]])\n"
   ]
  },
  {
   "cell_type": "code",
   "execution_count": 16,
   "metadata": {},
   "outputs": [
    {
     "name": "stdout",
     "output_type": "stream",
     "text": [
      "[[1 2 3]\n",
      " [4 5 6]]\n"
     ]
    },
    {
     "data": {
      "text/plain": [
       "(2, 3)"
      ]
     },
     "execution_count": 16,
     "metadata": {},
     "output_type": "execute_result"
    }
   ],
   "source": [
    "print(b)\n",
    "b.shape"
   ]
  },
  {
   "cell_type": "code",
   "execution_count": 19,
   "metadata": {},
   "outputs": [
    {
     "data": {
      "text/plain": [
       "6"
      ]
     },
     "execution_count": 19,
     "metadata": {},
     "output_type": "execute_result"
    }
   ],
   "source": [
    "b[0, 2]\n",
    "b[1,2]"
   ]
  },
  {
   "cell_type": "code",
   "execution_count": 97,
   "metadata": {},
   "outputs": [
    {
     "data": {
      "text/plain": [
       "array([[1, 3],\n",
       "       [4, 6]])"
      ]
     },
     "execution_count": 97,
     "metadata": {},
     "output_type": "execute_result"
    }
   ],
   "source": [
    "# Ligne entière \n",
    "b[0,:]\n",
    "\n",
    "# Dernière ligne en partant de la fin \n",
    "b[-1,:]\n",
    "\n",
    "# Derniere Colonne entière\n",
    "b[:,-1]\n",
    "\n",
    "# Deux dernieres colonnes\n",
    "b[:, [0, 2]]"
   ]
  },
  {
   "cell_type": "code",
   "execution_count": 27,
   "metadata": {},
   "outputs": [
    {
     "data": {
      "text/plain": [
       "array([[1, 3],\n",
       "       [4, 6]])"
      ]
     },
     "execution_count": 27,
     "metadata": {},
     "output_type": "execute_result"
    }
   ],
   "source": [
    "b[:,[0,2]]"
   ]
  },
  {
   "cell_type": "code",
   "execution_count": 34,
   "metadata": {},
   "outputs": [
    {
     "name": "stdout",
     "output_type": "stream",
     "text": [
      "[[8 6 7 2 7]\n",
      " [6 3 9 7 2]\n",
      " [9 5 0 7 0]\n",
      " [6 4 2 1 9]\n",
      " [1 2 7 5 2]\n",
      " [4 6 5 0 2]\n",
      " [6 3 1 6 8]\n",
      " [1 3 3 5 6]\n",
      " [6 8 9 6 6]\n",
      " [0 3 7 0 0]]\n"
     ]
    },
    {
     "data": {
      "text/plain": [
       "(10, 5)"
      ]
     },
     "execution_count": 34,
     "metadata": {},
     "output_type": "execute_result"
    }
   ],
   "source": [
    "# a random array\n",
    "c = np.random.randint(low=0, high=10, size=[10,5])\n",
    "print(c)\n",
    "c.shape"
   ]
  },
  {
   "cell_type": "markdown",
   "metadata": {},
   "source": [
    "La fonction `numpy.arange` est utilisée pour créer des tableaux avec des valeurs dans un intervalle spécifié."
   ]
  },
  {
   "cell_type": "code",
   "execution_count": 62,
   "metadata": {},
   "outputs": [
    {
     "name": "stdout",
     "output_type": "stream",
     "text": [
      "[ 2  4  6  8 10 12 14 16 18 20 22 24 26 28 30 32 34 36 38 40 42 44 46 48\n",
      " 50 52 54 56 58 60 62 64 66 68 70 72 74 76 78 80 82 84 86 88 90 92 94 96\n",
      " 98]\n"
     ]
    }
   ],
   "source": [
    "m = np.arange(2, 100, 2)\n",
    "print(m)"
   ]
  },
  {
   "cell_type": "markdown",
   "metadata": {},
   "source": [
    "La fonction `numpy.linspace()` est utilisée pour créer un tableau de valeurs uniformément espacées sur un intervalle spécifié."
   ]
  },
  {
   "cell_type": "code",
   "execution_count": 64,
   "metadata": {},
   "outputs": [
    {
     "name": "stdout",
     "output_type": "stream",
     "text": [
      "[3.         3.66666667 4.33333333 5.         5.66666667 6.33333333\n",
      " 7.         7.66666667 8.33333333 9.        ]\n"
     ]
    }
   ],
   "source": [
    "n = np.linspace(3, 9, 10)\n",
    "print(n)"
   ]
  },
  {
   "cell_type": "markdown",
   "metadata": {},
   "source": [
    "**Fonctions Mathématiques**\n"
   ]
  },
  {
   "cell_type": "markdown",
   "metadata": {},
   "source": [
    "1. Fonctions Arithmétiques : `np.add()`, `np.subtract()`, `np.multiply()`, `np.divide()`, `np.power()`"
   ]
  },
  {
   "cell_type": "code",
   "execution_count": 98,
   "metadata": {},
   "outputs": [
    {
     "name": "stdout",
     "output_type": "stream",
     "text": [
      "[5 7 9]\n"
     ]
    }
   ],
   "source": [
    "a = np.array([1, 2, 3])\n",
    "b = np.array([4, 5, 6])\n",
    "result = np.add(a, b)\n",
    "print(result) "
   ]
  },
  {
   "cell_type": "code",
   "execution_count": null,
   "metadata": {},
   "outputs": [],
   "source": [
    "a = np.array([1, 2, 3])\n",
    "result = np.power(a, 2)\n",
    "print(result) "
   ]
  },
  {
   "cell_type": "markdown",
   "metadata": {},
   "source": [
    "2. Fonctions Trigonométriques : `np.sin()`, `np.cos()`, `np.tan()`"
   ]
  },
  {
   "cell_type": "code",
   "execution_count": null,
   "metadata": {},
   "outputs": [],
   "source": [
    "angles = np.array([0, np.pi/2, np.pi])\n",
    "sin_values = np.sin(angles)\n",
    "print(sin_values)  "
   ]
  },
  {
   "cell_type": "markdown",
   "metadata": {},
   "source": [
    "3. Fonctions d'exponentielle et logarithme :`np.exp()`, `np.log()`, `np.log10()`"
   ]
  },
  {
   "cell_type": "code",
   "execution_count": null,
   "metadata": {},
   "outputs": [],
   "source": [
    "x = np.array([1, 2, 3])\n",
    "exp_x = np.exp(x)\n",
    "print(exp_x) "
   ]
  },
  {
   "cell_type": "markdown",
   "metadata": {},
   "source": [
    "4. Fonctions Statistiques :  `np.mean()`, `np.median()`, `np.std()`"
   ]
  },
  {
   "cell_type": "code",
   "execution_count": null,
   "metadata": {},
   "outputs": [],
   "source": [
    "data = np.array([1, 2, 3, 4, 5])\n",
    "mean_data = np.mean(data)\n",
    "print(mean_data)  "
   ]
  },
  {
   "cell_type": "markdown",
   "metadata": {},
   "source": [
    "5. Fonctions d'Arrondi : `np.round()`, `np.floor()`, `np.ceil()`"
   ]
  },
  {
   "cell_type": "code",
   "execution_count": 99,
   "metadata": {},
   "outputs": [
    {
     "name": "stdout",
     "output_type": "stream",
     "text": [
      "[ 2.  1. -1. -2.]\n"
     ]
    }
   ],
   "source": [
    "values = np.array([1.55, 1.49, -1.27, -1.76])\n",
    "rounded = np.round(values)\n",
    "print(rounded)"
   ]
  },
  {
   "cell_type": "markdown",
   "metadata": {},
   "source": [
    "### 5.2 Pandas\n",
    "Le module `pandas` est une bibliothèque de programmation Python extrêmement populaire, utilisée principalement pour l'analyse de données. Elle fournit des structures de données puissantes et flexibles conçues pour travailler facilement avec des données structurées (comme les tableaux et les séries temporelles) de manière intuitive et efficace. Voici quelques aspects clés de `pandas` :\n",
    "\n",
    "1. **Structures de données principales** : \n",
    "   - **DataFrame** : une structure de données tabulaire avec des lignes et des colonnes étiquetées. C'est similaire à une feuille de calcul Excel ou à une table SQL.\n",
    "   - **Series** : une colonne dans un DataFrame. C'est similaire à une liste en Python, mais avec des fonctionnalités supplémentaires offertes par `pandas`.\n",
    "\n",
    "2. **Manipulation de données** : \n",
    "   - Vous pouvez effectuer des opérations courantes de manipulation de données telles que le tri, le filtrage, la fusion, la jointure et la concaténation.\n",
    "   - `pandas` est excellent pour gérer des données manquantes, remplacer des valeurs, grouper des données, etc.\n",
    "\n",
    "3. **Analyse de données** :\n",
    "   - Il offre des outils pour l'exploration de données, comme le calcul de statistiques et la visualisation.\n",
    "   - Vous pouvez facilement agir sur chaque colonne d'un DataFrame, par exemple pour appliquer des fonctions mathématiques ou de résumé statistique.\n",
    "\n",
    "4. **Interfaçage avec d'autres formats de données** :\n",
    "   - `pandas` peut lire et écrire dans différents formats de fichiers comme CSV, Excel, JSON, HTML, SQL, etc.\n",
    "\n",
    "5. **Avantages en termes de performance** :\n",
    "   - Bien que Python soit un langage interprété, `pandas` est construit sur des bibliothèques comme NumPy, ce qui lui permet d'être rapide et efficace.\n",
    "\n",
    "6. **Utilisation dans divers domaines** :\n",
    "   - Il est largement utilisé dans la finance, l'économie, la statistique, l'analyse de données, la science des données, et plus encore.\n",
    "\n",
    "Pour commencer avec `pandas`, vous devez d'abord l'installer (si ce n'est pas déjà fait) en utilisant pip :\n",
    "\n",
    "```python\n",
    "pip install pandas\n",
    "```\n",
    "\n",
    "Et ensuite, vous pouvez l'importer dans votre script Python :\n",
    "\n",
    "```python\n",
    "import pandas as pd\n",
    "```\n",
    "\n",
    "`pd` est un alias standard pour `pandas`, utilisé pour simplifier la référence à la bibliothèque dans le code.\n",
    "\n",
    "#### 1 - Series "
   ]
  },
  {
   "cell_type": "code",
   "execution_count": 2,
   "metadata": {},
   "outputs": [],
   "source": [
    "import pandas as pd"
   ]
  },
  {
   "cell_type": "code",
   "execution_count": 3,
   "metadata": {},
   "outputs": [],
   "source": [
    "obj=pd.Series([1,\"John\",3.5,\"Hey\"])"
   ]
  },
  {
   "cell_type": "code",
   "execution_count": 4,
   "metadata": {},
   "outputs": [
    {
     "name": "stdout",
     "output_type": "stream",
     "text": [
      "0       1\n",
      "1    John\n",
      "2     3.5\n",
      "3     Hey\n",
      "dtype: object\n",
      "1 John\n",
      "[1 'John' 3.5 'Hey']\n"
     ]
    }
   ],
   "source": [
    "print(obj)\n",
    "print(obj[0], obj[1])\n",
    "print(obj.values)"
   ]
  },
  {
   "cell_type": "code",
   "execution_count": 5,
   "metadata": {},
   "outputs": [],
   "source": [
    "obj2=pd.Series([1,\"John\",3.5,\"Hey\"],\n",
    "               index=[\"a\",\"b\",\"c\",\"d\"])\n"
   ]
  },
  {
   "cell_type": "code",
   "execution_count": 7,
   "metadata": {},
   "outputs": [
    {
     "name": "stdout",
     "output_type": "stream",
     "text": [
      "a       1\n",
      "b    John\n",
      "c     3.5\n",
      "d     Hey\n",
      "dtype: object\n"
     ]
    }
   ],
   "source": [
    "print(obj2)\n"
   ]
  },
  {
   "cell_type": "code",
   "execution_count": 9,
   "metadata": {},
   "outputs": [
    {
     "name": "stdout",
     "output_type": "stream",
     "text": [
      "Hey\n"
     ]
    }
   ],
   "source": [
    "print(obj2[\"d\"]) "
   ]
  },
  {
   "cell_type": "code",
   "execution_count": 10,
   "metadata": {},
   "outputs": [
    {
     "name": "stdout",
     "output_type": "stream",
     "text": [
      "Index(['a', 'b', 'c', 'd'], dtype='object')\n"
     ]
    }
   ],
   "source": [
    "print(obj2.index)"
   ]
  },
  {
   "cell_type": "code",
   "execution_count": 11,
   "metadata": {},
   "outputs": [],
   "source": [
    "score={\"Johan\":100, \n",
    "       \"Louise\":100,\n",
    "       \"Lucas\":100,\n",
    "       \"Fatima\":100,\n",
    "       \"Ményssa\":5}\n"
   ]
  },
  {
   "cell_type": "code",
   "execution_count": 12,
   "metadata": {},
   "outputs": [
    {
     "data": {
      "text/plain": [
       "dict"
      ]
     },
     "execution_count": 12,
     "metadata": {},
     "output_type": "execute_result"
    }
   ],
   "source": [
    "type(score)"
   ]
  },
  {
   "cell_type": "code",
   "execution_count": 15,
   "metadata": {},
   "outputs": [
    {
     "data": {
      "text/plain": [
       "Johan      100\n",
       "Louise     100\n",
       "Lucas      100\n",
       "Fatima     100\n",
       "Ményssa      5\n",
       "dtype: int64"
      ]
     },
     "execution_count": 15,
     "metadata": {},
     "output_type": "execute_result"
    }
   ],
   "source": [
    "names=pd.Series(score) \n",
    "names\n",
    "# type(names)"
   ]
  },
  {
   "cell_type": "code",
   "execution_count": 16,
   "metadata": {},
   "outputs": [
    {
     "name": "stdout",
     "output_type": "stream",
     "text": [
      "Johan     100\n",
      "Louise    100\n",
      "Lucas     100\n",
      "Fatima    100\n",
      "dtype: int64\n"
     ]
    }
   ],
   "source": [
    "# Affiche les entrées de 'names' dont la valeur est supérieure ou égale à 85\n",
    "print(names[names >= 85]) "
   ]
  },
  {
   "cell_type": "code",
   "execution_count": 17,
   "metadata": {},
   "outputs": [
    {
     "name": "stdout",
     "output_type": "stream",
     "text": [
      "Johan      100\n",
      "Louise     100\n",
      "Lucas      100\n",
      "Fatima     100\n",
      "Ményssa    160\n",
      "dtype: int64\n"
     ]
    }
   ],
   "source": [
    "# Attribue une nouvelle valeur de 160 à l'entrée correspondant à la clé \"Ményssa\" dans le dictionnaire 'names'\n",
    "names[\"Ményssa\"] = 160\n",
    "print(names)"
   ]
  },
  {
   "cell_type": "code",
   "execution_count": 18,
   "metadata": {},
   "outputs": [
    {
     "name": "stdout",
     "output_type": "stream",
     "text": [
      "Johan       83\n",
      "Louise      83\n",
      "Lucas       83\n",
      "Fatima      83\n",
      "Ményssa    160\n",
      "dtype: int64\n"
     ]
    }
   ],
   "source": [
    "# Met à jour les valeurs de 'names' en attribuant la valeur 83 à toutes les \n",
    "# entrées dont la valeur actuelle est inférieure ou égale à 80\n",
    "names[names <= 100] = 83\n",
    "print(names)"
   ]
  },
  {
   "cell_type": "code",
   "execution_count": 20,
   "metadata": {},
   "outputs": [
    {
     "data": {
      "text/plain": [
       "False"
      ]
     },
     "execution_count": 20,
     "metadata": {},
     "output_type": "execute_result"
    }
   ],
   "source": [
    "# Vérifie si la clé \"Tom\" existe dans le dictionnaire 'names' \n",
    "\"Dorian\" in names"
   ]
  },
  {
   "cell_type": "code",
   "execution_count": 21,
   "metadata": {},
   "outputs": [
    {
     "name": "stdout",
     "output_type": "stream",
     "text": [
      "Johan       8.3\n",
      "Louise      8.3\n",
      "Lucas       8.3\n",
      "Fatima      8.3\n",
      "Ményssa    16.0\n",
      "dtype: float64\n"
     ]
    }
   ],
   "source": [
    "# Divise toutes les valeurs de 'names' par 10 et affiche le résultat\n",
    "print(names / 10) "
   ]
  },
  {
   "cell_type": "code",
   "execution_count": 23,
   "metadata": {},
   "outputs": [
    {
     "name": "stdout",
     "output_type": "stream",
     "text": [
      "Johan       6889\n",
      "Louise      6889\n",
      "Lucas       6889\n",
      "Fatima      6889\n",
      "Ményssa    25600\n",
      "dtype: int64\n"
     ]
    }
   ],
   "source": [
    "# Élève au carré toutes les valeurs de 'names' et affiche le résultat\n",
    "print(names ** 2)"
   ]
  },
  {
   "cell_type": "code",
   "execution_count": 24,
   "metadata": {},
   "outputs": [
    {
     "data": {
      "text/plain": [
       "Johan      False\n",
       "Louise     False\n",
       "Lucas      False\n",
       "Fatima     False\n",
       "Ményssa    False\n",
       "dtype: bool"
      ]
     },
     "execution_count": 24,
     "metadata": {},
     "output_type": "execute_result"
    }
   ],
   "source": [
    "# Vérifie pour chaque entrée de 'names' si la valeur est NaN (Not a Number) \n",
    "names.isnull() "
   ]
  },
  {
   "cell_type": "code",
   "execution_count": 25,
   "metadata": {},
   "outputs": [
    {
     "data": {
      "text/html": [
       "<div>\n",
       "<style scoped>\n",
       "    .dataframe tbody tr th:only-of-type {\n",
       "        vertical-align: middle;\n",
       "    }\n",
       "\n",
       "    .dataframe tbody tr th {\n",
       "        vertical-align: top;\n",
       "    }\n",
       "\n",
       "    .dataframe thead th {\n",
       "        text-align: right;\n",
       "    }\n",
       "</style>\n",
       "<table border=\"1\" class=\"dataframe\">\n",
       "  <thead>\n",
       "    <tr style=\"text-align: right;\">\n",
       "      <th></th>\n",
       "      <th>Rank</th>\n",
       "      <th>Name</th>\n",
       "      <th>Platform</th>\n",
       "      <th>Year</th>\n",
       "      <th>Genre</th>\n",
       "      <th>Publisher</th>\n",
       "      <th>NA_Sales</th>\n",
       "      <th>EU_Sales</th>\n",
       "      <th>JP_Sales</th>\n",
       "      <th>Other_Sales</th>\n",
       "      <th>Global_Sales</th>\n",
       "    </tr>\n",
       "  </thead>\n",
       "  <tbody>\n",
       "    <tr>\n",
       "      <th>0</th>\n",
       "      <td>1</td>\n",
       "      <td>Wii Sports</td>\n",
       "      <td>Wii</td>\n",
       "      <td>2006.0</td>\n",
       "      <td>Sports</td>\n",
       "      <td>Nintendo</td>\n",
       "      <td>41.49</td>\n",
       "      <td>29.02</td>\n",
       "      <td>3.77</td>\n",
       "      <td>8.46</td>\n",
       "      <td>82.74</td>\n",
       "    </tr>\n",
       "    <tr>\n",
       "      <th>1</th>\n",
       "      <td>2</td>\n",
       "      <td>Super Mario Bros.</td>\n",
       "      <td>NES</td>\n",
       "      <td>1985.0</td>\n",
       "      <td>Platform</td>\n",
       "      <td>Nintendo</td>\n",
       "      <td>29.08</td>\n",
       "      <td>3.58</td>\n",
       "      <td>6.81</td>\n",
       "      <td>0.77</td>\n",
       "      <td>40.24</td>\n",
       "    </tr>\n",
       "    <tr>\n",
       "      <th>2</th>\n",
       "      <td>3</td>\n",
       "      <td>Mario Kart Wii</td>\n",
       "      <td>Wii</td>\n",
       "      <td>2008.0</td>\n",
       "      <td>Racing</td>\n",
       "      <td>Nintendo</td>\n",
       "      <td>15.85</td>\n",
       "      <td>12.88</td>\n",
       "      <td>3.79</td>\n",
       "      <td>3.31</td>\n",
       "      <td>35.82</td>\n",
       "    </tr>\n",
       "    <tr>\n",
       "      <th>3</th>\n",
       "      <td>4</td>\n",
       "      <td>Wii Sports Resort</td>\n",
       "      <td>Wii</td>\n",
       "      <td>2009.0</td>\n",
       "      <td>Sports</td>\n",
       "      <td>Nintendo</td>\n",
       "      <td>15.75</td>\n",
       "      <td>11.01</td>\n",
       "      <td>3.28</td>\n",
       "      <td>2.96</td>\n",
       "      <td>33.00</td>\n",
       "    </tr>\n",
       "    <tr>\n",
       "      <th>4</th>\n",
       "      <td>5</td>\n",
       "      <td>Pokemon Red/Pokemon Blue</td>\n",
       "      <td>GB</td>\n",
       "      <td>1996.0</td>\n",
       "      <td>Role-Playing</td>\n",
       "      <td>Nintendo</td>\n",
       "      <td>11.27</td>\n",
       "      <td>8.89</td>\n",
       "      <td>10.22</td>\n",
       "      <td>1.00</td>\n",
       "      <td>31.37</td>\n",
       "    </tr>\n",
       "  </tbody>\n",
       "</table>\n",
       "</div>"
      ],
      "text/plain": [
       "   Rank                      Name Platform    Year         Genre Publisher  \\\n",
       "0     1                Wii Sports      Wii  2006.0        Sports  Nintendo   \n",
       "1     2         Super Mario Bros.      NES  1985.0      Platform  Nintendo   \n",
       "2     3            Mario Kart Wii      Wii  2008.0        Racing  Nintendo   \n",
       "3     4         Wii Sports Resort      Wii  2009.0        Sports  Nintendo   \n",
       "4     5  Pokemon Red/Pokemon Blue       GB  1996.0  Role-Playing  Nintendo   \n",
       "\n",
       "   NA_Sales  EU_Sales  JP_Sales  Other_Sales  Global_Sales  \n",
       "0     41.49     29.02      3.77         8.46         82.74  \n",
       "1     29.08      3.58      6.81         0.77         40.24  \n",
       "2     15.85     12.88      3.79         3.31         35.82  \n",
       "3     15.75     11.01      3.28         2.96         33.00  \n",
       "4     11.27      8.89     10.22         1.00         31.37  "
      ]
     },
     "execution_count": 25,
     "metadata": {},
     "output_type": "execute_result"
    }
   ],
   "source": [
    "# Charge les données depuis un fichier CSV\n",
    "games = pd.read_csv(\"../data/vgsalesGlobale.csv\")  \n",
    "\n",
    "# Affiche les 5 premières lignes\n",
    "games.head()  "
   ]
  },
  {
   "cell_type": "code",
   "execution_count": 18,
   "metadata": {},
   "outputs": [
    {
     "data": {
      "text/plain": [
       "Rank              int64\n",
       "Name             object\n",
       "Platform         object\n",
       "Year            float64\n",
       "Genre            object\n",
       "Publisher        object\n",
       "NA_Sales        float64\n",
       "EU_Sales        float64\n",
       "JP_Sales        float64\n",
       "Other_Sales     float64\n",
       "Global_Sales    float64\n",
       "dtype: object"
      ]
     },
     "execution_count": 18,
     "metadata": {},
     "output_type": "execute_result"
    }
   ],
   "source": [
    " # Affiche les types de données\n",
    "games.dtypes "
   ]
  },
  {
   "cell_type": "code",
   "execution_count": 28,
   "metadata": {},
   "outputs": [
    {
     "data": {
      "text/plain": [
       "count      16598\n",
       "unique        12\n",
       "top       Action\n",
       "freq        3316\n",
       "Name: Genre, dtype: object"
      ]
     },
     "execution_count": 28,
     "metadata": {},
     "output_type": "execute_result"
    }
   ],
   "source": [
    " # Statistiques descriptives pour 'Genre'\n",
    "games.Genre.describe() "
   ]
  },
  {
   "cell_type": "code",
   "execution_count": 20,
   "metadata": {},
   "outputs": [
    {
     "data": {
      "text/plain": [
       "Genre\n",
       "Action          3316\n",
       "Sports          2346\n",
       "Misc            1739\n",
       "Role-Playing    1488\n",
       "Shooter         1310\n",
       "Adventure       1286\n",
       "Racing          1249\n",
       "Platform         886\n",
       "Simulation       867\n",
       "Fighting         848\n",
       "Strategy         681\n",
       "Puzzle           582\n",
       "Name: count, dtype: int64"
      ]
     },
     "execution_count": 20,
     "metadata": {},
     "output_type": "execute_result"
    }
   ],
   "source": [
    "# Compte des genres\n",
    "games.Genre.value_counts()  "
   ]
  },
  {
   "cell_type": "code",
   "execution_count": 21,
   "metadata": {},
   "outputs": [
    {
     "data": {
      "text/plain": [
       "Genre\n",
       "Action          0.199783\n",
       "Sports          0.141342\n",
       "Misc            0.104772\n",
       "Role-Playing    0.089649\n",
       "Shooter         0.078925\n",
       "Adventure       0.077479\n",
       "Racing          0.075250\n",
       "Platform        0.053380\n",
       "Simulation      0.052235\n",
       "Fighting        0.051090\n",
       "Strategy        0.041029\n",
       "Puzzle          0.035064\n",
       "Name: proportion, dtype: float64"
      ]
     },
     "execution_count": 21,
     "metadata": {},
     "output_type": "execute_result"
    }
   ],
   "source": [
    "# Compte des genres en pourcentage\n",
    "games.Genre.value_counts(normalize=True)  "
   ]
  },
  {
   "cell_type": "code",
   "execution_count": 29,
   "metadata": {},
   "outputs": [
    {
     "data": {
      "text/plain": [
       "pandas.core.series.Series"
      ]
     },
     "execution_count": 29,
     "metadata": {},
     "output_type": "execute_result"
    }
   ],
   "source": [
    " # Type de l'objet renvoyé par value_counts()\n",
    "type(games.Genre) "
   ]
  },
  {
   "cell_type": "code",
   "execution_count": 30,
   "metadata": {},
   "outputs": [
    {
     "data": {
      "text/plain": [
       "Genre\n",
       "Action          3316\n",
       "Sports          2346\n",
       "Misc            1739\n",
       "Role-Playing    1488\n",
       "Shooter         1310\n",
       "Name: count, dtype: int64"
      ]
     },
     "execution_count": 30,
     "metadata": {},
     "output_type": "execute_result"
    }
   ],
   "source": [
    "games.Genre.value_counts().head()  # Top 5 genres"
   ]
  },
  {
   "cell_type": "code",
   "execution_count": 31,
   "metadata": {},
   "outputs": [
    {
     "name": "stdout",
     "output_type": "stream",
     "text": [
      "['Sports' 'Platform' 'Racing' 'Role-Playing' 'Puzzle' 'Misc' 'Shooter'\n",
      " 'Simulation' 'Action' 'Fighting' 'Adventure' 'Strategy']\n"
     ]
    }
   ],
   "source": [
    "# Genres uniques\n",
    "print(games.Genre.unique())  "
   ]
  },
  {
   "cell_type": "code",
   "execution_count": 32,
   "metadata": {},
   "outputs": [
    {
     "name": "stdout",
     "output_type": "stream",
     "text": [
      "12\n"
     ]
    }
   ],
   "source": [
    "# Nombre de genres uniques\n",
    "print(games.Genre.nunique())  "
   ]
  },
  {
   "cell_type": "code",
   "execution_count": 41,
   "metadata": {},
   "outputs": [
    {
     "data": {
      "text/html": [
       "<div>\n",
       "<style scoped>\n",
       "    .dataframe tbody tr th:only-of-type {\n",
       "        vertical-align: middle;\n",
       "    }\n",
       "\n",
       "    .dataframe tbody tr th {\n",
       "        vertical-align: top;\n",
       "    }\n",
       "\n",
       "    .dataframe thead th {\n",
       "        text-align: right;\n",
       "    }\n",
       "</style>\n",
       "<table border=\"1\" class=\"dataframe\">\n",
       "  <thead>\n",
       "    <tr style=\"text-align: right;\">\n",
       "      <th>Year</th>\n",
       "      <th>1980.0</th>\n",
       "      <th>1981.0</th>\n",
       "      <th>1982.0</th>\n",
       "      <th>1983.0</th>\n",
       "      <th>1984.0</th>\n",
       "      <th>1985.0</th>\n",
       "      <th>1986.0</th>\n",
       "      <th>1987.0</th>\n",
       "      <th>1988.0</th>\n",
       "      <th>1989.0</th>\n",
       "      <th>...</th>\n",
       "      <th>2009.0</th>\n",
       "      <th>2010.0</th>\n",
       "      <th>2011.0</th>\n",
       "      <th>2012.0</th>\n",
       "      <th>2013.0</th>\n",
       "      <th>2014.0</th>\n",
       "      <th>2015.0</th>\n",
       "      <th>2016.0</th>\n",
       "      <th>2017.0</th>\n",
       "      <th>2020.0</th>\n",
       "    </tr>\n",
       "    <tr>\n",
       "      <th>Genre</th>\n",
       "      <th></th>\n",
       "      <th></th>\n",
       "      <th></th>\n",
       "      <th></th>\n",
       "      <th></th>\n",
       "      <th></th>\n",
       "      <th></th>\n",
       "      <th></th>\n",
       "      <th></th>\n",
       "      <th></th>\n",
       "      <th></th>\n",
       "      <th></th>\n",
       "      <th></th>\n",
       "      <th></th>\n",
       "      <th></th>\n",
       "      <th></th>\n",
       "      <th></th>\n",
       "      <th></th>\n",
       "      <th></th>\n",
       "      <th></th>\n",
       "      <th></th>\n",
       "    </tr>\n",
       "  </thead>\n",
       "  <tbody>\n",
       "    <tr>\n",
       "      <th>Action</th>\n",
       "      <td>1</td>\n",
       "      <td>25</td>\n",
       "      <td>18</td>\n",
       "      <td>7</td>\n",
       "      <td>1</td>\n",
       "      <td>2</td>\n",
       "      <td>6</td>\n",
       "      <td>2</td>\n",
       "      <td>2</td>\n",
       "      <td>2</td>\n",
       "      <td>...</td>\n",
       "      <td>272</td>\n",
       "      <td>226</td>\n",
       "      <td>239</td>\n",
       "      <td>266</td>\n",
       "      <td>148</td>\n",
       "      <td>186</td>\n",
       "      <td>255</td>\n",
       "      <td>119</td>\n",
       "      <td>1</td>\n",
       "      <td>0</td>\n",
       "    </tr>\n",
       "    <tr>\n",
       "      <th>Adventure</th>\n",
       "      <td>0</td>\n",
       "      <td>0</td>\n",
       "      <td>0</td>\n",
       "      <td>1</td>\n",
       "      <td>0</td>\n",
       "      <td>0</td>\n",
       "      <td>0</td>\n",
       "      <td>1</td>\n",
       "      <td>0</td>\n",
       "      <td>0</td>\n",
       "      <td>...</td>\n",
       "      <td>141</td>\n",
       "      <td>154</td>\n",
       "      <td>108</td>\n",
       "      <td>58</td>\n",
       "      <td>60</td>\n",
       "      <td>75</td>\n",
       "      <td>54</td>\n",
       "      <td>34</td>\n",
       "      <td>0</td>\n",
       "      <td>0</td>\n",
       "    </tr>\n",
       "    <tr>\n",
       "      <th>Fighting</th>\n",
       "      <td>1</td>\n",
       "      <td>0</td>\n",
       "      <td>0</td>\n",
       "      <td>0</td>\n",
       "      <td>0</td>\n",
       "      <td>1</td>\n",
       "      <td>0</td>\n",
       "      <td>2</td>\n",
       "      <td>0</td>\n",
       "      <td>0</td>\n",
       "      <td>...</td>\n",
       "      <td>53</td>\n",
       "      <td>40</td>\n",
       "      <td>50</td>\n",
       "      <td>29</td>\n",
       "      <td>20</td>\n",
       "      <td>23</td>\n",
       "      <td>21</td>\n",
       "      <td>14</td>\n",
       "      <td>0</td>\n",
       "      <td>0</td>\n",
       "    </tr>\n",
       "    <tr>\n",
       "      <th>Misc</th>\n",
       "      <td>4</td>\n",
       "      <td>0</td>\n",
       "      <td>1</td>\n",
       "      <td>1</td>\n",
       "      <td>1</td>\n",
       "      <td>0</td>\n",
       "      <td>0</td>\n",
       "      <td>0</td>\n",
       "      <td>0</td>\n",
       "      <td>1</td>\n",
       "      <td>...</td>\n",
       "      <td>207</td>\n",
       "      <td>201</td>\n",
       "      <td>184</td>\n",
       "      <td>38</td>\n",
       "      <td>42</td>\n",
       "      <td>41</td>\n",
       "      <td>39</td>\n",
       "      <td>18</td>\n",
       "      <td>0</td>\n",
       "      <td>0</td>\n",
       "    </tr>\n",
       "    <tr>\n",
       "      <th>Platform</th>\n",
       "      <td>0</td>\n",
       "      <td>3</td>\n",
       "      <td>5</td>\n",
       "      <td>5</td>\n",
       "      <td>1</td>\n",
       "      <td>4</td>\n",
       "      <td>6</td>\n",
       "      <td>2</td>\n",
       "      <td>4</td>\n",
       "      <td>3</td>\n",
       "      <td>...</td>\n",
       "      <td>29</td>\n",
       "      <td>31</td>\n",
       "      <td>37</td>\n",
       "      <td>12</td>\n",
       "      <td>37</td>\n",
       "      <td>10</td>\n",
       "      <td>14</td>\n",
       "      <td>10</td>\n",
       "      <td>0</td>\n",
       "      <td>0</td>\n",
       "    </tr>\n",
       "    <tr>\n",
       "      <th>Puzzle</th>\n",
       "      <td>0</td>\n",
       "      <td>2</td>\n",
       "      <td>3</td>\n",
       "      <td>1</td>\n",
       "      <td>3</td>\n",
       "      <td>4</td>\n",
       "      <td>0</td>\n",
       "      <td>0</td>\n",
       "      <td>1</td>\n",
       "      <td>5</td>\n",
       "      <td>...</td>\n",
       "      <td>79</td>\n",
       "      <td>45</td>\n",
       "      <td>43</td>\n",
       "      <td>11</td>\n",
       "      <td>3</td>\n",
       "      <td>8</td>\n",
       "      <td>6</td>\n",
       "      <td>0</td>\n",
       "      <td>0</td>\n",
       "      <td>0</td>\n",
       "    </tr>\n",
       "    <tr>\n",
       "      <th>Racing</th>\n",
       "      <td>0</td>\n",
       "      <td>1</td>\n",
       "      <td>2</td>\n",
       "      <td>0</td>\n",
       "      <td>3</td>\n",
       "      <td>0</td>\n",
       "      <td>1</td>\n",
       "      <td>0</td>\n",
       "      <td>1</td>\n",
       "      <td>0</td>\n",
       "      <td>...</td>\n",
       "      <td>84</td>\n",
       "      <td>57</td>\n",
       "      <td>65</td>\n",
       "      <td>30</td>\n",
       "      <td>16</td>\n",
       "      <td>27</td>\n",
       "      <td>19</td>\n",
       "      <td>20</td>\n",
       "      <td>0</td>\n",
       "      <td>0</td>\n",
       "    </tr>\n",
       "    <tr>\n",
       "      <th>Role-Playing</th>\n",
       "      <td>0</td>\n",
       "      <td>0</td>\n",
       "      <td>0</td>\n",
       "      <td>0</td>\n",
       "      <td>0</td>\n",
       "      <td>0</td>\n",
       "      <td>1</td>\n",
       "      <td>3</td>\n",
       "      <td>3</td>\n",
       "      <td>2</td>\n",
       "      <td>...</td>\n",
       "      <td>103</td>\n",
       "      <td>103</td>\n",
       "      <td>95</td>\n",
       "      <td>78</td>\n",
       "      <td>71</td>\n",
       "      <td>91</td>\n",
       "      <td>78</td>\n",
       "      <td>40</td>\n",
       "      <td>2</td>\n",
       "      <td>0</td>\n",
       "    </tr>\n",
       "    <tr>\n",
       "      <th>Shooter</th>\n",
       "      <td>2</td>\n",
       "      <td>10</td>\n",
       "      <td>5</td>\n",
       "      <td>1</td>\n",
       "      <td>3</td>\n",
       "      <td>1</td>\n",
       "      <td>4</td>\n",
       "      <td>2</td>\n",
       "      <td>1</td>\n",
       "      <td>1</td>\n",
       "      <td>...</td>\n",
       "      <td>91</td>\n",
       "      <td>81</td>\n",
       "      <td>94</td>\n",
       "      <td>48</td>\n",
       "      <td>59</td>\n",
       "      <td>47</td>\n",
       "      <td>34</td>\n",
       "      <td>32</td>\n",
       "      <td>0</td>\n",
       "      <td>0</td>\n",
       "    </tr>\n",
       "    <tr>\n",
       "      <th>Simulation</th>\n",
       "      <td>0</td>\n",
       "      <td>1</td>\n",
       "      <td>0</td>\n",
       "      <td>0</td>\n",
       "      <td>0</td>\n",
       "      <td>1</td>\n",
       "      <td>0</td>\n",
       "      <td>0</td>\n",
       "      <td>1</td>\n",
       "      <td>0</td>\n",
       "      <td>...</td>\n",
       "      <td>123</td>\n",
       "      <td>82</td>\n",
       "      <td>56</td>\n",
       "      <td>18</td>\n",
       "      <td>18</td>\n",
       "      <td>11</td>\n",
       "      <td>15</td>\n",
       "      <td>9</td>\n",
       "      <td>0</td>\n",
       "      <td>1</td>\n",
       "    </tr>\n",
       "    <tr>\n",
       "      <th>Sports</th>\n",
       "      <td>1</td>\n",
       "      <td>4</td>\n",
       "      <td>2</td>\n",
       "      <td>1</td>\n",
       "      <td>2</td>\n",
       "      <td>1</td>\n",
       "      <td>3</td>\n",
       "      <td>4</td>\n",
       "      <td>2</td>\n",
       "      <td>3</td>\n",
       "      <td>...</td>\n",
       "      <td>184</td>\n",
       "      <td>186</td>\n",
       "      <td>122</td>\n",
       "      <td>54</td>\n",
       "      <td>53</td>\n",
       "      <td>55</td>\n",
       "      <td>62</td>\n",
       "      <td>38</td>\n",
       "      <td>0</td>\n",
       "      <td>0</td>\n",
       "    </tr>\n",
       "    <tr>\n",
       "      <th>Strategy</th>\n",
       "      <td>0</td>\n",
       "      <td>0</td>\n",
       "      <td>0</td>\n",
       "      <td>0</td>\n",
       "      <td>0</td>\n",
       "      <td>0</td>\n",
       "      <td>0</td>\n",
       "      <td>0</td>\n",
       "      <td>0</td>\n",
       "      <td>0</td>\n",
       "      <td>...</td>\n",
       "      <td>65</td>\n",
       "      <td>53</td>\n",
       "      <td>46</td>\n",
       "      <td>15</td>\n",
       "      <td>19</td>\n",
       "      <td>8</td>\n",
       "      <td>17</td>\n",
       "      <td>10</td>\n",
       "      <td>0</td>\n",
       "      <td>0</td>\n",
       "    </tr>\n",
       "  </tbody>\n",
       "</table>\n",
       "<p>12 rows × 39 columns</p>\n",
       "</div>"
      ],
      "text/plain": [
       "Year          1980.0  1981.0  1982.0  1983.0  1984.0  1985.0  1986.0  1987.0  \\\n",
       "Genre                                                                          \n",
       "Action             1      25      18       7       1       2       6       2   \n",
       "Adventure          0       0       0       1       0       0       0       1   \n",
       "Fighting           1       0       0       0       0       1       0       2   \n",
       "Misc               4       0       1       1       1       0       0       0   \n",
       "Platform           0       3       5       5       1       4       6       2   \n",
       "Puzzle             0       2       3       1       3       4       0       0   \n",
       "Racing             0       1       2       0       3       0       1       0   \n",
       "Role-Playing       0       0       0       0       0       0       1       3   \n",
       "Shooter            2      10       5       1       3       1       4       2   \n",
       "Simulation         0       1       0       0       0       1       0       0   \n",
       "Sports             1       4       2       1       2       1       3       4   \n",
       "Strategy           0       0       0       0       0       0       0       0   \n",
       "\n",
       "Year          1988.0  1989.0  ...  2009.0  2010.0  2011.0  2012.0  2013.0  \\\n",
       "Genre                         ...                                           \n",
       "Action             2       2  ...     272     226     239     266     148   \n",
       "Adventure          0       0  ...     141     154     108      58      60   \n",
       "Fighting           0       0  ...      53      40      50      29      20   \n",
       "Misc               0       1  ...     207     201     184      38      42   \n",
       "Platform           4       3  ...      29      31      37      12      37   \n",
       "Puzzle             1       5  ...      79      45      43      11       3   \n",
       "Racing             1       0  ...      84      57      65      30      16   \n",
       "Role-Playing       3       2  ...     103     103      95      78      71   \n",
       "Shooter            1       1  ...      91      81      94      48      59   \n",
       "Simulation         1       0  ...     123      82      56      18      18   \n",
       "Sports             2       3  ...     184     186     122      54      53   \n",
       "Strategy           0       0  ...      65      53      46      15      19   \n",
       "\n",
       "Year          2014.0  2015.0  2016.0  2017.0  2020.0  \n",
       "Genre                                                 \n",
       "Action           186     255     119       1       0  \n",
       "Adventure         75      54      34       0       0  \n",
       "Fighting          23      21      14       0       0  \n",
       "Misc              41      39      18       0       0  \n",
       "Platform          10      14      10       0       0  \n",
       "Puzzle             8       6       0       0       0  \n",
       "Racing            27      19      20       0       0  \n",
       "Role-Playing      91      78      40       2       0  \n",
       "Shooter           47      34      32       0       0  \n",
       "Simulation        11      15       9       0       1  \n",
       "Sports            55      62      38       0       0  \n",
       "Strategy           8      17      10       0       0  \n",
       "\n",
       "[12 rows x 39 columns]"
      ]
     },
     "execution_count": 41,
     "metadata": {},
     "output_type": "execute_result"
    }
   ],
   "source": [
    " # Tableau croisé genre/année\n",
    "pd.crosstab(games.Genre, games.Year) "
   ]
  },
  {
   "cell_type": "code",
   "execution_count": 39,
   "metadata": {},
   "outputs": [
    {
     "name": "stdout",
     "output_type": "stream",
     "text": [
      "count    16598.000000\n",
      "mean         0.537441\n",
      "std          1.555028\n",
      "min          0.010000\n",
      "25%          0.060000\n",
      "50%          0.170000\n",
      "75%          0.470000\n",
      "max         82.740000\n",
      "Name: Global_Sales, dtype: float64\n",
      "0.5374406555006628\n"
     ]
    }
   ],
   "source": [
    "print(games.Global_Sales.describe())  # Statistiques de 'Global_Sales'\n",
    "print(games.Global_Sales.mean())  # Moyenne des ventes mondiales"
   ]
  },
  {
   "cell_type": "code",
   "execution_count": 36,
   "metadata": {},
   "outputs": [
    {
     "data": {
      "text/plain": [
       "<Axes: ylabel='Frequency'>"
      ]
     },
     "execution_count": 36,
     "metadata": {},
     "output_type": "execute_result"
    },
    {
     "data": {
      "image/png": "[encoded data removed]",
      "text/plain": [
       "<Figure size 640x480 with 1 Axes>"
      ]
     },
     "metadata": {},
     "output_type": "display_data"
    }
   ],
   "source": [
    "games.Year.plot(kind=\"hist\")  # Histogramme des années"
   ]
  },
  {
   "cell_type": "code",
   "execution_count": 33,
   "metadata": {},
   "outputs": [
    {
     "name": "stdout",
     "output_type": "stream",
     "text": [
      "Genre\n",
      "Action          3316\n",
      "Sports          2346\n",
      "Misc            1739\n",
      "Role-Playing    1488\n",
      "Shooter         1310\n",
      "Adventure       1286\n",
      "Racing          1249\n",
      "Platform         886\n",
      "Simulation       867\n",
      "Fighting         848\n",
      "Strategy         681\n",
      "Puzzle           582\n",
      "Name: count, dtype: int64\n"
     ]
    }
   ],
   "source": [
    "print(games.Genre.value_counts())"
   ]
  },
  {
   "cell_type": "code",
   "execution_count": 34,
   "metadata": {},
   "outputs": [
    {
     "data": {
      "text/plain": [
       "<Axes: xlabel='Genre'>"
      ]
     },
     "execution_count": 34,
     "metadata": {},
     "output_type": "execute_result"
    },
    {
     "data": {
      "image/png": "[encoded data removed]",
      "text/plain": [
       "<Figure size 640x480 with 1 Axes>"
      ]
     },
     "metadata": {},
     "output_type": "display_data"
    }
   ],
   "source": [
    " # Diagramme en barres des genres\n",
    "games.Genre.value_counts().plot(kind=\"bar\") "
   ]
  },
  {
   "cell_type": "markdown",
   "metadata": {},
   "source": [
    "#### 2 - Dataframes"
   ]
  },
  {
   "cell_type": "code",
   "execution_count": 35,
   "metadata": {},
   "outputs": [],
   "source": [
    "data={\"name\":[\"Bill\",\"Tom\",\"Tim\",\"John\",\"Alex\",\"Vanessa\",\"Kate\"],      \n",
    "      \"score\":[90,80,85,75,95,60,65],      \n",
    "      \"sport\":[\"Wrestling\",\"Football\",\"Skiing\",\"Swimming\",\"Tennis\",\n",
    "               \"Karete\",\"Surfing\"],      \n",
    "      \"sex\":[\"M\",\"M\",\"M\",\"M\",\"F\",\"F\",\"F\"]}"
   ]
  },
  {
   "cell_type": "code",
   "execution_count": 36,
   "metadata": {},
   "outputs": [
    {
     "data": {
      "text/plain": [
       "dict"
      ]
     },
     "execution_count": 36,
     "metadata": {},
     "output_type": "execute_result"
    }
   ],
   "source": [
    "type(data)"
   ]
  },
  {
   "cell_type": "code",
   "execution_count": 38,
   "metadata": {},
   "outputs": [
    {
     "data": {
      "text/html": [
       "<div>\n",
       "<style scoped>\n",
       "    .dataframe tbody tr th:only-of-type {\n",
       "        vertical-align: middle;\n",
       "    }\n",
       "\n",
       "    .dataframe tbody tr th {\n",
       "        vertical-align: top;\n",
       "    }\n",
       "\n",
       "    .dataframe thead th {\n",
       "        text-align: right;\n",
       "    }\n",
       "</style>\n",
       "<table border=\"1\" class=\"dataframe\">\n",
       "  <thead>\n",
       "    <tr style=\"text-align: right;\">\n",
       "      <th></th>\n",
       "      <th>name</th>\n",
       "      <th>sport</th>\n",
       "      <th>sex</th>\n",
       "      <th>score</th>\n",
       "    </tr>\n",
       "  </thead>\n",
       "  <tbody>\n",
       "    <tr>\n",
       "      <th>0</th>\n",
       "      <td>Bill</td>\n",
       "      <td>Wrestling</td>\n",
       "      <td>M</td>\n",
       "      <td>90</td>\n",
       "    </tr>\n",
       "    <tr>\n",
       "      <th>1</th>\n",
       "      <td>Tom</td>\n",
       "      <td>Football</td>\n",
       "      <td>M</td>\n",
       "      <td>80</td>\n",
       "    </tr>\n",
       "    <tr>\n",
       "      <th>2</th>\n",
       "      <td>Tim</td>\n",
       "      <td>Skiing</td>\n",
       "      <td>M</td>\n",
       "      <td>85</td>\n",
       "    </tr>\n",
       "    <tr>\n",
       "      <th>3</th>\n",
       "      <td>John</td>\n",
       "      <td>Swimming</td>\n",
       "      <td>M</td>\n",
       "      <td>75</td>\n",
       "    </tr>\n",
       "    <tr>\n",
       "      <th>4</th>\n",
       "      <td>Alex</td>\n",
       "      <td>Tennis</td>\n",
       "      <td>F</td>\n",
       "      <td>95</td>\n",
       "    </tr>\n",
       "    <tr>\n",
       "      <th>5</th>\n",
       "      <td>Vanessa</td>\n",
       "      <td>Karete</td>\n",
       "      <td>F</td>\n",
       "      <td>60</td>\n",
       "    </tr>\n",
       "    <tr>\n",
       "      <th>6</th>\n",
       "      <td>Kate</td>\n",
       "      <td>Surfing</td>\n",
       "      <td>F</td>\n",
       "      <td>65</td>\n",
       "    </tr>\n",
       "  </tbody>\n",
       "</table>\n",
       "</div>"
      ],
      "text/plain": [
       "      name      sport sex  score\n",
       "0     Bill  Wrestling   M     90\n",
       "1      Tom   Football   M     80\n",
       "2      Tim     Skiing   M     85\n",
       "3     John   Swimming   M     75\n",
       "4     Alex     Tennis   F     95\n",
       "5  Vanessa     Karete   F     60\n",
       "6     Kate    Surfing   F     65"
      ]
     },
     "execution_count": 38,
     "metadata": {},
     "output_type": "execute_result"
    }
   ],
   "source": [
    "df=pd.DataFrame(data,columns=[\"name\",\"sport\",\"sex\",\"score\"])\n",
    "df"
   ]
  },
  {
   "cell_type": "code",
   "execution_count": 57,
   "metadata": {},
   "outputs": [
    {
     "data": {
      "text/html": [
       "<div>\n",
       "<style scoped>\n",
       "    .dataframe tbody tr th:only-of-type {\n",
       "        vertical-align: middle;\n",
       "    }\n",
       "\n",
       "    .dataframe tbody tr th {\n",
       "        vertical-align: top;\n",
       "    }\n",
       "\n",
       "    .dataframe thead th {\n",
       "        text-align: right;\n",
       "    }\n",
       "</style>\n",
       "<table border=\"1\" class=\"dataframe\">\n",
       "  <thead>\n",
       "    <tr style=\"text-align: right;\">\n",
       "      <th></th>\n",
       "      <th>name</th>\n",
       "      <th>sport</th>\n",
       "      <th>sex</th>\n",
       "      <th>score</th>\n",
       "      <th>age</th>\n",
       "    </tr>\n",
       "  </thead>\n",
       "  <tbody>\n",
       "    <tr>\n",
       "      <th>0</th>\n",
       "      <td>Bill</td>\n",
       "      <td>Wrestling</td>\n",
       "      <td>M</td>\n",
       "      <td>90</td>\n",
       "      <td>NaN</td>\n",
       "    </tr>\n",
       "    <tr>\n",
       "      <th>1</th>\n",
       "      <td>Tom</td>\n",
       "      <td>Football</td>\n",
       "      <td>M</td>\n",
       "      <td>80</td>\n",
       "      <td>NaN</td>\n",
       "    </tr>\n",
       "    <tr>\n",
       "      <th>2</th>\n",
       "      <td>Tim</td>\n",
       "      <td>Skiing</td>\n",
       "      <td>M</td>\n",
       "      <td>85</td>\n",
       "      <td>NaN</td>\n",
       "    </tr>\n",
       "    <tr>\n",
       "      <th>3</th>\n",
       "      <td>John</td>\n",
       "      <td>Swimming</td>\n",
       "      <td>M</td>\n",
       "      <td>75</td>\n",
       "      <td>NaN</td>\n",
       "    </tr>\n",
       "    <tr>\n",
       "      <th>4</th>\n",
       "      <td>Alex</td>\n",
       "      <td>Tennis</td>\n",
       "      <td>F</td>\n",
       "      <td>95</td>\n",
       "      <td>NaN</td>\n",
       "    </tr>\n",
       "    <tr>\n",
       "      <th>5</th>\n",
       "      <td>Vanessa</td>\n",
       "      <td>Karete</td>\n",
       "      <td>F</td>\n",
       "      <td>60</td>\n",
       "      <td>NaN</td>\n",
       "    </tr>\n",
       "    <tr>\n",
       "      <th>6</th>\n",
       "      <td>Kate</td>\n",
       "      <td>Surfing</td>\n",
       "      <td>F</td>\n",
       "      <td>65</td>\n",
       "      <td>NaN</td>\n",
       "    </tr>\n",
       "  </tbody>\n",
       "</table>\n",
       "</div>"
      ],
      "text/plain": [
       "      name      sport sex  score  age\n",
       "0     Bill  Wrestling   M     90  NaN\n",
       "1      Tom   Football   M     80  NaN\n",
       "2      Tim     Skiing   M     85  NaN\n",
       "3     John   Swimming   M     75  NaN\n",
       "4     Alex     Tennis   F     95  NaN\n",
       "5  Vanessa     Karete   F     60  NaN\n",
       "6     Kate    Surfing   F     65  NaN"
      ]
     },
     "execution_count": 57,
     "metadata": {},
     "output_type": "execute_result"
    }
   ],
   "source": [
    "df=pd.DataFrame(data,columns=[\"name\", \"sport\", \"sex\", \"score\", \"age\"])\n",
    "df"
   ]
  },
  {
   "cell_type": "code",
   "execution_count": 43,
   "metadata": {},
   "outputs": [
    {
     "data": {
      "text/html": [
       "<div>\n",
       "<style scoped>\n",
       "    .dataframe tbody tr th:only-of-type {\n",
       "        vertical-align: middle;\n",
       "    }\n",
       "\n",
       "    .dataframe tbody tr th {\n",
       "        vertical-align: top;\n",
       "    }\n",
       "\n",
       "    .dataframe thead th {\n",
       "        text-align: right;\n",
       "    }\n",
       "</style>\n",
       "<table border=\"1\" class=\"dataframe\">\n",
       "  <thead>\n",
       "    <tr style=\"text-align: right;\">\n",
       "      <th></th>\n",
       "      <th>name</th>\n",
       "      <th>sport</th>\n",
       "      <th>gender</th>\n",
       "      <th>score</th>\n",
       "      <th>age</th>\n",
       "    </tr>\n",
       "  </thead>\n",
       "  <tbody>\n",
       "    <tr>\n",
       "      <th>Bill</th>\n",
       "      <td>Bill</td>\n",
       "      <td>Wrestling</td>\n",
       "      <td>NaN</td>\n",
       "      <td>90</td>\n",
       "      <td>NaN</td>\n",
       "    </tr>\n",
       "    <tr>\n",
       "      <th>Tom</th>\n",
       "      <td>Tom</td>\n",
       "      <td>Football</td>\n",
       "      <td>NaN</td>\n",
       "      <td>80</td>\n",
       "      <td>NaN</td>\n",
       "    </tr>\n",
       "    <tr>\n",
       "      <th>Tim</th>\n",
       "      <td>Tim</td>\n",
       "      <td>Skiing</td>\n",
       "      <td>NaN</td>\n",
       "      <td>85</td>\n",
       "      <td>NaN</td>\n",
       "    </tr>\n",
       "    <tr>\n",
       "      <th>John</th>\n",
       "      <td>John</td>\n",
       "      <td>Swimming</td>\n",
       "      <td>NaN</td>\n",
       "      <td>75</td>\n",
       "      <td>NaN</td>\n",
       "    </tr>\n",
       "    <tr>\n",
       "      <th>Alex</th>\n",
       "      <td>Alex</td>\n",
       "      <td>Tennis</td>\n",
       "      <td>NaN</td>\n",
       "      <td>95</td>\n",
       "      <td>NaN</td>\n",
       "    </tr>\n",
       "    <tr>\n",
       "      <th>Vanessa</th>\n",
       "      <td>Vanessa</td>\n",
       "      <td>Karete</td>\n",
       "      <td>NaN</td>\n",
       "      <td>60</td>\n",
       "      <td>NaN</td>\n",
       "    </tr>\n",
       "    <tr>\n",
       "      <th>Kate</th>\n",
       "      <td>Kate</td>\n",
       "      <td>Surfing</td>\n",
       "      <td>NaN</td>\n",
       "      <td>65</td>\n",
       "      <td>NaN</td>\n",
       "    </tr>\n",
       "  </tbody>\n",
       "</table>\n",
       "</div>"
      ],
      "text/plain": [
       "            name      sport gender  score  age\n",
       "Bill        Bill  Wrestling    NaN     90  NaN\n",
       "Tom          Tom   Football    NaN     80  NaN\n",
       "Tim          Tim     Skiing    NaN     85  NaN\n",
       "John        John   Swimming    NaN     75  NaN\n",
       "Alex        Alex     Tennis    NaN     95  NaN\n",
       "Vanessa  Vanessa     Karete    NaN     60  NaN\n",
       "Kate        Kate    Surfing    NaN     65  NaN"
      ]
     },
     "execution_count": 43,
     "metadata": {},
     "output_type": "execute_result"
    }
   ],
   "source": [
    "df=pd.DataFrame(data,columns=[\"name\", \"sport\", \"gender\", \"score\", \"age\"],\n",
    "                index=data[\"name\"])\n",
    "df"
   ]
  },
  {
   "cell_type": "code",
   "execution_count": 59,
   "metadata": {},
   "outputs": [
    {
     "data": {
      "text/plain": [
       "Bill       Wrestling\n",
       "Tom         Football\n",
       "Tim           Skiing\n",
       "John        Swimming\n",
       "Alex          Tennis\n",
       "Vanessa       Karete\n",
       "Kate         Surfing\n",
       "Name: sport, dtype: object"
      ]
     },
     "execution_count": 59,
     "metadata": {},
     "output_type": "execute_result"
    }
   ],
   "source": [
    "df[\"sport\"]"
   ]
  },
  {
   "cell_type": "code",
   "execution_count": 46,
   "metadata": {},
   "outputs": [
    {
     "data": {
      "text/html": [
       "<div>\n",
       "<style scoped>\n",
       "    .dataframe tbody tr th:only-of-type {\n",
       "        vertical-align: middle;\n",
       "    }\n",
       "\n",
       "    .dataframe tbody tr th {\n",
       "        vertical-align: top;\n",
       "    }\n",
       "\n",
       "    .dataframe thead th {\n",
       "        text-align: right;\n",
       "    }\n",
       "</style>\n",
       "<table border=\"1\" class=\"dataframe\">\n",
       "  <thead>\n",
       "    <tr style=\"text-align: right;\">\n",
       "      <th></th>\n",
       "      <th>sport</th>\n",
       "      <th>score</th>\n",
       "    </tr>\n",
       "  </thead>\n",
       "  <tbody>\n",
       "    <tr>\n",
       "      <th>Bill</th>\n",
       "      <td>Wrestling</td>\n",
       "      <td>90</td>\n",
       "    </tr>\n",
       "    <tr>\n",
       "      <th>Tom</th>\n",
       "      <td>Football</td>\n",
       "      <td>80</td>\n",
       "    </tr>\n",
       "    <tr>\n",
       "      <th>Tim</th>\n",
       "      <td>Skiing</td>\n",
       "      <td>85</td>\n",
       "    </tr>\n",
       "    <tr>\n",
       "      <th>John</th>\n",
       "      <td>Swimming</td>\n",
       "      <td>75</td>\n",
       "    </tr>\n",
       "    <tr>\n",
       "      <th>Alex</th>\n",
       "      <td>Tennis</td>\n",
       "      <td>95</td>\n",
       "    </tr>\n",
       "    <tr>\n",
       "      <th>Vanessa</th>\n",
       "      <td>Karete</td>\n",
       "      <td>60</td>\n",
       "    </tr>\n",
       "    <tr>\n",
       "      <th>Kate</th>\n",
       "      <td>Surfing</td>\n",
       "      <td>65</td>\n",
       "    </tr>\n",
       "  </tbody>\n",
       "</table>\n",
       "</div>"
      ],
      "text/plain": [
       "             sport  score\n",
       "Bill     Wrestling     90\n",
       "Tom       Football     80\n",
       "Tim         Skiing     85\n",
       "John      Swimming     75\n",
       "Alex        Tennis     95\n",
       "Vanessa     Karete     60\n",
       "Kate       Surfing     65"
      ]
     },
     "execution_count": 46,
     "metadata": {},
     "output_type": "execute_result"
    }
   ],
   "source": [
    "my_columns=[\"sport\",\"score\"]\n",
    "df[my_columns]"
   ]
  },
  {
   "cell_type": "code",
   "execution_count": 47,
   "metadata": {},
   "outputs": [
    {
     "data": {
      "text/html": [
       "<div>\n",
       "<style scoped>\n",
       "    .dataframe tbody tr th:only-of-type {\n",
       "        vertical-align: middle;\n",
       "    }\n",
       "\n",
       "    .dataframe tbody tr th {\n",
       "        vertical-align: top;\n",
       "    }\n",
       "\n",
       "    .dataframe thead th {\n",
       "        text-align: right;\n",
       "    }\n",
       "</style>\n",
       "<table border=\"1\" class=\"dataframe\">\n",
       "  <thead>\n",
       "    <tr style=\"text-align: right;\">\n",
       "      <th></th>\n",
       "      <th>name</th>\n",
       "      <th>sport</th>\n",
       "      <th>gender</th>\n",
       "      <th>score</th>\n",
       "      <th>age</th>\n",
       "    </tr>\n",
       "  </thead>\n",
       "  <tbody>\n",
       "    <tr>\n",
       "      <th>Bill</th>\n",
       "      <td>Bill</td>\n",
       "      <td>Wrestling</td>\n",
       "      <td>NaN</td>\n",
       "      <td>90</td>\n",
       "      <td>NaN</td>\n",
       "    </tr>\n",
       "    <tr>\n",
       "      <th>Kate</th>\n",
       "      <td>Kate</td>\n",
       "      <td>Surfing</td>\n",
       "      <td>NaN</td>\n",
       "      <td>65</td>\n",
       "      <td>NaN</td>\n",
       "    </tr>\n",
       "  </tbody>\n",
       "</table>\n",
       "</div>"
      ],
      "text/plain": [
       "      name      sport gender  score  age\n",
       "Bill  Bill  Wrestling    NaN     90  NaN\n",
       "Kate  Kate    Surfing    NaN     65  NaN"
      ]
     },
     "execution_count": 47,
     "metadata": {},
     "output_type": "execute_result"
    }
   ],
   "source": [
    "df.loc[[\"Bill\", \"Kate\"]]"
   ]
  },
  {
   "cell_type": "code",
   "execution_count": 48,
   "metadata": {},
   "outputs": [
    {
     "data": {
      "text/html": [
       "<div>\n",
       "<style scoped>\n",
       "    .dataframe tbody tr th:only-of-type {\n",
       "        vertical-align: middle;\n",
       "    }\n",
       "\n",
       "    .dataframe tbody tr th {\n",
       "        vertical-align: top;\n",
       "    }\n",
       "\n",
       "    .dataframe thead th {\n",
       "        text-align: right;\n",
       "    }\n",
       "</style>\n",
       "<table border=\"1\" class=\"dataframe\">\n",
       "  <thead>\n",
       "    <tr style=\"text-align: right;\">\n",
       "      <th></th>\n",
       "      <th>name</th>\n",
       "      <th>sport</th>\n",
       "      <th>gender</th>\n",
       "      <th>score</th>\n",
       "      <th>age</th>\n",
       "    </tr>\n",
       "  </thead>\n",
       "  <tbody>\n",
       "    <tr>\n",
       "      <th>Bill</th>\n",
       "      <td>Bill</td>\n",
       "      <td>Wrestling</td>\n",
       "      <td>NaN</td>\n",
       "      <td>90</td>\n",
       "      <td>18</td>\n",
       "    </tr>\n",
       "    <tr>\n",
       "      <th>Tom</th>\n",
       "      <td>Tom</td>\n",
       "      <td>Football</td>\n",
       "      <td>NaN</td>\n",
       "      <td>80</td>\n",
       "      <td>18</td>\n",
       "    </tr>\n",
       "    <tr>\n",
       "      <th>Tim</th>\n",
       "      <td>Tim</td>\n",
       "      <td>Skiing</td>\n",
       "      <td>NaN</td>\n",
       "      <td>85</td>\n",
       "      <td>18</td>\n",
       "    </tr>\n",
       "    <tr>\n",
       "      <th>John</th>\n",
       "      <td>John</td>\n",
       "      <td>Swimming</td>\n",
       "      <td>NaN</td>\n",
       "      <td>75</td>\n",
       "      <td>18</td>\n",
       "    </tr>\n",
       "    <tr>\n",
       "      <th>Alex</th>\n",
       "      <td>Alex</td>\n",
       "      <td>Tennis</td>\n",
       "      <td>NaN</td>\n",
       "      <td>95</td>\n",
       "      <td>18</td>\n",
       "    </tr>\n",
       "    <tr>\n",
       "      <th>Vanessa</th>\n",
       "      <td>Vanessa</td>\n",
       "      <td>Karete</td>\n",
       "      <td>NaN</td>\n",
       "      <td>60</td>\n",
       "      <td>18</td>\n",
       "    </tr>\n",
       "    <tr>\n",
       "      <th>Kate</th>\n",
       "      <td>Kate</td>\n",
       "      <td>Surfing</td>\n",
       "      <td>NaN</td>\n",
       "      <td>65</td>\n",
       "      <td>18</td>\n",
       "    </tr>\n",
       "  </tbody>\n",
       "</table>\n",
       "</div>"
      ],
      "text/plain": [
       "            name      sport gender  score  age\n",
       "Bill        Bill  Wrestling    NaN     90   18\n",
       "Tom          Tom   Football    NaN     80   18\n",
       "Tim          Tim     Skiing    NaN     85   18\n",
       "John        John   Swimming    NaN     75   18\n",
       "Alex        Alex     Tennis    NaN     95   18\n",
       "Vanessa  Vanessa     Karete    NaN     60   18\n",
       "Kate        Kate    Surfing    NaN     65   18"
      ]
     },
     "execution_count": 48,
     "metadata": {},
     "output_type": "execute_result"
    }
   ],
   "source": [
    "df[\"age\"]=18\n",
    "df"
   ]
  },
  {
   "cell_type": "code",
   "execution_count": 55,
   "metadata": {},
   "outputs": [
    {
     "data": {
      "text/html": [
       "<div>\n",
       "<style scoped>\n",
       "    .dataframe tbody tr th:only-of-type {\n",
       "        vertical-align: middle;\n",
       "    }\n",
       "\n",
       "    .dataframe tbody tr th {\n",
       "        vertical-align: top;\n",
       "    }\n",
       "\n",
       "    .dataframe thead th {\n",
       "        text-align: right;\n",
       "    }\n",
       "</style>\n",
       "<table border=\"1\" class=\"dataframe\">\n",
       "  <thead>\n",
       "    <tr style=\"text-align: right;\">\n",
       "      <th></th>\n",
       "      <th>name</th>\n",
       "      <th>sport</th>\n",
       "      <th>gender</th>\n",
       "      <th>score</th>\n",
       "      <th>age</th>\n",
       "    </tr>\n",
       "  </thead>\n",
       "  <tbody>\n",
       "    <tr>\n",
       "      <th>one</th>\n",
       "      <td>Bill</td>\n",
       "      <td>Wrestling</td>\n",
       "      <td>NaN</td>\n",
       "      <td>90</td>\n",
       "      <td>NaN</td>\n",
       "    </tr>\n",
       "  </tbody>\n",
       "</table>\n",
       "</div>"
      ],
      "text/plain": [
       "     name      sport gender  score  age\n",
       "one  Bill  Wrestling    NaN     90  NaN"
      ]
     },
     "execution_count": 55,
     "metadata": {},
     "output_type": "execute_result"
    }
   ],
   "source": [
    "df=pd.DataFrame(data,\n",
    "                columns=[\"name\", \"sport\", \"gender\", \"score\", \"age\"],\n",
    "                 index=[\"one\",\"two\",\"three\",\"four\",\"five\",\"six\",\"seven\"])\n",
    "df.loc[[\"one\"]]"
   ]
  },
  {
   "cell_type": "code",
   "execution_count": 56,
   "metadata": {},
   "outputs": [
    {
     "data": {
      "text/html": [
       "<div>\n",
       "<style scoped>\n",
       "    .dataframe tbody tr th:only-of-type {\n",
       "        vertical-align: middle;\n",
       "    }\n",
       "\n",
       "    .dataframe tbody tr th {\n",
       "        vertical-align: top;\n",
       "    }\n",
       "\n",
       "    .dataframe thead th {\n",
       "        text-align: right;\n",
       "    }\n",
       "</style>\n",
       "<table border=\"1\" class=\"dataframe\">\n",
       "  <thead>\n",
       "    <tr style=\"text-align: right;\">\n",
       "      <th></th>\n",
       "      <th>name</th>\n",
       "      <th>sport</th>\n",
       "      <th>gender</th>\n",
       "      <th>score</th>\n",
       "      <th>age</th>\n",
       "    </tr>\n",
       "  </thead>\n",
       "  <tbody>\n",
       "    <tr>\n",
       "      <th>one</th>\n",
       "      <td>Bill</td>\n",
       "      <td>Wrestling</td>\n",
       "      <td>NaN</td>\n",
       "      <td>90</td>\n",
       "      <td>NaN</td>\n",
       "    </tr>\n",
       "    <tr>\n",
       "      <th>two</th>\n",
       "      <td>Tom</td>\n",
       "      <td>Football</td>\n",
       "      <td>NaN</td>\n",
       "      <td>80</td>\n",
       "      <td>NaN</td>\n",
       "    </tr>\n",
       "    <tr>\n",
       "      <th>three</th>\n",
       "      <td>Tim</td>\n",
       "      <td>Skiing</td>\n",
       "      <td>NaN</td>\n",
       "      <td>85</td>\n",
       "      <td>NaN</td>\n",
       "    </tr>\n",
       "    <tr>\n",
       "      <th>four</th>\n",
       "      <td>John</td>\n",
       "      <td>Swimming</td>\n",
       "      <td>NaN</td>\n",
       "      <td>75</td>\n",
       "      <td>NaN</td>\n",
       "    </tr>\n",
       "    <tr>\n",
       "      <th>five</th>\n",
       "      <td>Alex</td>\n",
       "      <td>Tennis</td>\n",
       "      <td>NaN</td>\n",
       "      <td>95</td>\n",
       "      <td>NaN</td>\n",
       "    </tr>\n",
       "    <tr>\n",
       "      <th>six</th>\n",
       "      <td>Vanessa</td>\n",
       "      <td>Karete</td>\n",
       "      <td>NaN</td>\n",
       "      <td>60</td>\n",
       "      <td>NaN</td>\n",
       "    </tr>\n",
       "    <tr>\n",
       "      <th>seven</th>\n",
       "      <td>Kate</td>\n",
       "      <td>Surfing</td>\n",
       "      <td>NaN</td>\n",
       "      <td>65</td>\n",
       "      <td>NaN</td>\n",
       "    </tr>\n",
       "  </tbody>\n",
       "</table>\n",
       "</div>"
      ],
      "text/plain": [
       "          name      sport gender  score  age\n",
       "one       Bill  Wrestling    NaN     90  NaN\n",
       "two        Tom   Football    NaN     80  NaN\n",
       "three      Tim     Skiing    NaN     85  NaN\n",
       "four      John   Swimming    NaN     75  NaN\n",
       "five      Alex     Tennis    NaN     95  NaN\n",
       "six    Vanessa     Karete    NaN     60  NaN\n",
       "seven     Kate    Surfing    NaN     65  NaN"
      ]
     },
     "execution_count": 56,
     "metadata": {},
     "output_type": "execute_result"
    }
   ],
   "source": [
    "df"
   ]
  },
  {
   "cell_type": "code",
   "execution_count": 57,
   "metadata": {},
   "outputs": [
    {
     "data": {
      "text/html": [
       "<div>\n",
       "<style scoped>\n",
       "    .dataframe tbody tr th:only-of-type {\n",
       "        vertical-align: middle;\n",
       "    }\n",
       "\n",
       "    .dataframe tbody tr th {\n",
       "        vertical-align: top;\n",
       "    }\n",
       "\n",
       "    .dataframe thead th {\n",
       "        text-align: right;\n",
       "    }\n",
       "</style>\n",
       "<table border=\"1\" class=\"dataframe\">\n",
       "  <thead>\n",
       "    <tr style=\"text-align: right;\">\n",
       "      <th></th>\n",
       "      <th>name</th>\n",
       "      <th>sport</th>\n",
       "      <th>gender</th>\n",
       "      <th>score</th>\n",
       "      <th>age</th>\n",
       "    </tr>\n",
       "  </thead>\n",
       "  <tbody>\n",
       "    <tr>\n",
       "      <th>one</th>\n",
       "      <td>Bill</td>\n",
       "      <td>Wrestling</td>\n",
       "      <td>NaN</td>\n",
       "      <td>90</td>\n",
       "      <td>18</td>\n",
       "    </tr>\n",
       "    <tr>\n",
       "      <th>two</th>\n",
       "      <td>Tom</td>\n",
       "      <td>Football</td>\n",
       "      <td>NaN</td>\n",
       "      <td>80</td>\n",
       "      <td>19</td>\n",
       "    </tr>\n",
       "    <tr>\n",
       "      <th>three</th>\n",
       "      <td>Tim</td>\n",
       "      <td>Skiing</td>\n",
       "      <td>NaN</td>\n",
       "      <td>85</td>\n",
       "      <td>20</td>\n",
       "    </tr>\n",
       "    <tr>\n",
       "      <th>four</th>\n",
       "      <td>John</td>\n",
       "      <td>Swimming</td>\n",
       "      <td>NaN</td>\n",
       "      <td>75</td>\n",
       "      <td>18</td>\n",
       "    </tr>\n",
       "    <tr>\n",
       "      <th>five</th>\n",
       "      <td>Alex</td>\n",
       "      <td>Tennis</td>\n",
       "      <td>NaN</td>\n",
       "      <td>95</td>\n",
       "      <td>17</td>\n",
       "    </tr>\n",
       "    <tr>\n",
       "      <th>six</th>\n",
       "      <td>Vanessa</td>\n",
       "      <td>Karete</td>\n",
       "      <td>NaN</td>\n",
       "      <td>60</td>\n",
       "      <td>17</td>\n",
       "    </tr>\n",
       "    <tr>\n",
       "      <th>seven</th>\n",
       "      <td>Kate</td>\n",
       "      <td>Surfing</td>\n",
       "      <td>NaN</td>\n",
       "      <td>65</td>\n",
       "      <td>18</td>\n",
       "    </tr>\n",
       "  </tbody>\n",
       "</table>\n",
       "</div>"
      ],
      "text/plain": [
       "          name      sport gender  score  age\n",
       "one       Bill  Wrestling    NaN     90   18\n",
       "two        Tom   Football    NaN     80   19\n",
       "three      Tim     Skiing    NaN     85   20\n",
       "four      John   Swimming    NaN     75   18\n",
       "five      Alex     Tennis    NaN     95   17\n",
       "six    Vanessa     Karete    NaN     60   17\n",
       "seven     Kate    Surfing    NaN     65   18"
      ]
     },
     "execution_count": 57,
     "metadata": {},
     "output_type": "execute_result"
    }
   ],
   "source": [
    "values=[18,19,20,18,17,17,18]\n",
    "df[\"age\"]=values\n",
    "df"
   ]
  },
  {
   "cell_type": "code",
   "execution_count": 58,
   "metadata": {},
   "outputs": [
    {
     "data": {
      "text/html": [
       "<div>\n",
       "<style scoped>\n",
       "    .dataframe tbody tr th:only-of-type {\n",
       "        vertical-align: middle;\n",
       "    }\n",
       "\n",
       "    .dataframe tbody tr th {\n",
       "        vertical-align: top;\n",
       "    }\n",
       "\n",
       "    .dataframe thead th {\n",
       "        text-align: right;\n",
       "    }\n",
       "</style>\n",
       "<table border=\"1\" class=\"dataframe\">\n",
       "  <thead>\n",
       "    <tr style=\"text-align: right;\">\n",
       "      <th></th>\n",
       "      <th>name</th>\n",
       "      <th>sport</th>\n",
       "      <th>gender</th>\n",
       "      <th>score</th>\n",
       "      <th>age</th>\n",
       "      <th>pass</th>\n",
       "    </tr>\n",
       "  </thead>\n",
       "  <tbody>\n",
       "    <tr>\n",
       "      <th>one</th>\n",
       "      <td>Bill</td>\n",
       "      <td>Wrestling</td>\n",
       "      <td>NaN</td>\n",
       "      <td>90</td>\n",
       "      <td>18</td>\n",
       "      <td>True</td>\n",
       "    </tr>\n",
       "    <tr>\n",
       "      <th>two</th>\n",
       "      <td>Tom</td>\n",
       "      <td>Football</td>\n",
       "      <td>NaN</td>\n",
       "      <td>80</td>\n",
       "      <td>19</td>\n",
       "      <td>True</td>\n",
       "    </tr>\n",
       "    <tr>\n",
       "      <th>three</th>\n",
       "      <td>Tim</td>\n",
       "      <td>Skiing</td>\n",
       "      <td>NaN</td>\n",
       "      <td>85</td>\n",
       "      <td>20</td>\n",
       "      <td>True</td>\n",
       "    </tr>\n",
       "    <tr>\n",
       "      <th>four</th>\n",
       "      <td>John</td>\n",
       "      <td>Swimming</td>\n",
       "      <td>NaN</td>\n",
       "      <td>75</td>\n",
       "      <td>18</td>\n",
       "      <td>True</td>\n",
       "    </tr>\n",
       "    <tr>\n",
       "      <th>five</th>\n",
       "      <td>Alex</td>\n",
       "      <td>Tennis</td>\n",
       "      <td>NaN</td>\n",
       "      <td>95</td>\n",
       "      <td>17</td>\n",
       "      <td>True</td>\n",
       "    </tr>\n",
       "    <tr>\n",
       "      <th>six</th>\n",
       "      <td>Vanessa</td>\n",
       "      <td>Karete</td>\n",
       "      <td>NaN</td>\n",
       "      <td>60</td>\n",
       "      <td>17</td>\n",
       "      <td>False</td>\n",
       "    </tr>\n",
       "    <tr>\n",
       "      <th>seven</th>\n",
       "      <td>Kate</td>\n",
       "      <td>Surfing</td>\n",
       "      <td>NaN</td>\n",
       "      <td>65</td>\n",
       "      <td>18</td>\n",
       "      <td>False</td>\n",
       "    </tr>\n",
       "  </tbody>\n",
       "</table>\n",
       "</div>"
      ],
      "text/plain": [
       "          name      sport gender  score  age   pass\n",
       "one       Bill  Wrestling    NaN     90   18   True\n",
       "two        Tom   Football    NaN     80   19   True\n",
       "three      Tim     Skiing    NaN     85   20   True\n",
       "four      John   Swimming    NaN     75   18   True\n",
       "five      Alex     Tennis    NaN     95   17   True\n",
       "six    Vanessa     Karete    NaN     60   17  False\n",
       "seven     Kate    Surfing    NaN     65   18  False"
      ]
     },
     "execution_count": 58,
     "metadata": {},
     "output_type": "execute_result"
    }
   ],
   "source": [
    "df[\"pass\"] = df.score >= 70\n",
    "df"
   ]
  },
  {
   "cell_type": "code",
   "execution_count": 59,
   "metadata": {},
   "outputs": [
    {
     "data": {
      "text/html": [
       "<div>\n",
       "<style scoped>\n",
       "    .dataframe tbody tr th:only-of-type {\n",
       "        vertical-align: middle;\n",
       "    }\n",
       "\n",
       "    .dataframe tbody tr th {\n",
       "        vertical-align: top;\n",
       "    }\n",
       "\n",
       "    .dataframe thead th {\n",
       "        text-align: right;\n",
       "    }\n",
       "</style>\n",
       "<table border=\"1\" class=\"dataframe\">\n",
       "  <thead>\n",
       "    <tr style=\"text-align: right;\">\n",
       "      <th></th>\n",
       "      <th>name</th>\n",
       "      <th>sport</th>\n",
       "      <th>gender</th>\n",
       "      <th>score</th>\n",
       "      <th>age</th>\n",
       "    </tr>\n",
       "  </thead>\n",
       "  <tbody>\n",
       "    <tr>\n",
       "      <th>one</th>\n",
       "      <td>Bill</td>\n",
       "      <td>Wrestling</td>\n",
       "      <td>NaN</td>\n",
       "      <td>90</td>\n",
       "      <td>18</td>\n",
       "    </tr>\n",
       "    <tr>\n",
       "      <th>two</th>\n",
       "      <td>Tom</td>\n",
       "      <td>Football</td>\n",
       "      <td>NaN</td>\n",
       "      <td>80</td>\n",
       "      <td>19</td>\n",
       "    </tr>\n",
       "    <tr>\n",
       "      <th>three</th>\n",
       "      <td>Tim</td>\n",
       "      <td>Skiing</td>\n",
       "      <td>NaN</td>\n",
       "      <td>85</td>\n",
       "      <td>20</td>\n",
       "    </tr>\n",
       "    <tr>\n",
       "      <th>four</th>\n",
       "      <td>John</td>\n",
       "      <td>Swimming</td>\n",
       "      <td>NaN</td>\n",
       "      <td>75</td>\n",
       "      <td>18</td>\n",
       "    </tr>\n",
       "    <tr>\n",
       "      <th>five</th>\n",
       "      <td>Alex</td>\n",
       "      <td>Tennis</td>\n",
       "      <td>NaN</td>\n",
       "      <td>95</td>\n",
       "      <td>17</td>\n",
       "    </tr>\n",
       "    <tr>\n",
       "      <th>six</th>\n",
       "      <td>Vanessa</td>\n",
       "      <td>Karete</td>\n",
       "      <td>NaN</td>\n",
       "      <td>60</td>\n",
       "      <td>17</td>\n",
       "    </tr>\n",
       "    <tr>\n",
       "      <th>seven</th>\n",
       "      <td>Kate</td>\n",
       "      <td>Surfing</td>\n",
       "      <td>NaN</td>\n",
       "      <td>65</td>\n",
       "      <td>18</td>\n",
       "    </tr>\n",
       "  </tbody>\n",
       "</table>\n",
       "</div>"
      ],
      "text/plain": [
       "          name      sport gender  score  age\n",
       "one       Bill  Wrestling    NaN     90   18\n",
       "two        Tom   Football    NaN     80   19\n",
       "three      Tim     Skiing    NaN     85   20\n",
       "four      John   Swimming    NaN     75   18\n",
       "five      Alex     Tennis    NaN     95   17\n",
       "six    Vanessa     Karete    NaN     60   17\n",
       "seven     Kate    Surfing    NaN     65   18"
      ]
     },
     "execution_count": 59,
     "metadata": {},
     "output_type": "execute_result"
    }
   ],
   "source": [
    "del df[\"pass\"]\n",
    "df"
   ]
  },
  {
   "cell_type": "code",
   "execution_count": 61,
   "metadata": {},
   "outputs": [
    {
     "data": {
      "text/html": [
       "<div>\n",
       "<style scoped>\n",
       "    .dataframe tbody tr th:only-of-type {\n",
       "        vertical-align: middle;\n",
       "    }\n",
       "\n",
       "    .dataframe tbody tr th {\n",
       "        vertical-align: top;\n",
       "    }\n",
       "\n",
       "    .dataframe thead th {\n",
       "        text-align: right;\n",
       "    }\n",
       "</style>\n",
       "<table border=\"1\" class=\"dataframe\">\n",
       "  <thead>\n",
       "    <tr style=\"text-align: right;\">\n",
       "      <th></th>\n",
       "      <th>Math</th>\n",
       "      <th>Physics</th>\n",
       "    </tr>\n",
       "  </thead>\n",
       "  <tbody>\n",
       "    <tr>\n",
       "      <th>A</th>\n",
       "      <td>85</td>\n",
       "      <td>90</td>\n",
       "    </tr>\n",
       "    <tr>\n",
       "      <th>B</th>\n",
       "      <td>90</td>\n",
       "      <td>80</td>\n",
       "    </tr>\n",
       "    <tr>\n",
       "      <th>C</th>\n",
       "      <td>95</td>\n",
       "      <td>75</td>\n",
       "    </tr>\n",
       "  </tbody>\n",
       "</table>\n",
       "</div>"
      ],
      "text/plain": [
       "   Math  Physics\n",
       "A    85       90\n",
       "B    90       80\n",
       "C    95       75"
      ]
     },
     "execution_count": 61,
     "metadata": {},
     "output_type": "execute_result"
    }
   ],
   "source": [
    "scores={\"Math\":{\"A\":85,\"B\":90,\"C\":95}, \n",
    "        \"Physics\":{\"A\":90,\"B\":80,\"C\":75}}\n",
    "scores_df=pd.DataFrame(scores)\n",
    "scores_df"
   ]
  },
  {
   "cell_type": "code",
   "execution_count": 73,
   "metadata": {},
   "outputs": [
    {
     "data": {
      "text/html": [
       "<div>\n",
       "<style scoped>\n",
       "    .dataframe tbody tr th:only-of-type {\n",
       "        vertical-align: middle;\n",
       "    }\n",
       "\n",
       "    .dataframe tbody tr th {\n",
       "        vertical-align: top;\n",
       "    }\n",
       "\n",
       "    .dataframe thead th {\n",
       "        text-align: right;\n",
       "    }\n",
       "</style>\n",
       "<table border=\"1\" class=\"dataframe\">\n",
       "  <thead>\n",
       "    <tr style=\"text-align: right;\">\n",
       "      <th></th>\n",
       "      <th>A</th>\n",
       "      <th>B</th>\n",
       "      <th>C</th>\n",
       "    </tr>\n",
       "  </thead>\n",
       "  <tbody>\n",
       "    <tr>\n",
       "      <th>Math</th>\n",
       "      <td>85</td>\n",
       "      <td>90</td>\n",
       "      <td>95</td>\n",
       "    </tr>\n",
       "    <tr>\n",
       "      <th>Physics</th>\n",
       "      <td>90</td>\n",
       "      <td>80</td>\n",
       "      <td>75</td>\n",
       "    </tr>\n",
       "  </tbody>\n",
       "</table>\n",
       "</div>"
      ],
      "text/plain": [
       "          A   B   C\n",
       "Math     85  90  95\n",
       "Physics  90  80  75"
      ]
     },
     "execution_count": 73,
     "metadata": {},
     "output_type": "execute_result"
    }
   ],
   "source": [
    "scores_df.T"
   ]
  },
  {
   "cell_type": "markdown",
   "metadata": {},
   "source": [
    "#### 3 - Indexation, la sélection et le filtrage "
   ]
  },
  {
   "cell_type": "code",
   "execution_count": 62,
   "metadata": {},
   "outputs": [
    {
     "data": {
      "text/plain": [
       "array([0, 1, 2, 3, 4])"
      ]
     },
     "execution_count": 62,
     "metadata": {},
     "output_type": "execute_result"
    }
   ],
   "source": [
    "import numpy as np\n",
    "\n",
    "np.arange(5)"
   ]
  },
  {
   "cell_type": "code",
   "execution_count": 63,
   "metadata": {},
   "outputs": [
    {
     "name": "stdout",
     "output_type": "stream",
     "text": [
      "a    0\n",
      "b    1\n",
      "c    2\n",
      "d    3\n",
      "e    4\n",
      "dtype: int32\n"
     ]
    }
   ],
   "source": [
    "# Création d'une série pandas avec des indices personnalisés\n",
    "obj = pd.Series(np.arange(5), index=[\"a\", \"b\", \"c\", \"d\", \"e\"])\n",
    "print(obj)"
   ]
  },
  {
   "cell_type": "code",
   "execution_count": 64,
   "metadata": {},
   "outputs": [
    {
     "data": {
      "text/plain": [
       "2"
      ]
     },
     "execution_count": 64,
     "metadata": {},
     "output_type": "execute_result"
    }
   ],
   "source": [
    "# Accès à l'élément avec l'index 'c'\n",
    "obj[\"c\"]"
   ]
  },
  {
   "cell_type": "code",
   "execution_count": 65,
   "metadata": {},
   "outputs": [
    {
     "name": "stderr",
     "output_type": "stream",
     "text": [
      "C:\\Users\\Menyssa\\AppData\\Local\\Temp\\ipykernel_20472\\2402303670.py:2: FutureWarning: Series.__getitem__ treating keys as positions is deprecated. In a future version, integer keys will always be treated as labels (consistent with DataFrame behavior). To access a value by position, use `ser.iloc[pos]`\n",
      "  obj[2]\n"
     ]
    },
    {
     "data": {
      "text/plain": [
       "2"
      ]
     },
     "execution_count": 65,
     "metadata": {},
     "output_type": "execute_result"
    }
   ],
   "source": [
    "# Accès à l'élément à l'indice 2\n",
    "obj[2]"
   ]
  },
  {
   "cell_type": "code",
   "execution_count": 66,
   "metadata": {},
   "outputs": [
    {
     "data": {
      "text/plain": [
       "a    0\n",
       "b    1\n",
       "c    2\n",
       "dtype: int32"
      ]
     },
     "execution_count": 66,
     "metadata": {},
     "output_type": "execute_result"
    }
   ],
   "source": [
    "# Sélection des trois premiers éléments\n",
    "obj[0:3]"
   ]
  },
  {
   "cell_type": "code",
   "execution_count": null,
   "metadata": {},
   "outputs": [],
   "source": [
    "# Sélection des éléments avec les indices 'a' et 'c'\n",
    "obj[[\"a\", \"c\"]]"
   ]
  },
  {
   "cell_type": "code",
   "execution_count": null,
   "metadata": {},
   "outputs": [],
   "source": [
    "# Sélection des éléments aux indices 0 et 2\n",
    "obj[[0, 2]]"
   ]
  },
  {
   "cell_type": "code",
   "execution_count": null,
   "metadata": {},
   "outputs": [],
   "source": [
    "# Filtrage des éléments inférieurs à 2\n",
    "obj[obj < 2]"
   ]
  },
  {
   "cell_type": "code",
   "execution_count": null,
   "metadata": {},
   "outputs": [],
   "source": [
    "# Slicing entre les indices 'a' et 'c'\n",
    "obj[\"a\":\"c\"]"
   ]
  },
  {
   "cell_type": "code",
   "execution_count": null,
   "metadata": {},
   "outputs": [],
   "source": [
    "# Modification des valeurs pour les indices 'b' et 'c'\n",
    "obj[\"b\":\"c\"] = 5\n",
    "obj"
   ]
  },
  {
   "cell_type": "code",
   "execution_count": 68,
   "metadata": {},
   "outputs": [
    {
     "data": {
      "text/plain": [
       "array([[ 0,  1,  2,  3],\n",
       "       [ 4,  5,  6,  7],\n",
       "       [ 8,  9, 10, 11],\n",
       "       [12, 13, 14, 15]])"
      ]
     },
     "execution_count": 68,
     "metadata": {},
     "output_type": "execute_result"
    }
   ],
   "source": [
    "np.arange(16).reshape(4, 4)"
   ]
  },
  {
   "cell_type": "code",
   "execution_count": 72,
   "metadata": {},
   "outputs": [
    {
     "data": {
      "text/html": [
       "<div>\n",
       "<style scoped>\n",
       "    .dataframe tbody tr th:only-of-type {\n",
       "        vertical-align: middle;\n",
       "    }\n",
       "\n",
       "    .dataframe tbody tr th {\n",
       "        vertical-align: top;\n",
       "    }\n",
       "\n",
       "    .dataframe thead th {\n",
       "        text-align: right;\n",
       "    }\n",
       "</style>\n",
       "<table border=\"1\" class=\"dataframe\">\n",
       "  <thead>\n",
       "    <tr style=\"text-align: right;\">\n",
       "      <th></th>\n",
       "      <th>one</th>\n",
       "      <th>two</th>\n",
       "      <th>three</th>\n",
       "      <th>four</th>\n",
       "    </tr>\n",
       "  </thead>\n",
       "  <tbody>\n",
       "    <tr>\n",
       "      <th>London</th>\n",
       "      <td>0</td>\n",
       "      <td>1</td>\n",
       "      <td>2</td>\n",
       "      <td>3</td>\n",
       "    </tr>\n",
       "    <tr>\n",
       "      <th>Paris</th>\n",
       "      <td>4</td>\n",
       "      <td>5</td>\n",
       "      <td>6</td>\n",
       "      <td>7</td>\n",
       "    </tr>\n",
       "    <tr>\n",
       "      <th>Berlin</th>\n",
       "      <td>8</td>\n",
       "      <td>9</td>\n",
       "      <td>10</td>\n",
       "      <td>11</td>\n",
       "    </tr>\n",
       "    <tr>\n",
       "      <th>Istanbul</th>\n",
       "      <td>12</td>\n",
       "      <td>13</td>\n",
       "      <td>14</td>\n",
       "      <td>15</td>\n",
       "    </tr>\n",
       "  </tbody>\n",
       "</table>\n",
       "</div>"
      ],
      "text/plain": [
       "          one  two  three  four\n",
       "London      0    1      2     3\n",
       "Paris       4    5      6     7\n",
       "Berlin      8    9     10    11\n",
       "Istanbul   12   13     14    15"
      ]
     },
     "execution_count": 72,
     "metadata": {},
     "output_type": "execute_result"
    }
   ],
   "source": [
    "# Indexation dans DataFrame\n",
    "data = pd.DataFrame(np.arange(16).reshape(4, 4),\n",
    "                    index=[\"London\", \"Paris\", \"Berlin\", \"Istanbul\"],\n",
    "                    columns=[\"one\", \"two\", \"three\", \"four\"])\n",
    "data"
   ]
  },
  {
   "cell_type": "code",
   "execution_count": 81,
   "metadata": {},
   "outputs": [],
   "source": [
    "# Sélection de la colonne 'two'\n",
    "data[[\"two\"]]\n",
    "# Sélection des colonnes 'one' et 'two'\n",
    "data[[\"one\", \"two\"]]\n",
    "# Sélection des trois premières lignes\n",
    "data[0:3]\n",
    "# Filtrage des lignes où la colonne 'four' est supérieure à 5\n",
    "data[data.four>5]\n",
    "# Affectation de 0 aux éléments inférieurs à 5\n",
    "data[data<5] = 0\n"
   ]
  },
  {
   "cell_type": "code",
   "execution_count": 82,
   "metadata": {},
   "outputs": [
    {
     "data": {
      "text/html": [
       "<div>\n",
       "<style scoped>\n",
       "    .dataframe tbody tr th:only-of-type {\n",
       "        vertical-align: middle;\n",
       "    }\n",
       "\n",
       "    .dataframe tbody tr th {\n",
       "        vertical-align: top;\n",
       "    }\n",
       "\n",
       "    .dataframe thead th {\n",
       "        text-align: right;\n",
       "    }\n",
       "</style>\n",
       "<table border=\"1\" class=\"dataframe\">\n",
       "  <thead>\n",
       "    <tr style=\"text-align: right;\">\n",
       "      <th></th>\n",
       "      <th>one</th>\n",
       "      <th>two</th>\n",
       "      <th>three</th>\n",
       "      <th>four</th>\n",
       "    </tr>\n",
       "  </thead>\n",
       "  <tbody>\n",
       "    <tr>\n",
       "      <th>London</th>\n",
       "      <td>0</td>\n",
       "      <td>0</td>\n",
       "      <td>0</td>\n",
       "      <td>0</td>\n",
       "    </tr>\n",
       "    <tr>\n",
       "      <th>Paris</th>\n",
       "      <td>0</td>\n",
       "      <td>5</td>\n",
       "      <td>6</td>\n",
       "      <td>7</td>\n",
       "    </tr>\n",
       "    <tr>\n",
       "      <th>Berlin</th>\n",
       "      <td>8</td>\n",
       "      <td>9</td>\n",
       "      <td>10</td>\n",
       "      <td>11</td>\n",
       "    </tr>\n",
       "    <tr>\n",
       "      <th>Istanbul</th>\n",
       "      <td>12</td>\n",
       "      <td>13</td>\n",
       "      <td>14</td>\n",
       "      <td>15</td>\n",
       "    </tr>\n",
       "  </tbody>\n",
       "</table>\n",
       "</div>"
      ],
      "text/plain": [
       "          one  two  three  four\n",
       "London      0    0      0     0\n",
       "Paris       0    5      6     7\n",
       "Berlin      8    9     10    11\n",
       "Istanbul   12   13     14    15"
      ]
     },
     "execution_count": 82,
     "metadata": {},
     "output_type": "execute_result"
    }
   ],
   "source": [
    "data"
   ]
  },
  {
   "cell_type": "code",
   "execution_count": 83,
   "metadata": {},
   "outputs": [
    {
     "data": {
      "text/html": [
       "<div>\n",
       "<style scoped>\n",
       "    .dataframe tbody tr th:only-of-type {\n",
       "        vertical-align: middle;\n",
       "    }\n",
       "\n",
       "    .dataframe tbody tr th {\n",
       "        vertical-align: top;\n",
       "    }\n",
       "\n",
       "    .dataframe thead th {\n",
       "        text-align: right;\n",
       "    }\n",
       "</style>\n",
       "<table border=\"1\" class=\"dataframe\">\n",
       "  <thead>\n",
       "    <tr style=\"text-align: right;\">\n",
       "      <th></th>\n",
       "      <th>one</th>\n",
       "      <th>two</th>\n",
       "      <th>three</th>\n",
       "      <th>four</th>\n",
       "    </tr>\n",
       "  </thead>\n",
       "  <tbody>\n",
       "    <tr>\n",
       "      <th>Paris</th>\n",
       "      <td>0</td>\n",
       "      <td>5</td>\n",
       "      <td>6</td>\n",
       "      <td>7</td>\n",
       "    </tr>\n",
       "  </tbody>\n",
       "</table>\n",
       "</div>"
      ],
      "text/plain": [
       "       one  two  three  four\n",
       "Paris    0    5      6     7"
      ]
     },
     "execution_count": 83,
     "metadata": {},
     "output_type": "execute_result"
    }
   ],
   "source": [
    "# Sélection de la deuxième ligne avec iloc\n",
    "data.iloc[[1]]\n",
    "# Equivalent à \n",
    "# data.loc[\"Paris\"]"
   ]
  },
  {
   "cell_type": "code",
   "execution_count": 115,
   "metadata": {},
   "outputs": [
    {
     "data": {
      "text/html": [
       "<div>\n",
       "<style scoped>\n",
       "    .dataframe tbody tr th:only-of-type {\n",
       "        vertical-align: middle;\n",
       "    }\n",
       "\n",
       "    .dataframe tbody tr th {\n",
       "        vertical-align: top;\n",
       "    }\n",
       "\n",
       "    .dataframe thead th {\n",
       "        text-align: right;\n",
       "    }\n",
       "</style>\n",
       "<table border=\"1\" class=\"dataframe\">\n",
       "  <thead>\n",
       "    <tr style=\"text-align: right;\">\n",
       "      <th></th>\n",
       "      <th>four</th>\n",
       "    </tr>\n",
       "  </thead>\n",
       "  <tbody>\n",
       "    <tr>\n",
       "      <th>London</th>\n",
       "      <td>0</td>\n",
       "    </tr>\n",
       "    <tr>\n",
       "      <th>Paris</th>\n",
       "      <td>7</td>\n",
       "    </tr>\n",
       "  </tbody>\n",
       "</table>\n",
       "</div>"
      ],
      "text/plain": [
       "        four\n",
       "London     0\n",
       "Paris      7"
      ]
     },
     "execution_count": 115,
     "metadata": {},
     "output_type": "execute_result"
    }
   ],
   "source": [
    "# Sélection des colonnes (two et three) de la deuxième ligne avec iloc\n",
    "data.iloc[[1]][[\"two\", \"three\"]]"
   ]
  },
  {
   "cell_type": "code",
   "execution_count": null,
   "metadata": {},
   "outputs": [],
   "source": [
    "# Sélection des colonnes (two et three) de la 1ere et 3e ligne\n",
    "data.iloc[[0,2]][[\"two\", \"three\"]]"
   ]
  },
  {
   "cell_type": "code",
   "execution_count": null,
   "metadata": {},
   "outputs": [],
   "source": [
    "# Sélection avec loc pour des indices de lignes et de colonnes spécifiques\n",
    "data.loc[[\"London\",\"Paris\"]][[\"two\", \"three\"]]"
   ]
  },
  {
   "cell_type": "code",
   "execution_count": null,
   "metadata": {},
   "outputs": [],
   "source": [
    "# Sélection des lignes jusqu'à 'Paris' pour la colonne 'four' avec loc\n",
    "data.loc[:\"Paris\"][[\"four\"]]\n",
    "data.loc[:\"Paris\", [\"four\"]]"
   ]
  },
  {
   "cell_type": "code",
   "execution_count": 118,
   "metadata": {},
   "outputs": [
    {
     "name": "stderr",
     "output_type": "stream",
     "text": [
      "C:\\Users\\Menyssa\\AppData\\Local\\Temp\\ipykernel_20472\\743724355.py:3: FutureWarning: Series.__getitem__ treating keys as positions is deprecated. In a future version, integer keys will always be treated as labels (consistent with DataFrame behavior). To access a value by position, use `ser.iloc[pos]`\n",
      "  toy_data[[-1]]\n"
     ]
    },
    {
     "data": {
      "text/plain": [
       "e    4\n",
       "dtype: int32"
      ]
     },
     "execution_count": 118,
     "metadata": {},
     "output_type": "execute_result"
    }
   ],
   "source": [
    "# Création d'une série de jouets pour tester l'accès négatif\n",
    "toy_data = pd.Series(np.arange(5), index=[\"a\", \"b\", \"c\", \"d\", \"e\"])\n",
    "toy_data[[-1]]"
   ]
  },
  {
   "cell_type": "markdown",
   "metadata": {},
   "source": [
    "#### 4 - Méthodes importantes"
   ]
  },
  {
   "cell_type": "code",
   "execution_count": 96,
   "metadata": {},
   "outputs": [
    {
     "data": {
      "text/plain": [
       "a    1\n",
       "b    2\n",
       "c    3\n",
       "d    4\n",
       "dtype: int64"
      ]
     },
     "execution_count": 96,
     "metadata": {},
     "output_type": "execute_result"
    }
   ],
   "source": [
    "s = pd.Series([1, 2, 3, 4], index=[\"a\", \"b\", \"c\", \"d\"])\n",
    "s"
   ]
  },
  {
   "cell_type": "code",
   "execution_count": 120,
   "metadata": {},
   "outputs": [],
   "source": [
    "s = pd.Series([1, 2, 3, 4, 5], index=[\"a\", \"b\", \"c\", \"d\", \"e\"])\n"
   ]
  },
  {
   "cell_type": "code",
   "execution_count": 121,
   "metadata": {},
   "outputs": [
    {
     "data": {
      "text/plain": [
       "b    2\n",
       "d    4\n",
       "a    1\n",
       "c    3\n",
       "e    5\n",
       "dtype: int64"
      ]
     },
     "execution_count": 121,
     "metadata": {},
     "output_type": "execute_result"
    }
   ],
   "source": [
    "# Réindexation de la série\n",
    "s2 = s.reindex([\"b\", \"d\", \"a\", \"c\", \"e\"])\n",
    "s2"
   ]
  },
  {
   "cell_type": "code",
   "execution_count": 123,
   "metadata": {},
   "outputs": [
    {
     "data": {
      "text/html": [
       "<div>\n",
       "<style scoped>\n",
       "    .dataframe tbody tr th:only-of-type {\n",
       "        vertical-align: middle;\n",
       "    }\n",
       "\n",
       "    .dataframe tbody tr th {\n",
       "        vertical-align: top;\n",
       "    }\n",
       "\n",
       "    .dataframe thead th {\n",
       "        text-align: right;\n",
       "    }\n",
       "</style>\n",
       "<table border=\"1\" class=\"dataframe\">\n",
       "  <thead>\n",
       "    <tr style=\"text-align: right;\">\n",
       "      <th></th>\n",
       "      <th>Tim</th>\n",
       "      <th>Tom</th>\n",
       "      <th>Kate</th>\n",
       "    </tr>\n",
       "  </thead>\n",
       "  <tbody>\n",
       "    <tr>\n",
       "      <th>a</th>\n",
       "      <td>0</td>\n",
       "      <td>1</td>\n",
       "      <td>2</td>\n",
       "    </tr>\n",
       "    <tr>\n",
       "      <th>c</th>\n",
       "      <td>3</td>\n",
       "      <td>4</td>\n",
       "      <td>5</td>\n",
       "    </tr>\n",
       "    <tr>\n",
       "      <th>d</th>\n",
       "      <td>6</td>\n",
       "      <td>7</td>\n",
       "      <td>8</td>\n",
       "    </tr>\n",
       "  </tbody>\n",
       "</table>\n",
       "</div>"
      ],
      "text/plain": [
       "   Tim  Tom  Kate\n",
       "a    0    1     2\n",
       "c    3    4     5\n",
       "d    6    7     8"
      ]
     },
     "execution_count": 123,
     "metadata": {},
     "output_type": "execute_result"
    }
   ],
   "source": [
    "# Création d'un DataFrame\n",
    "df = pd.DataFrame(np.arange(9).reshape(3, 3), \n",
    "                  index=[\"a\", \"c\", \"d\"], \n",
    "                  columns=[\"Tim\", \"Tom\", \"Kate\"])\n",
    "df"
   ]
  },
  {
   "cell_type": "code",
   "execution_count": 124,
   "metadata": {},
   "outputs": [
    {
     "data": {
      "text/html": [
       "<div>\n",
       "<style scoped>\n",
       "    .dataframe tbody tr th:only-of-type {\n",
       "        vertical-align: middle;\n",
       "    }\n",
       "\n",
       "    .dataframe tbody tr th {\n",
       "        vertical-align: top;\n",
       "    }\n",
       "\n",
       "    .dataframe thead th {\n",
       "        text-align: right;\n",
       "    }\n",
       "</style>\n",
       "<table border=\"1\" class=\"dataframe\">\n",
       "  <thead>\n",
       "    <tr style=\"text-align: right;\">\n",
       "      <th></th>\n",
       "      <th>Tim</th>\n",
       "      <th>Tom</th>\n",
       "      <th>Kate</th>\n",
       "    </tr>\n",
       "  </thead>\n",
       "  <tbody>\n",
       "    <tr>\n",
       "      <th>d</th>\n",
       "      <td>6.0</td>\n",
       "      <td>7.0</td>\n",
       "      <td>8.0</td>\n",
       "    </tr>\n",
       "    <tr>\n",
       "      <th>c</th>\n",
       "      <td>3.0</td>\n",
       "      <td>4.0</td>\n",
       "      <td>5.0</td>\n",
       "    </tr>\n",
       "    <tr>\n",
       "      <th>b</th>\n",
       "      <td>NaN</td>\n",
       "      <td>NaN</td>\n",
       "      <td>NaN</td>\n",
       "    </tr>\n",
       "    <tr>\n",
       "      <th>a</th>\n",
       "      <td>0.0</td>\n",
       "      <td>1.0</td>\n",
       "      <td>2.0</td>\n",
       "    </tr>\n",
       "  </tbody>\n",
       "</table>\n",
       "</div>"
      ],
      "text/plain": [
       "   Tim  Tom  Kate\n",
       "d  6.0  7.0   8.0\n",
       "c  3.0  4.0   5.0\n",
       "b  NaN  NaN   NaN\n",
       "a  0.0  1.0   2.0"
      ]
     },
     "execution_count": 124,
     "metadata": {},
     "output_type": "execute_result"
    }
   ],
   "source": [
    "# Réindexation du DataFrame\n",
    "df2 = df.reindex([\"d\", \"c\", \"b\", \"a\"])\n",
    "df2"
   ]
  },
  {
   "cell_type": "code",
   "execution_count": 127,
   "metadata": {},
   "outputs": [
    {
     "data": {
      "text/plain": [
       "a    1\n",
       "b    2\n",
       "c    3\n",
       "d    4\n",
       "e    5\n",
       "dtype: int64"
      ]
     },
     "execution_count": 127,
     "metadata": {},
     "output_type": "execute_result"
    }
   ],
   "source": [
    "s"
   ]
  },
  {
   "cell_type": "code",
   "execution_count": 126,
   "metadata": {},
   "outputs": [
    {
     "data": {
      "text/plain": [
       "a    1\n",
       "c    3\n",
       "d    4\n",
       "e    5\n",
       "dtype: int64"
      ]
     },
     "execution_count": 126,
     "metadata": {},
     "output_type": "execute_result"
    }
   ],
   "source": [
    "# Suppression d'un élément\n",
    "new_s = s.drop(\"b\")\n",
    "new_s"
   ]
  },
  {
   "cell_type": "code",
   "execution_count": 128,
   "metadata": {},
   "outputs": [
    {
     "data": {
      "text/plain": [
       "a    1\n",
       "e    5\n",
       "dtype: int64"
      ]
     },
     "execution_count": 128,
     "metadata": {},
     "output_type": "execute_result"
    }
   ],
   "source": [
    "# Suppression de plusieurs éléments\n",
    "new_s = new_s.drop([\"c\", \"d\"])\n",
    "new_s"
   ]
  },
  {
   "cell_type": "code",
   "execution_count": 129,
   "metadata": {},
   "outputs": [
    {
     "data": {
      "text/html": [
       "<div>\n",
       "<style scoped>\n",
       "    .dataframe tbody tr th:only-of-type {\n",
       "        vertical-align: middle;\n",
       "    }\n",
       "\n",
       "    .dataframe tbody tr th {\n",
       "        vertical-align: top;\n",
       "    }\n",
       "\n",
       "    .dataframe thead th {\n",
       "        text-align: right;\n",
       "    }\n",
       "</style>\n",
       "<table border=\"1\" class=\"dataframe\">\n",
       "  <thead>\n",
       "    <tr style=\"text-align: right;\">\n",
       "      <th></th>\n",
       "      <th>A</th>\n",
       "      <th>B</th>\n",
       "      <th>C</th>\n",
       "      <th>D</th>\n",
       "    </tr>\n",
       "  </thead>\n",
       "  <tbody>\n",
       "    <tr>\n",
       "      <th>Kate</th>\n",
       "      <td>0</td>\n",
       "      <td>1</td>\n",
       "      <td>2</td>\n",
       "      <td>3</td>\n",
       "    </tr>\n",
       "    <tr>\n",
       "      <th>Tim</th>\n",
       "      <td>4</td>\n",
       "      <td>5</td>\n",
       "      <td>6</td>\n",
       "      <td>7</td>\n",
       "    </tr>\n",
       "    <tr>\n",
       "      <th>Tom</th>\n",
       "      <td>8</td>\n",
       "      <td>9</td>\n",
       "      <td>10</td>\n",
       "      <td>11</td>\n",
       "    </tr>\n",
       "    <tr>\n",
       "      <th>Alex</th>\n",
       "      <td>12</td>\n",
       "      <td>13</td>\n",
       "      <td>14</td>\n",
       "      <td>15</td>\n",
       "    </tr>\n",
       "  </tbody>\n",
       "</table>\n",
       "</div>"
      ],
      "text/plain": [
       "       A   B   C   D\n",
       "Kate   0   1   2   3\n",
       "Tim    4   5   6   7\n",
       "Tom    8   9  10  11\n",
       "Alex  12  13  14  15"
      ]
     },
     "execution_count": 129,
     "metadata": {},
     "output_type": "execute_result"
    }
   ],
   "source": [
    "# Création d'un DataFrame\n",
    "data = pd.DataFrame(np.arange(16).reshape(4, 4),\n",
    "                     index=[\"Kate\", \"Tim\", \"Tom\", \"Alex\"], \n",
    "                    columns=list(\"ABCD\"))\n",
    "data"
   ]
  },
  {
   "cell_type": "code",
   "execution_count": 114,
   "metadata": {},
   "outputs": [
    {
     "data": {
      "text/html": [
       "<div>\n",
       "<style scoped>\n",
       "    .dataframe tbody tr th:only-of-type {\n",
       "        vertical-align: middle;\n",
       "    }\n",
       "\n",
       "    .dataframe tbody tr th {\n",
       "        vertical-align: top;\n",
       "    }\n",
       "\n",
       "    .dataframe thead th {\n",
       "        text-align: right;\n",
       "    }\n",
       "</style>\n",
       "<table border=\"1\" class=\"dataframe\">\n",
       "  <thead>\n",
       "    <tr style=\"text-align: right;\">\n",
       "      <th></th>\n",
       "      <th>A</th>\n",
       "      <th>B</th>\n",
       "      <th>C</th>\n",
       "      <th>D</th>\n",
       "    </tr>\n",
       "  </thead>\n",
       "  <tbody>\n",
       "    <tr>\n",
       "      <th>Tom</th>\n",
       "      <td>8</td>\n",
       "      <td>9</td>\n",
       "      <td>10</td>\n",
       "      <td>11</td>\n",
       "    </tr>\n",
       "    <tr>\n",
       "      <th>Alex</th>\n",
       "      <td>12</td>\n",
       "      <td>13</td>\n",
       "      <td>14</td>\n",
       "      <td>15</td>\n",
       "    </tr>\n",
       "  </tbody>\n",
       "</table>\n",
       "</div>"
      ],
      "text/plain": [
       "       A   B   C   D\n",
       "Tom    8   9  10  11\n",
       "Alex  12  13  14  15"
      ]
     },
     "execution_count": 114,
     "metadata": {},
     "output_type": "execute_result"
    }
   ],
   "source": [
    "# Suppression de lignes\n",
    "data.drop([\"Kate\", \"Tim\"])"
   ]
  },
  {
   "cell_type": "code",
   "execution_count": 115,
   "metadata": {},
   "outputs": [
    {
     "data": {
      "text/html": [
       "<div>\n",
       "<style scoped>\n",
       "    .dataframe tbody tr th:only-of-type {\n",
       "        vertical-align: middle;\n",
       "    }\n",
       "\n",
       "    .dataframe tbody tr th {\n",
       "        vertical-align: top;\n",
       "    }\n",
       "\n",
       "    .dataframe thead th {\n",
       "        text-align: right;\n",
       "    }\n",
       "</style>\n",
       "<table border=\"1\" class=\"dataframe\">\n",
       "  <thead>\n",
       "    <tr style=\"text-align: right;\">\n",
       "      <th></th>\n",
       "      <th>A</th>\n",
       "      <th>B</th>\n",
       "      <th>C</th>\n",
       "      <th>D</th>\n",
       "    </tr>\n",
       "  </thead>\n",
       "  <tbody>\n",
       "    <tr>\n",
       "      <th>Tim</th>\n",
       "      <td>4</td>\n",
       "      <td>5</td>\n",
       "      <td>6</td>\n",
       "      <td>7</td>\n",
       "    </tr>\n",
       "    <tr>\n",
       "      <th>Tom</th>\n",
       "      <td>8</td>\n",
       "      <td>9</td>\n",
       "      <td>10</td>\n",
       "      <td>11</td>\n",
       "    </tr>\n",
       "    <tr>\n",
       "      <th>Alex</th>\n",
       "      <td>12</td>\n",
       "      <td>13</td>\n",
       "      <td>14</td>\n",
       "      <td>15</td>\n",
       "    </tr>\n",
       "  </tbody>\n",
       "</table>\n",
       "</div>"
      ],
      "text/plain": [
       "       A   B   C   D\n",
       "Tim    4   5   6   7\n",
       "Tom    8   9  10  11\n",
       "Alex  12  13  14  15"
      ]
     },
     "execution_count": 115,
     "metadata": {},
     "output_type": "execute_result"
    }
   ],
   "source": [
    "# Autre exemple de suppression de ligne\n",
    "data.drop(\"Kate\", axis=0)"
   ]
  },
  {
   "cell_type": "code",
   "execution_count": 116,
   "metadata": {},
   "outputs": [
    {
     "data": {
      "text/html": [
       "<div>\n",
       "<style scoped>\n",
       "    .dataframe tbody tr th:only-of-type {\n",
       "        vertical-align: middle;\n",
       "    }\n",
       "\n",
       "    .dataframe tbody tr th {\n",
       "        vertical-align: top;\n",
       "    }\n",
       "\n",
       "    .dataframe thead th {\n",
       "        text-align: right;\n",
       "    }\n",
       "</style>\n",
       "<table border=\"1\" class=\"dataframe\">\n",
       "  <thead>\n",
       "    <tr style=\"text-align: right;\">\n",
       "      <th></th>\n",
       "      <th>B</th>\n",
       "      <th>C</th>\n",
       "      <th>D</th>\n",
       "    </tr>\n",
       "  </thead>\n",
       "  <tbody>\n",
       "    <tr>\n",
       "      <th>Kate</th>\n",
       "      <td>1</td>\n",
       "      <td>2</td>\n",
       "      <td>3</td>\n",
       "    </tr>\n",
       "    <tr>\n",
       "      <th>Tim</th>\n",
       "      <td>5</td>\n",
       "      <td>6</td>\n",
       "      <td>7</td>\n",
       "    </tr>\n",
       "    <tr>\n",
       "      <th>Tom</th>\n",
       "      <td>9</td>\n",
       "      <td>10</td>\n",
       "      <td>11</td>\n",
       "    </tr>\n",
       "    <tr>\n",
       "      <th>Alex</th>\n",
       "      <td>13</td>\n",
       "      <td>14</td>\n",
       "      <td>15</td>\n",
       "    </tr>\n",
       "  </tbody>\n",
       "</table>\n",
       "</div>"
      ],
      "text/plain": [
       "       B   C   D\n",
       "Kate   1   2   3\n",
       "Tim    5   6   7\n",
       "Tom    9  10  11\n",
       "Alex  13  14  15"
      ]
     },
     "execution_count": 116,
     "metadata": {},
     "output_type": "execute_result"
    }
   ],
   "source": [
    "# Suppression d'une colonne\n",
    "data.drop(\"A\", axis=1)"
   ]
  },
  {
   "cell_type": "code",
   "execution_count": 119,
   "metadata": {},
   "outputs": [
    {
     "data": {
      "text/plain": [
       "A    6.0\n",
       "B    7.0\n",
       "C    8.0\n",
       "D    9.0\n",
       "dtype: float64"
      ]
     },
     "execution_count": 119,
     "metadata": {},
     "output_type": "execute_result"
    }
   ],
   "source": [
    "# Calcul de la moyenne par colonne\n",
    "data.mean(axis=\"index\")"
   ]
  },
  {
   "cell_type": "code",
   "execution_count": 120,
   "metadata": {},
   "outputs": [
    {
     "data": {
      "text/plain": [
       "Kate     1.5\n",
       "Tim      5.5\n",
       "Tom      9.5\n",
       "Alex    13.5\n",
       "dtype: float64"
      ]
     },
     "execution_count": 120,
     "metadata": {},
     "output_type": "execute_result"
    }
   ],
   "source": [
    "# Calcul de la moyenne par ligne\n",
    "data.mean(axis=\"columns\")"
   ]
  },
  {
   "cell_type": "code",
   "execution_count": 26,
   "metadata": {},
   "outputs": [],
   "source": [
    "### Suite (pandas)\n",
    "\n",
    "### 5.3 Matplotlib \n",
    "\n",
    "### 5.4 Seaborn"
   ]
  },
  {
   "cell_type": "markdown",
   "metadata": {},
   "source": [
    "<a id=\"6-bonnes-pratiques-en-programmation\"></a>\n",
    "## 6. Bonnes Pratiques en Programmation"
   ]
  }
 ],
 "metadata": {
  "kernelspec": {
   "display_name": "Python 3",
   "language": "python",
   "name": "python3"
  },
  "language_info": {
   "codemirror_mode": {
    "name": "ipython",
    "version": 3
   },
   "file_extension": ".py",
   "mimetype": "text/x-python",
   "name": "python",
   "nbconvert_exporter": "python",
   "pygments_lexer": "ipython3",
   "version": "3.11.7"
  }
 },
 "nbformat": 4,
 "nbformat_minor": 2
}
