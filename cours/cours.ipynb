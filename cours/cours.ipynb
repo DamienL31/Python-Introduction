{
 "cells": [
  {
   "cell_type": "markdown",
   "metadata": {},
   "source": [
    "# Introduction à Python\n",
    "\n",
    "## Table des matières \n",
    "1. C’est quoi Python ?\n",
    "2. Les Fondamentaux de Python\n",
    "    - 2.1. Variables (types natifs) et opérations.\n",
    "    - 2.2. Commentaires et affichage\n",
    "    - 2.3. Structures de contrôle : opérateurs, conditions, boucles\n",
    "        - Projet 1 : Juste prix\n",
    "        - Projet 2 : Casino        \n",
    "    - 2.4. Types de Données (structures séquentielles : chaines de caractères, listes, ensembles, tuples, dictionnaires) \n",
    "        - Exercices 1\n",
    "        - Projet 3 : Pendu\n",
    "    - 2.5. Fonctions : définition et appel.\n",
    "4. Gestion des exceptions\n",
    "5. Lecture et écriture de fichiers.\n",
    "6. Modules et Bibliothèques\n",
    "7. Bonnes Pratiques en Programmation\n",
    "\n",
    "## 1. C’est quoi Python ?\n",
    "\n",
    "Le langage de programmation Python a été créé en 1989 par Guido van Rossum, aux Pays-Bas. \n",
    "\n",
    "Le nom Python vient d’un hommage à la série télévisée **Monty Python’s Flying Circus** dont G. van Rossum est fan. La première version publique de ce\n",
    "langage a été publiée en 1991.\n",
    "\n",
    "Ce langage de programmation présente de nombreuses caractéristiques intéressantes :\n",
    "\n",
    "— Il est multiplateforme. C’est-à-dire qu’il fonctionne sur de nombreux systèmes d’exploitation : Windows, Mac OS X,\n",
    "Linux, Android, iOS, depuis les mini-ordinateurs Raspberry Pi jusqu’aux supercalculateurs.\n",
    "\n",
    "— Il est gratuit. Vous pouvez l’installer sur autant d’ordinateurs que vous voulez (même sur votre téléphone !).\n",
    "\n",
    "— C’est un langage de haut niveau. Il demande relativement peu de connaissance sur le fonctionnement d’un ordinateur\n",
    "pour être utilisé.\n",
    "\n",
    "— C’est un langage interprété. Un script Python n’a pas besoin d’être compilé pour être exécuté, contrairement à des\n",
    "langages comme le C ou le C++.\n",
    "\n",
    "— Il est orienté objet. C’est-à-dire qu’il est possible de concevoir en Python des entités qui miment celles du monde réel\n",
    "(une cellule, une protéine, un atome, etc.) avec un certain nombre de règles de fonctionnement et d’interactions.\n",
    "\n",
    "— Il est relativement simple à prendre en main \n",
    "\n"
   ]
  },
  {
   "cell_type": "markdown",
   "metadata": {},
   "source": [
    "## 2. Les Fondamentaux de Python\n",
    "- Variables (types natifs) et opérations.\n",
    "- Commentaires et affichage\n",
    "- Structures de contrôle : opérateurs, conditions, boucles\n",
    "- Types de Données (structures séquentielles)\n",
    "- Fonctions : définition et appel."
   ]
  },
  {
   "cell_type": "markdown",
   "metadata": {},
   "source": [
    "### 2.1. Variables (types natifs)\n",
    "\n",
    "**Variables** : Les variables sont des conteneurs permettant de stocker des valeurs de données, telles que des nombres ou des chaînes de caractères.\n",
    "\n",
    "Par exemple, `x = 10` crée une variable nommée x avec la valeur 10. Python est un langage à typage dynamique, ce qui signifie que le type de la variable est déterminé au moment de l'exécution.\n",
    "\n",
    "- Affectation **(=)**.\n",
    "- Python détermine automatiquement le type de données en fonction de la valeur attribuée.\n",
    "- Ecraser les valeurs des variables en les réaffectant.\n",
    "- Sensible à la casse : \"X\" et \"x\" sont deux variables différentes\n",
    "- Imprimer plusieurs variables dans une seule instruction print avec **(,)**\n",
    "- Plusieurs valeurs à plusieurs variables ou plusieurs variables à une seule valeur sur une seule ligne.\n",
    "- Dénomination des variables incluent :\n",
    "    - la casse camel : *testVariableCase*\n",
    "    - la casse Pascal : *TestVariableCase*\n",
    "    - la casse serpent : *test_variable_case*\n",
    "\n",
    "- Evitez de:\n",
    "    - commencer les noms de variables par des chiffres\n",
    "    - utiliser des symboles tels que des tirets ou des espaces\n",
    "    - mélanger des chaînes de caractères et des nombres entiers directement dans la concaténation.\n",
    "\n",
    "**Types natifs** : Les types de données courants en Python incluent :\n",
    "- **Entiers** (`int`) : Nombres sans partie décimale. Exemple : `5`, `-3`.\n",
    "- **Nombres Complexes** (`complex`) : Nombres avec une partie réelle et une partie imaginaire. Exemple : `3 + 4j`.\n",
    "- **Flottants** (`float`) : Nombres avec une partie décimale. Exemple : `3.14`, `-0.001`.\n",
    "- **Chaîne de caractères** (`str`) : Une séquence de caractères, entourée de guillemets simples ou doubles.\n",
    "- **Booléens** (bool) : Représentent deux valeurs : `True` (Vrai) et `False` (Faux).. Le type booléen a seulement deux valeurs : True et False. Ils sont souvent le résultat d'expressions de comparaison ou de conditions logiques.\n"
   ]
  },
  {
   "cell_type": "code",
   "execution_count": 1,
   "metadata": {},
   "outputs": [
    {
     "name": "stdout",
     "output_type": "stream",
     "text": [
      "la variable nom est de type : <class 'str'>\n",
      "la variable age est de type : <class 'int'>\n",
      "la variable taille est de type : <class 'float'>\n",
      "la variable estVrai est de type : <class 'bool'>\n",
      "la variable estFaux est de type : <class 'bool'>\n"
     ]
    }
   ],
   "source": [
    "nom = \"Alice\"  \n",
    "age = 25       \n",
    "taille = 1.70  \n",
    "estVrai = True \n",
    "estFaux = False \n",
    "\n",
    "print(\"la variable nom est de type :\", type(nom))\n",
    "print(\"la variable age est de type :\",type(age))\n",
    "print(\"la variable taille est de type :\",type(taille))\n",
    "print(\"la variable estVrai est de type :\",type(estVrai))\n",
    "print(\"la variable estFaux est de type :\",type(estFaux))"
   ]
  },
  {
   "cell_type": "markdown",
   "metadata": {},
   "source": [
    "Conversion de types\n",
    "\n",
    "La conversion de types, souvent appelée **\"casting\"** en programmation, est un moyen de convertir une valeur d'un type donné en un autre type.\n",
    "\n",
    "En Python, il existe plusieurs fonctions intégrées pour réaliser ces conversions entre les types de base comme les entiers (int), les chaînes de caractères (str), les booléens (bool), et les nombres à virgule flottante (float). \n",
    "\n",
    "Voici des exemples de conversion entre ces types :\n",
    "\n",
    "- Conversion en Entier (`int`) "
   ]
  },
  {
   "cell_type": "code",
   "execution_count": 2,
   "metadata": {},
   "outputs": [],
   "source": [
    "\n",
    "# Depuis une chaîne de caractères** :\n",
    "chaine = \"123\"\n",
    "nombre = int(chaine)  # Convertit la chaîne \"123\" en entier 123\n",
    "\n",
    "## Depuis un booléen** :\n",
    "vrai = True\n",
    "entier = int(vrai)  # Convertit True en 1\n",
    "\n",
    "## Depuis un float** :\n",
    "flottant = 9.99\n",
    "entier = int(flottant)  # Convertit 9.99 en 9 (troncature, pas d'arrondi)"
   ]
  },
  {
   "cell_type": "markdown",
   "metadata": {},
   "source": [
    "- Conversion en Chaîne de Caractères (`str`)\n"
   ]
  },
  {
   "cell_type": "code",
   "execution_count": 3,
   "metadata": {},
   "outputs": [],
   "source": [
    "## Depuis un entier ou un float** :\n",
    "nombre = 123\n",
    "chaine = str(nombre)  # Convertit l'entier 123 en chaîne \"123\"\n",
    "\n",
    "## Depuis un booléen** :\n",
    "faux = False\n",
    "chaine = str(faux)  # Convertit False en \"False\"\n",
    " "
   ]
  },
  {
   "cell_type": "markdown",
   "metadata": {},
   "source": [
    "- Conversion en Booléen (`bool`)"
   ]
  },
  {
   "cell_type": "code",
   "execution_count": 4,
   "metadata": {},
   "outputs": [],
   "source": [
    "## Depuis une chaîne de caractères** :\n",
    "chaine = \"\"\n",
    "booleen = bool(chaine)  # Convertit une chaîne vide en False\n",
    "chaine2 = \"Python\"\n",
    "booleen2 = bool(chaine2)  # Convertit \"Python\" en True\n",
    "\n",
    "## Depuis un nombre** : \n",
    "nombre = 0\n",
    "booleen = bool(nombre)  # Convertit 0 en False\n",
    "nombre2 = 123\n",
    "booleen2 = bool(nombre2)  # Convertit 123 en True\n"
   ]
  },
  {
   "cell_type": "markdown",
   "metadata": {},
   "source": [
    "- Conversion en Float (`float`)"
   ]
  },
  {
   "cell_type": "code",
   "execution_count": 5,
   "metadata": {},
   "outputs": [],
   "source": [
    "## Depuis une chaîne de caractères** :\n",
    "chaine = \"123.45\"\n",
    "flottant = float(chaine)  # Convertit la chaîne \"123.45\" en float 123.45\n",
    "\n",
    "## Depuis un entier** :\n",
    "entier = 100\n",
    "flottant = float(entier)  # Convertit l'entier 100 en float 100.0\n",
    "\n",
    "## Depuis un booléen** :\n",
    "vrai = True\n",
    "flottant = float(vrai)  # Convertit True en 1.0"
   ]
  },
  {
   "cell_type": "markdown",
   "metadata": {},
   "source": [
    "Affectation de valeurs différentes\n"
   ]
  },
  {
   "cell_type": "code",
   "execution_count": 6,
   "metadata": {},
   "outputs": [
    {
     "name": "stdout",
     "output_type": "stream",
     "text": [
      "Chocolat\n",
      "Vanille\n",
      "Fraise\n"
     ]
    }
   ],
   "source": [
    "x, y, z = \"Chocolat\", \"Vanille\", \"Fraise\"\n",
    "print(x)\n",
    "print(y)\n",
    "print(z)"
   ]
  },
  {
   "cell_type": "markdown",
   "metadata": {},
   "source": [
    "Affectation de la même valeur"
   ]
  },
  {
   "cell_type": "code",
   "execution_count": 7,
   "metadata": {},
   "outputs": [
    {
     "name": "stdout",
     "output_type": "stream",
     "text": [
      "Chocolat\n",
      "Chocolat\n",
      "Chocolat\n"
     ]
    }
   ],
   "source": [
    "x = y = z = \"Chocolat\"\n",
    "print(x)\n",
    "print(y)\n",
    "print(z)"
   ]
  },
  {
   "cell_type": "markdown",
   "metadata": {},
   "source": [
    "### Opérations arithmétiques\n",
    "\n",
    "Arithmétique : Addition (+), soustraction (-), multiplication (*), et division (/)."
   ]
  },
  {
   "cell_type": "code",
   "execution_count": 8,
   "metadata": {},
   "outputs": [],
   "source": [
    "somme = 10 + 5       # Résultat: 15\n",
    "difference = 10 - 5  # Résultat: 5\n",
    "produit = 10 * 5     # Résultat: 50\n",
    "quotient = 10 / 5    # Résultat: 2.0\n"
   ]
  },
  {
   "cell_type": "markdown",
   "metadata": {},
   "source": [
    "Modulo (%) retourne le reste de la division \n",
    "\n",
    "Puissance (**) élève un nombre à une certaine puissance.\n"
   ]
  },
  {
   "cell_type": "code",
   "execution_count": 9,
   "metadata": {},
   "outputs": [],
   "source": [
    "reste = 10 % 3       # Résultat: 1\n",
    "puissance = 2 ** 3   # Résultat: 8"
   ]
  },
  {
   "cell_type": "markdown",
   "metadata": {},
   "source": [
    "### Opérations sur les chaînes \n",
    "\n",
    "La concaténation (+) combine des chaînes\n",
    "\n",
    "La répétition (*) répète une chaîne un certain nombre de fois.\n",
    "\n"
   ]
  },
  {
   "cell_type": "code",
   "execution_count": 10,
   "metadata": {},
   "outputs": [],
   "source": [
    "message = \"Bonjour\" + \" le monde\"  # Résultat: \"Bonjour le monde\"\n",
    "echo = \"Ha\" * 3                    # Résultat: \"HaHaHa\""
   ]
  },
  {
   "cell_type": "markdown",
   "metadata": {},
   "source": [
    "### Opérateurs d'affectation composés\n",
    "\n",
    "Les opérateurs d'affectation composés en Python sont des raccourcis qui **combinent une opération arithmétique ou binaire avec une affectation.**\n",
    "\n",
    "En gros, ils vous permettent d'effectuer une opération sur une variable et de lui réaffecter le résultat en une seule étape.\n",
    "\n",
    "\n"
   ]
  },
  {
   "cell_type": "code",
   "execution_count": 11,
   "metadata": {},
   "outputs": [
    {
     "name": "stdout",
     "output_type": "stream",
     "text": [
      "5\n",
      "7\n",
      "4\n",
      "16\n",
      "8.0\n",
      "2.0\n",
      "2.0\n",
      "4.0\n"
     ]
    }
   ],
   "source": [
    "# Initialisation de x\n",
    "x = 5\n",
    "print(x)\n",
    "\n",
    "# Ajouter et assigner\n",
    "x += 2  # x est maintenant 7\n",
    "print(x)\n",
    "\n",
    "# Soustraire et assigner\n",
    "x -= 3  # x est maintenant 4\n",
    "print(x)\n",
    "\n",
    "# Multiplier et assigner\n",
    "x *= 4  # x est maintenant 16\n",
    "print(x)\n",
    "\n",
    "# Diviser et assigner\n",
    "x /= 2  # x est maintenant 8\n",
    "print(x)\n",
    "\n",
    "# Division entière et assigner\n",
    "x //= 3  # x est maintenant 2\n",
    "print(x)\n",
    "\n",
    "# Modulo et assigner\n",
    "x %= 3  # x est maintenant 2\n",
    "print(x)\n",
    "\n",
    "# Exponentielle et assigner\n",
    "x **= 2  # x est maintenant 4\n",
    "print(x)\n"
   ]
  },
  {
   "cell_type": "markdown",
   "metadata": {},
   "source": [
    "### 2.2 Commentaires et affichage\n",
    "\n",
    "Les **commentaires** sont utilisés pour expliquer le code en Python.\n",
    "\n",
    "Ils sont très utiles pour vous-même et pour les autres personnes qui lisent votre code. En Python, les commentaires commencent par un **#** et s'étendent jusqu'à la fin de la ligne.\n",
    "\n",
    "**Les commentaires sont ignorés lors de l'exécution du code.**"
   ]
  },
  {
   "cell_type": "code",
   "execution_count": 12,
   "metadata": {},
   "outputs": [],
   "source": [
    "# Ceci est un commentaire simple en Python\n",
    "\n",
    "x = 5  # Ceci est un commentaire suivant une instruction\n",
    "\n",
    "# Vous pouvez utiliser les commentaires pour expliquer\n",
    "# ce que votre code est censé faire :\n",
    "y = x + 2  # Ajout de 2 à x et stockage du résultat dans y\n"
   ]
  },
  {
   "cell_type": "markdown",
   "metadata": {},
   "source": [
    "Pour **l'affichage** en Python, la fonction **print()** est utilisée.\n",
    "\n",
    "Elle permet d'afficher le texte, les nombres, et d'autres objets sur la console."
   ]
  },
  {
   "cell_type": "code",
   "execution_count": 13,
   "metadata": {},
   "outputs": [
    {
     "name": "stdout",
     "output_type": "stream",
     "text": [
      "Bonjour, monde !\n",
      "10\n",
      "Le nombre est 10\n"
     ]
    }
   ],
   "source": [
    "print(\"Bonjour, monde !\")  # Affiche un message simple\n",
    "\n",
    "nombre = 10\n",
    "print(nombre)  # Affiche la valeur de la variable 'nombre'\n",
    "\n",
    "# Vous pouvez aussi combiner du texte et des variables :\n",
    "print(\"Le nombre est\", nombre)  # Affiche \"Le nombre est 10\"\n",
    "\n"
   ]
  },
  {
   "cell_type": "markdown",
   "metadata": {},
   "source": [
    "Utilisation de f-string\n"
   ]
  },
  {
   "cell_type": "code",
   "execution_count": 14,
   "metadata": {},
   "outputs": [
    {
     "name": "stdout",
     "output_type": "stream",
     "text": [
      "Le nombre est 10\n",
      "Marie, est partie\n"
     ]
    }
   ],
   "source": [
    "prenom = 'Marie'\n",
    "age = 15\n",
    "taille = 207\n",
    "\n",
    "# Formatage de chaînes avec f-string pour une lisibilité améliorée :\n",
    "print(f\"Le nombre est {nombre}\") \n",
    "print(f\"{prenom}, est partie\")\n"
   ]
  },
  {
   "cell_type": "markdown",
   "metadata": {},
   "source": [
    "\n",
    "f-string avec Plusieurs Variables\n"
   ]
  },
  {
   "cell_type": "code",
   "execution_count": 15,
   "metadata": {},
   "outputs": [
    {
     "name": "stdout",
     "output_type": "stream",
     "text": [
      "Marie mesure 207 metres et a 15 ans\n"
     ]
    }
   ],
   "source": [
    "print(f\"{prenom} mesure {taille} metres et a {age} ans\")"
   ]
  },
  {
   "cell_type": "markdown",
   "metadata": {},
   "source": [
    "Utilisation de format"
   ]
  },
  {
   "cell_type": "code",
   "execution_count": 16,
   "metadata": {},
   "outputs": [
    {
     "name": "stdout",
     "output_type": "stream",
     "text": [
      "Marie a 15 ans \n"
     ]
    }
   ],
   "source": [
    "print(\"{} a {} ans \".format(prenom, age))"
   ]
  },
  {
   "cell_type": "markdown",
   "metadata": {},
   "source": [
    "- L'instruction précédente utilise la méthode `.format()` pour insérer les variables dans la chaîne de caractères.\n",
    "- `{}` sont des placeholders (espaces réservés) qui seront remplacés par les arguments de `.format()` dans l'ordre.\n",
    "- `ma_chaine` et `age` seront insérés respectivement dans le premier et le second `{}`.\n",
    "\n",
    " Calcul et arrondi\n",
    "\n",
    "- Le premier `print(prop)` affiche la valeur de `prop` avec tous ses chiffres après la virgule.\n",
    "- Le second `print()` utilise une f-string avec un formatage spécifique `{prop:.2f}`. \n",
    "\n",
    "Cela signifie que la valeur de `prop` sera formatée pour afficher seulement deux chiffres après la virgule.\n"
   ]
  },
  {
   "cell_type": "code",
   "execution_count": 17,
   "metadata": {},
   "outputs": [
    {
     "name": "stdout",
     "output_type": "stream",
     "text": [
      "0.4780405405405405\n",
      "La proportion de GC est 0.48\n"
     ]
    }
   ],
   "source": [
    "prop = (4500 + 2575) / 14800\n",
    "print(prop)\n",
    "print(f\"La proportion de GC est {prop:.2f}\")"
   ]
  },
  {
   "cell_type": "markdown",
   "metadata": {},
   "source": [
    "### 2.3. Structures de contrôle \n",
    "\n",
    "#### Les opérateurs\n",
    "\n",
    "Les opérateurs Python sont utilisés pour effectuer des opérations sur les variables et les valeurs.\n",
    "\n",
    "**Les opérateurs de comparaison** en Python incluent égal à, différent de, supérieur à, inférieur à, supérieur ou égal à, et inférieur ou égal à.\n",
    "\n",
    "| Opérateur comparaison | Description |\n",
    "| ----------- | ----------- |\n",
    "| Egalité | == |\n",
    "| Différent de |!= |\n",
    "| Supérieur | > |\n",
    "| Inférieur | < |\n",
    "| Supérieur ou égale | >= |\n",
    "| Inférieur ou égale | <= |\n",
    "\n",
    "\n",
    " - Renvoient soit Vrai, soit Faux, en fonction du résultat de la comparaison.\n",
    "\n",
    "**Les opérateurs logiques** et, ou et non sont souvent combinés avec les opérateurs de comparaison.\n",
    "\n",
    "| Opérateur logique| Description | Résultat |\n",
    "| ----------- | ----------- |----------- |\n",
    "| And | and | True si les deux propositions sont vraies|\n",
    "| Or |  or | True si au moins une des propositions est Vraie |\n",
    "| Not | not | inverse de l'instruction |\n",
    "\n",
    "\n",
    "**Les opérateurs d'appartenance** in et not in sont utilisés pour vérifier si une valeur ou une chaîne de caractères se trouve à l'intérieur d'une autre valeur, chaîne de caractères ou séquence.\n",
    "\n",
    "| Opérateur logique| Description | Résultat |\n",
    "| ----------- | ----------- |----------- |\n",
    "| In | in | True si la valeur spécifiée est présente dans l'objet.|\n",
    "| Not in | not in | True si la valeur spécifiée n'est pas présente dans l'objet.|\n",
    "\n"
   ]
  },
  {
   "cell_type": "code",
   "execution_count": 18,
   "metadata": {},
   "outputs": [
    {
     "name": "stdout",
     "output_type": "stream",
     "text": [
      "Opérateurs de comparaison:\n",
      "True\n",
      "True\n",
      "True\n",
      "True\n",
      "True\n",
      "True\n",
      "\n",
      "Opérateurs logiques:\n",
      "False\n",
      "True\n",
      "False\n",
      "\n",
      "Opérateurs d'appartenance:\n",
      "True\n",
      "True\n"
     ]
    }
   ],
   "source": [
    "# Exemples d'opérateurs de comparaison\n",
    "print(\"Opérateurs de comparaison:\")\n",
    "print(5 == 5)  # Égalité, renvoie True\n",
    "print(5 != 2)  # Différent de, renvoie True\n",
    "print(5 > 3)   # Supérieur à, renvoie True\n",
    "print(5 < 8)   # Inférieur à, renvoie True\n",
    "print(5 >= 3)  # Supérieur ou égal à, renvoie True\n",
    "print(5 <= 8)  # Inférieur ou égal à, renvoie True\n",
    "\n",
    "# Exemples d'opérateurs logiques\n",
    "print(\"\\nOpérateurs logiques:\")\n",
    "print(True and False)  # and, renvoie False\n",
    "print(True or False)   # or, renvoie True\n",
    "print(not True)        # not, renvoie False\n",
    "\n",
    "# Exemples d'opérateurs d'appartenance\n",
    "print(\"\\nOpérateurs d'appartenance:\")\n",
    "liste = [1, 2, 3, 4, 5]\n",
    "print(3 in liste)       # in, renvoie True\n",
    "print(6 not in liste)   # not in, renvoie True"
   ]
  },
  {
   "cell_type": "markdown",
   "metadata": {},
   "source": [
    "#### Conditions"
   ]
  },
  {
   "cell_type": "code",
   "execution_count": 19,
   "metadata": {},
   "outputs": [
    {
     "name": "stdout",
     "output_type": "stream",
     "text": [
      "x est supérieur ou égal à 100\n"
     ]
    }
   ],
   "source": [
    "# condition\n",
    "x = 100 \n",
    "\n",
    "# Première condition : vérifie si x est inférieur à 10\n",
    "if x < 10:\n",
    "    print(\"x est inférieur à 10\")\n",
    "# Deuxième condition : vérifie si x est supérieur ou égal à 100\n",
    "elif x >= 100:\n",
    "    print(\"x est supérieur ou égal à 100\")\n",
    "# Dernière condition : si toutes les conditions précédentes sont fausses\n",
    "else:\n",
    "    print(\"x est supérieur à 10 mais inférieur à 100\")\n"
   ]
  },
  {
   "cell_type": "code",
   "execution_count": 20,
   "metadata": {},
   "outputs": [
    {
     "name": "stdout",
     "output_type": "stream",
     "text": [
      "x est supérieur ou égal à 100 ou y est supérieur ou égal à 30\n"
     ]
    }
   ],
   "source": [
    "# Initialisation des variables\n",
    "x = 100 \n",
    "y = 30 \n",
    "\n",
    "# Première condition : vérifie si x est inférieur à 10 ET y est supérieur à 20\n",
    "if (x < 10) and (y > 20):\n",
    "    print(\"x est inférieur à 10 et y est supérieur à 20\")\n",
    "# Deuxième condition : vérifie si x est supérieur ou égal à 100 OU y est supérieur ou égal à 30\n",
    "elif x >= 100 or y >= 30:\n",
    "    print(\"x est supérieur ou égal à 100 ou y est supérieur ou égal à 30\")\n",
    "# Dernière condition : si toutes les conditions précédentes sont fausses\n",
    "else:\n",
    "    print(\"x est supérieur à 10\")\n"
   ]
  },
  {
   "cell_type": "markdown",
   "metadata": {},
   "source": [
    "####  Les boucles\n",
    "\n",
    "**La boucle for** est utilisée pour parcourir des structures de données : liste, tuple, tableau, chaîne de caractères ou un dictionnaire.\n",
    "\n",
    "> La boucle commence par examiner le premier élément de la séquence, effectue des actions dans son corps, puis passe à l'élément suivant jusqu'à ce que la séquence soit terminée.\n",
    "\n",
    " - Boucle avec mot-clé **\"for\"**, une **variable temporaire** pour contenir chaque élément, le mot-clé **\"in\"** et la séquence à parcourir, suivis  de **deux points**. Jusqu'au bout de l'élément\n",
    "- Appliquer des **opérations sur la variable temporaire** dans le corps de la boucle pour effectuer diverses opérations.\n",
    "- **Imbriquer des for\"**\n",
    "- Sur les *dictionnaires*, on peut **boucler sur les clés et les valeurs à l'aide de la méthode \"items()\"**."
   ]
  },
  {
   "cell_type": "code",
   "execution_count": 21,
   "metadata": {},
   "outputs": [
    {
     "name": "stdout",
     "output_type": "stream",
     "text": [
      "0\n",
      "1\n",
      "2\n",
      "3\n",
      "4\n",
      "pomme\n",
      "banane\n",
      "mangue\n",
      "cerise\n",
      "Boucle for sur une liste:\n",
      "1\n",
      "2\n",
      "3\n",
      "4\n",
      "5\n",
      "1 est impair\n",
      "2 est pair\n",
      "3 est impair\n",
      "4 est pair\n",
      "5 est impair\n"
     ]
    }
   ],
   "source": [
    "# Exemple de boucle for\n",
    "for i in range(5):\n",
    "    print(i)\n",
    "\n",
    "fruits = [\"pomme\", \"banane\", \"mangue\", \"cerise\"]\n",
    "for fruit in fruits:\n",
    "    print(fruit)\n",
    "\n",
    "print(\"Boucle for sur une liste:\")\n",
    "ma_liste = [1, 2, 3, 4, 5]\n",
    "for element in ma_liste:\n",
    "    print(element)\n",
    "\n",
    "nombres = [1, 2, 3, 4, 5]\n",
    "for nombre in nombres:\n",
    "    if nombre % 2 == 0:\n",
    "        print(f\"{nombre} est pair\")\n",
    "    else:\n",
    "        print(f\"{nombre} est impair\")\n"
   ]
  },
  {
   "cell_type": "markdown",
   "metadata": {},
   "source": [
    "**La boucle while** itère sur un bloc de code tant qu'une condition spécifiée est vraie.\n",
    "Contrairement aux boucles \"for\", les boucles \"while\" continuent l'itération tant que la condition reste vraie.\n",
    "\n",
    "- **\"break\"** pour quitter prématurément une boucle \"while\", même si la condition est toujours vraie.\n",
    "- **\"else\"** peut être utilisée avec une boucle \"while\" pour spécifier un bloc de code qui s'exécutera lorsque la condition de la boucle ne sera plus vraie.\n",
    "- **\"continue\"** permet d'ignorer le code restant dans l'itération actuelle de la boucle et de passer à l'itération suivante.\n",
    "- !! **Soyez prudent lorsque vous utilisez \"continue\" afin d'éviter de créer des boucles infinies.**"
   ]
  },
  {
   "cell_type": "code",
   "execution_count": 22,
   "metadata": {},
   "outputs": [
    {
     "name": "stdout",
     "output_type": "stream",
     "text": [
      "\n",
      "Boucle while avec break:\n",
      "1\n",
      "2\n",
      "3\n",
      "Break à 3\n",
      "\n",
      "Boucle while avec continue:\n",
      "1\n",
      "2\n",
      "4\n",
      "5\n",
      "\n",
      "Boucle while avec else:\n",
      "1\n",
      "2\n",
      "3\n",
      "4\n",
      "5\n",
      "La condition n'est plus vraie (i > 5)\n",
      "Boucle while True avec un mécanisme de sortie :\n",
      "1\n",
      "2\n",
      "3\n",
      "4\n",
      "5\n",
      "Compteur a atteint 5, sortir de la boucle.\n"
     ]
    }
   ],
   "source": [
    "# Boucle while avec break\n",
    "print(\"\\nBoucle while avec break:\")\n",
    "i = 1\n",
    "while i <= 5:\n",
    "    print(i)\n",
    "    if i == 3:\n",
    "        print(\"Break à 3\")\n",
    "        break\n",
    "    i += 1\n",
    "\n",
    "# Boucle while avec continue\n",
    "print(\"\\nBoucle while avec continue:\")\n",
    "i = 0\n",
    "while i < 5:\n",
    "    i += 1\n",
    "    if i == 3:\n",
    "        continue\n",
    "    print(i)\n",
    "\n",
    "# Boucle while avec else\n",
    "print(\"\\nBoucle while avec else:\")\n",
    "i = 1\n",
    "while i <= 5:\n",
    "    print(i)\n",
    "    i += 1\n",
    "else:\n",
    "    print(\"La condition n'est plus vraie (i > 5)\")\n",
    "\n",
    "# Exemple de boucle while True\n",
    "print(\"Boucle while True avec un mécanisme de sortie :\")\n",
    "\n",
    "compteur = 0\n",
    "while True:\n",
    "    compteur += 1\n",
    "    print(compteur)\n",
    "\n",
    "    # Interrompre la boucle si compteur atteint 5\n",
    "    if compteur == 5:\n",
    "        print(\"Compteur a atteint 5, sortir de la boucle.\")\n",
    "        break"
   ]
  },
  {
   "cell_type": "markdown",
   "metadata": {},
   "source": [
    "### 2.4. Types de Données en Python (Structures Séquentielles)\n",
    "\n",
    "Chaque type de données séquentielles a ses propres caractéristiques et utilisations spécifiques, offrant une grande flexibilité pour le traitement des données en Python. Les listes et les dictionnaires sont particulièrement populaires pour leur flexibilité et leurs capacités de stockage dynamique.\n",
    "\n",
    "- **Chaînes de Caractères** (`str`) :\n",
    "  Les chaînes de caractères (strings) en Python sont utilisées pour stocker et manipuler du texte. Elles sont définies en plaçant le texte entre guillemets simples (`'...'`), doubles (`\"...\"`) ou triples (`'''...'''` ou `\"\"\"...\"\"\"` pour les chaînes sur plusieurs lignes).\n",
    "\n",
    "  - Séquences de caractères, indexées à partir de 0.\n",
    "  - Peuvent être délimitées par des guillemets simples, doubles ou triples.\n",
    "  - Exemple : `\"Python\"`, `'Data'`.\n",
    "  - Caractères d'Échappement : pour inclure des caractères spéciaux comme des guillemets ou des retours à la ligne dans une chaîne, utilisez des caractères d'échappement (`\\`).\n",
    "\n",
    "  ```python\n",
    "  citation = \"Elle a dit \\\"Bonjour!\\\"\"\n",
    "  retour_ligne = \"Ligne 1\\nLigne 2\"\n",
    "  ```\n",
    "Les chaînes de caractères en Python sont extrêmement polyvalentes et fournissent une gamme complète de méthodes pour le traitement de texte. Que ce soit pour la manipulation de base ou des opérations complexes, les chaînes sont un outil indispensable en Python.\n"
   ]
  },
  {
   "cell_type": "code",
   "execution_count": 23,
   "metadata": {},
   "outputs": [
    {
     "name": "stdout",
     "output_type": "stream",
     "text": [
      "Bonjour, 'la longueur est 7\n",
      "Python \n",
      " Ceci est une\n",
      "chaîne sur plusieurs\n",
      "lignes.\n",
      "B et yth\n",
      "Bonjour, Python\n",
      "echo echo echo \n"
     ]
    }
   ],
   "source": [
    "# Définition chaines de caractères\n",
    "chaine_simple = 'Bonjour'\n",
    "longueur = len(chaine_simple) # 7\n",
    "print(f\"{chaine_simple}, 'la longueur est {longueur}\")\n",
    "\n",
    "chaine_double = \"Python\"\n",
    "chaine_multiligne = \"\"\"Ceci est une\n",
    "chaîne sur plusieurs\n",
    "lignes.\"\"\"\n",
    "print(chaine_double,\"\\n\", chaine_multiligne)\n",
    "\n",
    "# Acces aux éléments\n",
    "premier_char = chaine_simple[0]  # 'B'\n",
    "sous_chaine = chaine_double[1:4] # 'yth'\n",
    "print(premier_char, \"et\",  sous_chaine)\n",
    "\n",
    "# Concaténation \n",
    "salutation = chaine_simple + \", \" + chaine_double # 'Bonjour, Python'\n",
    "print(salutation)\n",
    "\n",
    "# Répétition\n",
    "echo = \"echo \" * 3  # 'echo echo echo '\n",
    "print(echo)"
   ]
  },
  {
   "cell_type": "markdown",
   "metadata": {},
   "source": [
    "- **Méthodes pour les Chaînes de Caractères** : Les méthodes sont des fonctions qui sont associées à des objets spécifiques. Elles permettent d'exécuter des actions sur ces objets ou de manipuler leurs données internes. Voici quelques caractéristiques clés des méthodes :\n",
    "\n",
    "    - **Association avec des Objets** : Contrairement aux fonctions indépendantes, les méthodes sont liées à des objets. Par exemple, les méthodes de chaînes de caractères (`str`) en Python sont conçues pour effectuer des opérations sur des chaînes de caractères spécifiques.\n",
    "    - **Syntaxe** : En Python, une méthode est appelée en utilisant la notation pointée. Par exemple, `objet.methode()`.\n",
    "    - **Méthodes de Chaînes de Caractères** : les chaînes de caractères disposent de méthodes telles que `upper()`, `lower()`, `replace()` pour convertir en majuscules, en minuscules ou remplacer une partie de la chaîne.\n",
    "    - **Appel** : Pour appeler une méthode, utilisez généralement la syntaxe `objet.methode(arguments)`.\n"
   ]
  },
  {
   "cell_type": "code",
   "execution_count": 24,
   "metadata": {},
   "outputs": [
    {
     "name": "stdout",
     "output_type": "stream",
     "text": [
      "True\n",
      "True\n",
      "PYTHON EST GÉNIAL\n",
      "python est génial\n",
      "Python est génial\n",
      "Python Est Génial\n",
      "7\n",
      "Les bananes sont rouges.\n",
      "['apple', 'orange', 'banana']\n",
      "apple, orange, banana\n",
      "Bonjour\n",
      "True\n",
      "True\n"
     ]
    }
   ],
   "source": [
    "# Méthodes str.isupper() et str.islower()\n",
    "majuscules = \"PYTHON\"\n",
    "minuscules = \"python\"\n",
    "is_upper = majuscules.isupper()\n",
    "is_lower = minuscules.islower()\n",
    "print(is_upper)  # Résultat : True\n",
    "print(is_lower)  # Résultat : True\n",
    "\n",
    "# Méthode str.upper()\n",
    "texte_upper = \"python est génial\".upper()\n",
    "print(texte_upper)  # Résultat : \"PYTHON EST GÉNIAL\"\n",
    "\n",
    "# Méthode str.lower()\n",
    "texte_lower = \"Python est GÉNIAL\".lower()\n",
    "print(texte_lower)  # Résultat : \"python est génial\"\n",
    "\n",
    "# Méthode str.capitalize()\n",
    "texte_capitalize = \"python est génial\".capitalize()\n",
    "print(texte_capitalize)  # Résultat : \"Python est génial\"\n",
    "\n",
    "# Méthode str.title()\n",
    "texte_title = \"python est génial\".title()\n",
    "print(texte_title)  # Résultat : \"Python Est Génial\"\n",
    "\n",
    "# Méthode str.find(substring)\n",
    "texte = \"Python est génial\"\n",
    "position = texte.find(\"est\")\n",
    "print(position)  # Résultat : 7\n",
    "\n",
    "# Méthode str.replace(old, new)\n",
    "texte_replace = \"Les pommes sont rouges.\".replace(\"pommes\", \"bananes\")\n",
    "print(texte_replace)  # Résultat : \"Les bananes sont rouges.\"\n",
    "\n",
    "# Méthode str.split(separator)\n",
    "texte_split = \"apple,orange,banana\".split(\",\")\n",
    "print(texte_split)  # Résultat : [\"apple\", \"orange\", \"banana\"]\n",
    "\n",
    "# Méthode str.join(iterable)\n",
    "elements = [\"apple\", \"orange\", \"banana\"]\n",
    "texte_join = \", \".join(elements)\n",
    "print(texte_join)  # Résultat : \"apple, orange, banana\"\n",
    "\n",
    "# Méthode str.strip()\n",
    "texte_strip = \"   Bonjour   \".strip()\n",
    "print(texte_strip)  # Résultat : \"Bonjour\"\n",
    "\n",
    "# Méthode str.startswith(prefix)\n",
    "texte_startswith = \"Bonjour, comment ça va ?\".startswith(\"Bonjour\")\n",
    "print(texte_startswith)  # Résultat : True\n",
    "\n",
    "# Méthode str.endswith(suffix)\n",
    "texte_endswith = \"Leçon terminée.\".endswith(\"terminée.\")\n",
    "print(texte_endswith)  # Résultat : TrueS"
   ]
  },
  {
   "cell_type": "markdown",
   "metadata": {},
   "source": [
    "#### Les listes\n",
    "\n",
    "Les listes en Python sont des structures de données qui permettent de stocker une série d'éléments. Elles sont flexibles, peuvent contenir des éléments de différents types et sont **mutables** (modifiables).\n",
    "\n",
    "- **Listes** (`list`) :\n",
    "  - Collections ordonnées de valeurs, pouvant contenir divers types de données.\n",
    "  - Les éléments sont séparés par des virgules et entourés de crochets.\n",
    "  - Mutables (modifiables).\n",
    "  - Pour créer une liste, placez une série d'éléments séparés par des virgules entre crochets `[]`. Exemple : `[1, \"a\", 3.14]`.\n",
    "  - L'accès aux éléments se fait par leur index, en commençant par `0`.\n",
    "  - Les listes étant mutables, vous pouvez modifier leurs éléments."
   ]
  },
  {
   "cell_type": "code",
   "execution_count": 25,
   "metadata": {},
   "outputs": [
    {
     "name": "stdout",
     "output_type": "stream",
     "text": [
      "[1, 2, 3, 'Python', 3.14]\n",
      "1 \n",
      " 3.14\n",
      "[1, 'deux', 3, 'Python', 3.14]\n"
     ]
    }
   ],
   "source": [
    "# Définition de liste\n",
    "ma_liste = [1, 2, 3, \"Python\", 3.14]\n",
    "print(ma_liste)\n",
    "\n",
    "premier_element = ma_liste[0]  # Accède au premier élément (1)\n",
    "dernier_element = ma_liste[-1] # Accède au dernier élément (3.14)\n",
    "print(premier_element,\"\\n\", dernier_element)\n",
    "\n",
    " # Modifie le deuxième élément\n",
    "ma_liste[1] = \"deux\" \n",
    "print(ma_liste)\n",
    "\n",
    "# Concaténation et Répétition\n",
    "combinee = ma_liste + [\"autre\", \"liste\"]\n",
    "repetee = [1, 2, 3] * 3"
   ]
  },
  {
   "cell_type": "markdown",
   "metadata": {},
   "source": [
    "  - Les méthodes des listes : Chaque méthode offre une fonctionnalité unique pour manipuler des listes, rendant ces structures de données extrêmement flexibles et puissantes pour une variété de tâches en programmation Python.\n",
    "\n",
    "| Méthode        | Description                                              | Exemple d'Utilisation                   |\n",
    "|----------------|----------------------------------------------------------|----------------------------------------|\n",
    "| `append()`     | Ajoute un élément à la fin de la liste.                  | `liste.append(5)`                      |\n",
    "| `extend()`     | Étend la liste en ajoutant tous les éléments d'une autre liste. | `liste.extend([6, 7])`                |\n",
    "| `insert()`     | Insère un élément à une position donnée.                 | `liste.insert(1, 'a')`                 |\n",
    "| `remove()`     | Supprime la première occurrence d'un élément.            | `liste.remove('a')`                    |\n",
    "| `pop()`        | Supprime et renvoie un élément à une position donnée (par défaut, le dernier). | `liste.pop()`                          |\n",
    "| `clear()`      | Supprime tous les éléments de la liste.                  | `liste.clear()`                        |\n",
    "| `index()`      | Retourne l'indice du premier élément correspondant.      | `liste.index('a')`                     |\n",
    "| `count()`      | Compte le nombre d'occurrences d'un élément spécifique.  | `liste.count(5)`                       |\n",
    "| `sort()`       | Trie les éléments de la liste (dans un ordre spécifique). | `liste.sort()`                         |\n",
    "| `reverse()`    | Inverse l'ordre des éléments de la liste.                | `liste.reverse()`                      |\n",
    "| `copy()`       | Retourne une copie superficielle de la liste.            | `nouvelle_liste = liste.copy()`        |\n"
   ]
  },
  {
   "cell_type": "code",
   "execution_count": 26,
   "metadata": {},
   "outputs": [
    {
     "name": "stdout",
     "output_type": "stream",
     "text": [
      "Après append(4): [1, 2, 3, 4]\n",
      "Après extend([5, 6]): [1, 2, 3, 4, 5, 6]\n",
      "Après insert(1, 'a'): [1, 'a', 2, 3, 4, 5, 6]\n",
      "Après remove('a'): [1, 2, 3, 4, 5, 6]\n",
      "Après pop(): [1, 2, 3, 4, 5] , Élément supprimé: 6\n",
      "Après clear(): []\n",
      "Index de 4: 2\n",
      "Nombre d'occurrences de 2: 2\n",
      "Après sort(): [1, 2, 2, 3, 4]\n",
      "Après reverse(): [4, 3, 2, 2, 1]\n",
      "Copie de la liste: [4, 3, 2, 2, 1]\n"
     ]
    }
   ],
   "source": [
    "# Création d'une liste de base\n",
    "ma_liste = [1, 2, 3]\n",
    "\n",
    "# Utilisation de append()\n",
    "ma_liste.append(4)\n",
    "print(\"Après append(4):\", ma_liste)\n",
    "\n",
    "# Utilisation de extend()\n",
    "ma_liste.extend([5, 6])\n",
    "print(\"Après extend([5, 6]):\", ma_liste)\n",
    "\n",
    "# Utilisation de insert()\n",
    "ma_liste.insert(1, 'a')\n",
    "print(\"Après insert(1, 'a'):\", ma_liste)\n",
    "\n",
    "# Utilisation de remove()\n",
    "ma_liste.remove('a')\n",
    "print(\"Après remove('a'):\", ma_liste)\n",
    "\n",
    "# Utilisation de pop()\n",
    "element_supprime = ma_liste.pop()\n",
    "print(\"Après pop():\", ma_liste, \", Élément supprimé:\", element_supprime)\n",
    "\n",
    "# Utilisation de clear()\n",
    "ma_liste.clear()\n",
    "print(\"Après clear():\", ma_liste)\n",
    "\n",
    "# Recréation de la liste pour les autres méthodes\n",
    "ma_liste = [3, 1, 4, 2, 2]\n",
    "\n",
    "# Utilisation de index()\n",
    "index_de_4 = ma_liste.index(4)\n",
    "print(\"Index de 4:\", index_de_4)\n",
    "\n",
    "# Utilisation de count()\n",
    "compte_de_2 = ma_liste.count(2)\n",
    "print(\"Nombre d'occurrences de 2:\", compte_de_2)\n",
    "\n",
    "# Utilisation de sort()\n",
    "ma_liste.sort()\n",
    "print(\"Après sort():\", ma_liste)\n",
    "\n",
    "# Utilisation de reverse()\n",
    "ma_liste.reverse()\n",
    "print(\"Après reverse():\", ma_liste)\n",
    "\n",
    "# Utilisation de copy()\n",
    "copie_de_ma_liste = ma_liste.copy()\n",
    "print(\"Copie de la liste:\", copie_de_ma_liste)\n"
   ]
  },
  {
   "cell_type": "markdown",
   "metadata": {},
   "source": [
    "  - **Parcours de Liste**\n",
    "Le parcours de liste en Python consiste à accéder séquentiellement à chaque élément d'une liste. Cela peut être fait de différentes manières, mais les plus courantes sont les boucles `for` et `while`.\n",
    "\n",
    "    - 1. *Boucle `for`* : La boucle `for` est la méthode la plus couramment utilisée pour parcourir une liste. Elle permet de traiter chaque élément individuellement.\n",
    "    - 2. *`List Comprehension`* : La compréhension de liste est une méthode concise pour créer des listes en Python. Elle permet de transformer une liste en une autre liste, en filtrant les éléments pour former une liste des résultats d'une expression donnée.\n",
    "\n",
    "La syntaxe de base d'une compréhension de liste est :\n",
    "\n",
    "```python\n",
    "[nouvelle_expression for item in iterable if condition]\n",
    "```\n",
    "\n",
    "- `nouvelle_expression` est l'expression qui définit comment mapper les éléments de l'`iterable` (par exemple, une liste).\n",
    "- `item` est la variable qui prend la valeur de chaque élément de l'`iterable` pendant chaque itération.\n",
    "- `condition` est une condition optionnelle pour filtrer les éléments de l'`iterable`."
   ]
  },
  {
   "cell_type": "code",
   "execution_count": 27,
   "metadata": {},
   "outputs": [
    {
     "name": "stdout",
     "output_type": "stream",
     "text": [
      "['apple', 'banana', 'mango']\n"
     ]
    }
   ],
   "source": [
    "# récupérer tous les fruits avec un \"a\"\n",
    "fruits = [\"apple\", \"banana\", \"cherry\", \"kiwi\", \"mango\"]\n",
    "newlist = []\n",
    "\n",
    "for f in fruits:\n",
    "  if \"a\" in f:\n",
    "    newlist.append(f)\n",
    "\n",
    "print(newlist)"
   ]
  },
  {
   "cell_type": "code",
   "execution_count": 28,
   "metadata": {},
   "outputs": [
    {
     "name": "stdout",
     "output_type": "stream",
     "text": [
      "['apple', 'banana', 'mango']\n"
     ]
    }
   ],
   "source": [
    "newlist = []\n",
    "newlist = [f for f in fruits if \"a\" in f ]\n",
    "print(newlist)"
   ]
  },
  {
   "cell_type": "code",
   "execution_count": 29,
   "metadata": {},
   "outputs": [],
   "source": [
    "# Créer une liste des carrés des nombres de 0 à 9 :\n",
    "carres = [x**2 for x in range(10)]"
   ]
  },
  {
   "cell_type": "code",
   "execution_count": 30,
   "metadata": {},
   "outputs": [],
   "source": [
    "# Filtrer les nombres pairs dans une liste :\n",
    "nombres_pairs = [x for x in range(10) if x % 2 == 0]"
   ]
  },
  {
   "cell_type": "code",
   "execution_count": 31,
   "metadata": {},
   "outputs": [],
   "source": [
    "# Appliquer une fonction à tous les éléments :\n",
    "noms_majuscules = [nom.upper() for nom in [\"alice\", \"bob\", \"charlie\"]]"
   ]
  },
  {
   "cell_type": "markdown",
   "metadata": {},
   "source": [
    "- **Tuples** (`tuple`) :\n",
    "  - Similaires aux listes, mais **immuables** (non modifiables après création).\n",
    "  - Les éléments sont séparés par des virgules et entourés de parenthèses.\n",
    "  - Exemple : `(1, \"a\", 3.14)`.\n",
    "\n",
    "| Avantage                            | Description                                                  |\n",
    "|-------------------------------------|--------------------------------------------------------------|\n",
    "| **Sécurité des Données**            | Parfait pour protéger les données contre les modifications.   |\n",
    "| **Performance**                     | Plus rapides à parcourir que les listes.                     |\n",
    "| **Utilisation en tant que Clés de Dictionnaire** | Peuvent être utilisés comme clés dans les dictionnaires, contrairement aux listes. |\n",
    "| **Retour de Plusieurs Valeurs de Fonction** | Utilisés pour retourner plusieurs valeurs depuis une fonction. |\n",
    "| **Stockage de Données Constantes**  | Idéaux pour stocker des données qui ne doivent pas être modifiées. |\n"
   ]
  },
  {
   "cell_type": "code",
   "execution_count": 32,
   "metadata": {},
   "outputs": [],
   "source": [
    "# Définition d'un tuple\n",
    "mon_tuple = (1, \"a\", 3.14)\n",
    "\n",
    "un_autre_tuple = 2, \"b\", 4.28\n",
    "\n",
    "# Accès aux Éléments\n",
    "premier_element = mon_tuple[0]  # 1\n",
    "\n",
    "# Tuple à Un Élément\n",
    "tuple_singleton = (5,)\n",
    "\n",
    "# Imbrication\n",
    "tuple_imbrique = (1, (2, 3), (4, 5))\n",
    "\n",
    "# Méthodes Utiles\n",
    "longueur = len(mon_tuple)  # Retourne la longueur de mon_tuple, ici 3\n",
    "compteur = mon_tuple.count(1)  # Compte le nombre de fois que 1 apparaît dans mon_tuple, ici 1\n",
    "indice = mon_tuple.index(\"a\")  # Trouve l'indice de \"a\" dans mon_tuple, ici 1"
   ]
  },
  {
   "cell_type": "markdown",
   "metadata": {},
   "source": [
    "- **Ensembles** (`set`) :\n",
    "  - Collections non ordonnées de valeurs uniques.\n",
    "  - Utiles pour les opérations d'ensemble et la recherche de valeurs uniques.\n",
    "  - Mutables, mais chaque élément doit être unique.\n",
    "  - Non-Ordonnés : Les ensembles ne maintiennent pas l'ordre des éléments. Vous ne pouvez donc pas accéder aux éléments par un index.\n",
    "  - Exemple : `{1, 2, 3}`.\n",
    "\n",
    "Opérations d'Ensemble\n",
    "\n",
    "| Opération             | Syntaxe    | Description                                    |\n",
    "|-----------------------|------------|------------------------------------------------|\n",
    "| Union                 | `a \\| b`    | Retourne un nouvel ensemble contenant tous les éléments uniques des ensembles `a` et `b`. |\n",
    "| Intersection          | `a & b`    | Retourne un nouvel ensemble contenant uniquement les éléments communs aux ensembles `a` et `b`. |\n",
    "| Différence            | `a - b`    | Retourne un nouvel ensemble contenant les éléments de `a` qui ne sont pas dans `b`. |\n",
    "| Différence Symétrique | `a ^ b`    | Retourne un nouvel ensemble contenant tous les éléments qui sont dans `a` ou `b`, mais pas dans les deux. |\n",
    "| Ajout                 | `a.add(x)` | Ajoute l'élément `x` à l'ensemble `a`. |\n",
    "| Suppression           | `a.remove(x)` | Supprime l'élément `x` de l'ensemble `a` ; lève une erreur si `x` n'est pas présent. |\n",
    "| Suppression (sans erreur) | `a.discard(x)` | Supprime l'élément `x` de l'ensemble `a` si `x` est présent ; ne fait rien sinon. |"
   ]
  },
  {
   "cell_type": "code",
   "execution_count": 33,
   "metadata": {},
   "outputs": [
    {
     "name": "stdout",
     "output_type": "stream",
     "text": [
      "Union : {1, 2, 3, 4, 5, 6}\n",
      "Intersection : {3, 4}\n",
      "Différence : {1, 2}\n",
      "Différence Symétrique : {1, 2, 5, 6}\n",
      "Après ajout : {1, 2, 3, 4, 7}\n",
      "Après suppression : {2, 3, 4, 7}\n"
     ]
    }
   ],
   "source": [
    "# Définition des ensembles\n",
    "ensemble_a = {1, 2, 3, 4}\n",
    "ensemble_b = {3, 4, 5, 6}\n",
    "\n",
    "# Opérations d'ensemble\n",
    "union = ensemble_a | ensemble_b\n",
    "intersection = ensemble_a & ensemble_b\n",
    "difference = ensemble_a - ensemble_b\n",
    "difference_symetrique = ensemble_a ^ ensemble_b\n",
    "\n",
    "# Affichage des résultats\n",
    "print(\"Union :\", union)\n",
    "print(\"Intersection :\", intersection)\n",
    "print(\"Différence :\", difference)\n",
    "print(\"Différence Symétrique :\", difference_symetrique)\n",
    "\n",
    "# Ajout et suppression\n",
    "ensemble_a.add(7)\n",
    "print(\"Après ajout :\", ensemble_a)\n",
    "ensemble_a.remove(1)\n",
    "print(\"Après suppression :\", ensemble_a)\n",
    "ensemble_a.discard(8)  # Ne fait rien car 8 n'est pas dans l'ensemble"
   ]
  },
  {
   "cell_type": "markdown",
   "metadata": {},
   "source": [
    "- **Dictionnaires** (`dict`) :\n",
    "  - Basés sur des paires clé-valeur.\n",
    "  - Les valeurs sont accessibles via les clés.\n",
    "  - Mutables, permettant les mises à jour et les suppressions.\n",
    "  - Exemple : `{\"nom\": \"Alice\", \"âge\": 30}`.\n",
    "  - Utilisation :\n",
    "    - **Stockage d'Informations Structurées** : Parfait pour stocker des informations complexes comme des données utilisateur.\n",
    "    - **Recherche Rapide** : Utilisez des dictionnaires pour des recherches rapides basées sur des clés uniques."
   ]
  },
  {
   "cell_type": "code",
   "execution_count": 34,
   "metadata": {},
   "outputs": [],
   "source": [
    "# Définition d'un dictionnaire\n",
    "personne = {\"nom\": \"Alice\", \"age\": 30}\n",
    "autre_dict = dict(nom=\"Bob\", age=25)\n",
    "\n",
    "# Ajout et Mise à Jour\n",
    "personne[\"profession\"] = \"Développeur\""
   ]
  },
  {
   "cell_type": "code",
   "execution_count": 35,
   "metadata": {},
   "outputs": [
    {
     "name": "stdout",
     "output_type": "stream",
     "text": [
      "Clés: dict_keys(['nom', 'age', 'profession'])\n",
      "Valeurs: dict_values(['Alice', 30, 'Développeur'])\n",
      "Paires clé-valeur: dict_items([('nom', 'Alice'), ('age', 30), ('profession', 'Développeur')])\n",
      "Nom: Alice\n",
      "Ville: Non spécifiée\n",
      "\n",
      "Parcours des clés:\n",
      "nom\n",
      "age\n",
      "profession\n",
      "\n",
      "Parcours des valeurs:\n",
      "Alice\n",
      "30\n",
      "Développeur\n",
      "\n",
      "Parcours des paires clé-valeur:\n",
      "nom : Alice\n",
      "age : 30\n",
      "profession : Développeur\n",
      "\n",
      "Parcours des paires clé-valeur avec enumerate:\n",
      "Index 0: Clé = nom, Valeur = Alice\n",
      "Index 1: Clé = age, Valeur = 30\n",
      "Index 2: Clé = profession, Valeur = Développeur\n"
     ]
    }
   ],
   "source": [
    "# Utilisation de keys()\n",
    "cles = personne.keys()\n",
    "print(\"Clés:\", cles)\n",
    "\n",
    "# Utilisation de values()\n",
    "valeurs = personne.values()\n",
    "print(\"Valeurs:\", valeurs)\n",
    "\n",
    "# Utilisation de items()\n",
    "paires = personne.items()\n",
    "print(\"Paires clé-valeur:\", paires)\n",
    "\n",
    "# Utilisation de get()\n",
    "nom = personne.get(\"nom\")  # Retourne 'Alice'\n",
    "ville = personne.get(\"ville\", \"Non spécifiée\")  # Retourne 'Non spécifiée' car 'ville' n'existe pas\n",
    "print(\"Nom:\", nom)\n",
    "print(\"Ville:\", ville)\n",
    "\n",
    "# Parcours des clés\n",
    "print(\"\\nParcours des clés:\")\n",
    "for cle in personne:\n",
    "    print(cle)\n",
    "\n",
    "# Parcours des valeurs\n",
    "print(\"\\nParcours des valeurs:\")\n",
    "for valeur in personne.values():\n",
    "    print(valeur)\n",
    "\n",
    "# Parcours des paires clé-valeur\n",
    "print(\"\\nParcours des paires clé-valeur:\")\n",
    "for cle, valeur in personne.items():\n",
    "    print(cle, \":\", valeur)\n",
    "\n",
    "print(\"\\nParcours des paires clé-valeur avec enumerate:\")\n",
    "for index, (cle, valeur) in enumerate(personne.items()):\n",
    "    print(f\"Index {index}: Clé = {cle}, Valeur = {valeur}\")"
   ]
  },
  {
   "cell_type": "code",
   "execution_count": 36,
   "metadata": {},
   "outputs": [],
   "source": [
    "# Suppression\n",
    "del personne[\"age\"]\n",
    "profession = personne.pop(\"profession\")"
   ]
  },
  {
   "cell_type": "code",
   "execution_count": 37,
   "metadata": {},
   "outputs": [
    {
     "data": {
      "text/plain": [
       "{'nom': 'Alice'}"
      ]
     },
     "execution_count": 37,
     "metadata": {},
     "output_type": "execute_result"
    }
   ],
   "source": [
    "personne"
   ]
  }
 ],
 "metadata": {
  "kernelspec": {
   "display_name": "Python 3",
   "language": "python",
   "name": "python3"
  },
  "language_info": {
   "codemirror_mode": {
    "name": "ipython",
    "version": 3
   },
   "file_extension": ".py",
   "mimetype": "text/x-python",
   "name": "python",
   "nbconvert_exporter": "python",
   "pygments_lexer": "ipython3",
   "version": "3.11.7"
  }
 },
 "nbformat": 4,
 "nbformat_minor": 2
}
